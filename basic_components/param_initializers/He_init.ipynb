{
 "cells": [
  {
   "cell_type": "markdown",
   "id": "b7e7a52c",
   "metadata": {},
   "source": [
    "# He Initialization"
   ]
  },
  {
   "cell_type": "markdown",
   "id": "7cb07e47",
   "metadata": {},
   "source": [
    "It is specifically for neural networks that use the **ReLU** (Rectified Linear Unit) activation function. Its main goal is to prevent the dying ReLU problem by ensuring the variance of the outputs remains consistent across all layers during forward propagation.\n",
    "\n",
    "**He Normal:**\n",
    "\n",
    "$$std = \\sqrt{\\frac{2}{n_{input}}}$$\n",
    "\n",
    "- He initialization sets the weights of a layer by sampling them from a normal distribution with a mean of $0$ and a standard deviation of $he$\n",
    "$$ w = \\mathscr{N}(0, std)$$\n",
    "- Where {n_{input} is the number of neurons from the previous layer (input to the current layer).\n",
    "- This scaling factor is crucial because it accounts for the nature of the ReLU function, which deactivates half of the neurons (those with negative outputs) by setting their output to zero.\n",
    "- The reason for the value $2$ in the numerator is that it compensates for the \"dying\" half of the neurons, preserving the variance of the activations.\n",
    "\n",
    "- Prevents Vanishing/Exploding Gradients: By maintaining a stable variance, He initialization ensures that the gradients during backpropagation do not shrink or grow uncontrollably.\n",
    "- Theres also a He *Uniform* initialization variant.\n"
   ]
  },
  {
   "cell_type": "code",
   "execution_count": 1,
   "id": "706a2fce",
   "metadata": {},
   "outputs": [],
   "source": [
    "import numpy as np\n",
    "\n",
    "def He_init(n_in=9, n_out=1):\n",
    "\n",
    "    std_dev = np.sqrt(2 / n_in)\n",
    "    weights = np.random.randn(n_out, n_in) * std_dev\n",
    "\n",
    "    return weights"
   ]
  },
  {
   "cell_type": "code",
   "execution_count": 2,
   "id": "612af688",
   "metadata": {},
   "outputs": [
    {
     "name": "stdout",
     "output_type": "stream",
     "text": [
      "He Weights:\n",
      " [[ 0.13198133  0.32603549  0.37430198  0.12575892  0.56812518  0.38189032\n",
      "   0.64551315  0.13331553 -0.74455469]]\n"
     ]
    }
   ],
   "source": [
    "weights = He_init(n_in=9, n_out=1)\n",
    "print(\"He Weights:\\n\", weights)"
   ]
  },
  {
   "cell_type": "code",
   "execution_count": null,
   "id": "c1ddb035",
   "metadata": {},
   "outputs": [],
   "source": []
  }
 ],
 "metadata": {
  "kernelspec": {
   "display_name": "AI_env",
   "language": "python",
   "name": "python3"
  },
  "language_info": {
   "codemirror_mode": {
    "name": "ipython",
    "version": 3
   },
   "file_extension": ".py",
   "mimetype": "text/x-python",
   "name": "python",
   "nbconvert_exporter": "python",
   "pygments_lexer": "ipython3",
   "version": "3.12.9"
  }
 },
 "nbformat": 4,
 "nbformat_minor": 5
}
