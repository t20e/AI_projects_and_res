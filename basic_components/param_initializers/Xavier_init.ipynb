{
 "cells": [
  {
   "cell_type": "markdown",
   "id": "02a030a6",
   "metadata": {},
   "source": [
    "# Xavier initialization\n"
   ]
  },
  {
   "cell_type": "markdown",
   "id": "47034444",
   "metadata": {},
   "source": [
    "The Xavier initialization is an algorithm used to initialize the weights of a neural network to solve the vanishing and exploding gradients problem.\n",
    "- It initializes the weights by drawing them from a distribution with a carefully chosen variance, designed to keep the signal flowing effectively through the network.\"\n",
    "\n",
    "- Best if for when using certain activation functions like the **Softmax**, **tanh** and **sigmoid**."
   ]
  },
  {
   "cell_type": "markdown",
   "id": "5d41fdb5",
   "metadata": {},
   "source": [
    "---\n",
    "\n",
    "**Uniform Distribution:**\n",
    "\n",
    "$$x = \\sqrt{\\frac{6}{n_{inputDim} + n_{outputDim}} }$$\n",
    "\n",
    "- $n_{inputDim}$: The number of input units to the layer.\n",
    "- $n_{outputDim}$: The number of output units from the layer.\n",
    "\n",
    "- Each weight is initialized by drawing a random value from a uniform distribution in the range [-x, x]\n",
    "- By constraining the weights within a range determined by $x$, you ensure that the variance of the initial weights is controlled and is suitable for effective training.\n",
    "\n",
    "---\n",
    "**Normal Xavier Initialization**\n",
    "$$\\alpha = \\sqrt{\\frac{2}{n_{inputDim} + n_{outputDim}} }$$\n",
    "\n",
    "- Init the weights from a gaussian distribution with a mean of $0$ and a specific standard deviation, which is determined by the formula:\n",
    "- $n_{inputDim}$: The number of input units to the layer.\n",
    "- $n_{outputDim}$: The number of output units from the layer.\n",
    "  \n",
    "- Each weight is initialized by drawing a random value from a normal distribution with a mean of $0$ and a standard deviation of $\\alpha$."
   ]
  },
  {
   "cell_type": "code",
   "execution_count": 18,
   "id": "a9e64519",
   "metadata": {},
   "outputs": [],
   "source": [
    "import numpy as np\n",
    "\n",
    "def Xavier_init(n_in, n_out, use_uniform=True):\n",
    "    \"\"\"\n",
    "    Initializes a weight matrix using the Xavier algorithm.\n",
    "\n",
    "    Args:\n",
    "        n_in: The number of input neurons.\n",
    "        n_out: The number of output neurons.\n",
    "        use_uniform (bool): If True, use uniform distribution.\n",
    "                              If False, use normal distribution.\n",
    "    \"\"\"\n",
    "\n",
    "    if use_uniform:\n",
    "        # Xavier Uniform Initialization\n",
    "        limit = np.sqrt(6 / (n_in + n_out))\n",
    "        # Create the weight matrix with random values from a uniform distribution\n",
    "        weights = np.random.uniform(-limit, limit, size=(n_out, n_in))\n",
    "\n",
    "    else:\n",
    "        # Xavier Normal Initialization\n",
    "        std_dev = np.sqrt(2 / (n_in + n_out))\n",
    "        # Create weights from a normal distribution with mean 0 and calculated std_dev\n",
    "        weights = np.random.randn(n_out, n_in) * std_dev\n",
    "\n",
    "    return weights"
   ]
  },
  {
   "cell_type": "code",
   "execution_count": 19,
   "id": "ede1fe16",
   "metadata": {},
   "outputs": [
    {
     "name": "stdout",
     "output_type": "stream",
     "text": [
      "Uniform Xavier Weights:\n",
      " [[-0.17494655 -0.22389002  0.46530059  0.18174468 -0.15329114 -0.40667018\n",
      "  -0.26673887 -0.30990112 -0.34482336]]\n",
      "\n",
      "Normal Xavier Weights:\n",
      " [[ 0.08935176  0.43392185 -0.23677776 -0.65177905 -0.03343328 -0.33219696\n",
      "   0.16984359  0.1004534  -0.02954187]]\n"
     ]
    }
   ],
   "source": [
    "# Example Usage\n",
    "# Using Uniform Xavier (default)\n",
    "weights_uniform = Xavier_init(n_in=9, n_out=1, use_uniform=True)\n",
    "print(\"Uniform Xavier Weights:\\n\", weights_uniform)\n",
    "\n",
    "# Using Normal Xavier\n",
    "weights_normal = Xavier_init(n_in=9, n_out=1, use_uniform=False)\n",
    "print(\"\\nNormal Xavier Weights:\\n\", weights_normal)"
   ]
  },
  {
   "cell_type": "code",
   "execution_count": null,
   "id": "6aa0b63f",
   "metadata": {},
   "outputs": [],
   "source": []
  }
 ],
 "metadata": {
  "kernelspec": {
   "display_name": "AI_env",
   "language": "python",
   "name": "python3"
  },
  "language_info": {
   "codemirror_mode": {
    "name": "ipython",
    "version": 3
   },
   "file_extension": ".py",
   "mimetype": "text/x-python",
   "name": "python",
   "nbconvert_exporter": "python",
   "pygments_lexer": "ipython3",
   "version": "3.12.9"
  }
 },
 "nbformat": 4,
 "nbformat_minor": 5
}
