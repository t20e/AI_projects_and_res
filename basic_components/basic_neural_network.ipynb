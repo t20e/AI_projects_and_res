{
 "cells": [
  {
   "cell_type": "markdown",
   "id": "a0155d23",
   "metadata": {},
   "source": [
    "# Basic Neural Network\n",
    "\n",
    "✨ Building an NN (Neural network) requires piecing together components together to perform a particular task.\n",
    "\n",
    "- Note that for the task below, since were only counting, a basic regression model could also be used."
   ]
  },
  {
   "cell_type": "code",
   "execution_count": 1,
   "id": "0e97104c",
   "metadata": {},
   "outputs": [],
   "source": [
    "import numpy as np\n",
    "import matplotlib.pyplot as plt\n",
    "from utils.basic_nn import draw_image_cell_image\n",
    "\n",
    "# Reloads external functions when their code changes into this notebook.\n",
    "%load_ext autoreload\n",
    "%autoreload 1\n",
    "# %aimport will only reload those files\n",
    "# %aimport utils.bboxes\n",
    "%aimport utils.basic_nn"
   ]
  },
  {
   "cell_type": "markdown",
   "id": "22d528f9",
   "metadata": {},
   "source": [
    "**Task: Create a NN (Neural Network) that can count the number of black cells in a image.**"
   ]
  },
  {
   "cell_type": "markdown",
   "id": "144eb7e9",
   "metadata": {},
   "source": [
    "## Dataset\n",
    "\n",
    "- We have a $(3,3) = 9$ pixel image with black and white cells:\n",
    "    - A $0 =$ black cell, a $1 =$ white cell."
   ]
  },
  {
   "cell_type": "code",
   "execution_count": 2,
   "id": "0645a679",
   "metadata": {},
   "outputs": [
    {
     "data": {
      "text/plain": [
       "array([[1, 1, 0],\n",
       "       [1, 0, 1],\n",
       "       [1, 0, 1]])"
      ]
     },
     "execution_count": 2,
     "metadata": {},
     "output_type": "execute_result"
    }
   ],
   "source": [
    "image_array = np.array([\n",
    "    [1, 1, 0],\n",
    "    [1, 0, 1],\n",
    "    [1, 0, 1]\n",
    "])\n",
    "image_array"
   ]
  },
  {
   "cell_type": "markdown",
   "id": "afa04c07",
   "metadata": {},
   "source": [
    "Plot what the image looks like. Ignore the purple lines there just to emphasize the cells, and the 0 and 1 are just for show."
   ]
  },
  {
   "cell_type": "code",
   "execution_count": 3,
   "id": "63ebe1f6",
   "metadata": {},
   "outputs": [
    {
     "data": {
      "image/png": "[encoded data removed]",
      "text/plain": [
       "<Figure size 300x300 with 1 Axes>"
      ]
     },
     "metadata": {},
     "output_type": "display_data"
    }
   ],
   "source": [
    "draw_image_cell_image(image_array)"
   ]
  },
  {
   "cell_type": "markdown",
   "id": "3d654ff1",
   "metadata": {},
   "source": [
    "### Preprocess The Dataset\n",
    "\n",
    "**Inputs And Labels:**\n",
    "- Inputs can also be noted as ****features**** or ****x****.\n",
    "    - The input is the image_array\n",
    "    - Each pixel is a single feature.\n",
    "    - The input is what we will train the model on.\n",
    "    - Reshape the (3x3) image array into a (9, 1) vector, so we can pass it through the model.\n",
    "\n",
    "- Labels can also be noted as **target**, ****ground truth**** or ****y****.\n",
    "    - When the model makes output predictions, we will compare it to the label, the more it matches the better our model is trained on that dataset.\n",
    "  \n",
    "    - Classes (num_classes=10):\n",
    "        - Class 0: The image has 0 black cells.\n",
    "        - Class 1: The image has 1 black cell.\n",
    "        - ...\n",
    "        - Class 9: The image has 9 black cells.\n",
    "    - One-hot encode:\n",
    "      - We need to create a one-hot encoded label to represent the label\n",
    "        - Ex: $[0, 0, 0, 1, 0, 0, 0, 0, 0, 0]$\n",
    "          - The label indicates $4$ is how many black cells are in the image, since $1$ is in the third index (zero-based indexing)\n"
   ]
  },
  {
   "cell_type": "code",
   "execution_count": 4,
   "id": "ab576146",
   "metadata": {},
   "outputs": [
    {
     "name": "stdout",
     "output_type": "stream",
     "text": [
      "\n",
      "One-hot label for a count of 3:\n",
      " [[0. 0. 0. 1. 0. 0. 0. 0. 0. 0.]]\n"
     ]
    }
   ],
   "source": [
    "numBlackCells = np.count_nonzero(image_array == 0)\n",
    "\n",
    "# Create the one-hot encoded label\n",
    "num_classes = 10\n",
    "y = np.zeros((1, num_classes))\n",
    "y[0, numBlackCells] = 1\n",
    "\n",
    "print(\"\\nOne-hot label for a count of 3:\\n\", y)"
   ]
  },
  {
   "cell_type": "markdown",
   "id": "910815d5",
   "metadata": {},
   "source": [
    "Reshape the (3x3) image array into a (9, 1) vector, so we can pass it through the model."
   ]
  },
  {
   "cell_type": "code",
   "execution_count": 10,
   "id": "e06253e1",
   "metadata": {},
   "outputs": [
    {
     "name": "stdout",
     "output_type": "stream",
     "text": [
      "Flattened image input vector:\n",
      " [[1]\n",
      " [1]\n",
      " [0]\n",
      " [1]\n",
      " [0]\n",
      " [1]\n",
      " [1]\n",
      " [0]\n",
      " [1]]\n"
     ]
    }
   ],
   "source": [
    "# Flatten the image array into a 1D vector of 9 features\n",
    "flatten_image_array = image_array.flatten().reshape(-1, 1)\n",
    "print(\"Flattened image input vector:\\n\", flatten_image_array)"
   ]
  },
  {
   "cell_type": "markdown",
   "id": "e4874131",
   "metadata": {},
   "source": [
    "### Normalize\n",
    "\n",
    "- For image datasets, to make the model train faster and converge better we normalize the image data pixel values to be between $[0,1]$, \n",
    "    - Regular **greyscale** values are:\n",
    "        - $0$ value represents black and $255$ value represents white pixel.\n",
    "- However, since our image is already made of just **0s and 1s**, it's already in a small, stable range. We can skip normalization for this dataset.\n"
   ]
  },
  {
   "cell_type": "markdown",
   "id": "dfd055b0",
   "metadata": {},
   "source": [
    "## Create A Basic NN Model\n",
    "\n",
    "**Prerequisite:**\n",
    "- [Softmax](./activation_functions/softmax.ipynb)\n",
    "\n",
    "**Network:**\n",
    "<p align=\"center\">\n",
    "    <img src=\"./showcase_images/network_with_10_outputs.png\" alt=\"logistic regression network\" width=\"80%\">\n",
    "</p>"
   ]
  },
  {
   "cell_type": "markdown",
   "id": "70a7d8dc",
   "metadata": {},
   "source": [
    "Network description:\n",
    "- The input layer has $9$ neurons one for each pixel then $x_n$ and $w_n$ would be $x_{9}$ and $w_{9}$\n",
    "    - $x_1$ = is the first pixel of the image.\n",
    "    - $x_2$ = is the second pixel.\n",
    "    - $x_{n} = x_{9}$ = is the $9'th$ pixel.\n",
    "\n",
    "    - $w_n = $ 9, to match the input features.\n",
    "\n",
    "- The output has $10$ neurons, one for each possible count (0 through 9).\n",
    "  - Example: An image can have a max of $9$ black pixels and a minimal of $0$ black pixels, we want the model to predict a number between $[0,9]$\n",
    "    - $[0.1, 0.0, 0.4, 0.0, 0.0, 0.1, 0.2, 0.2, 0.0, 0.0]$\n",
    "      - $0.4$ is the highest value the model predicted that. \n",
    "        - $0.4$ is in the second index (zero-based indexing) so that means the model predicts that the number of black pixels in the image is $2$.\n",
    "\n",
    "Train Steps:\n",
    "1. Forward propagation. Where we train the model\n",
    "2. Backward propagation. Where we update the model to make it make more acret"
   ]
  },
  {
   "cell_type": "markdown",
   "id": "611d87c3",
   "metadata": {},
   "source": [
    "#### Learned Parameters\n",
    "\n",
    "`w` (weights) & `b` (bias).\n",
    "- `w:`\n",
    "    -  Each weight neuron determine the importance or influence of each input feature on the neuron's output. Each feature/pixel has a corresponding weight w. A large weight means that a change in the input will have a significant impact on the output.\n",
    "\n",
    "    - In this network each weight node is connected to every input neuron.\n",
    "\n",
    "    - The w has the same number of **neurons** as an input sample.\n",
    "        - A sample is one example of a dataset, for this example dataset, we only have one image, so we have one sample.\n",
    "\n",
    "    - Randomly initializing the weights. This is crucial to break symmetry, which ensures that each weight neuron learns a unique function.\n",
    "        - We are using the [Xavier Initialization](./param_initializers/Xavier_init.ipynb), but there are other initialization algorithms such as the [He algorithm](./param_initializers/He_init.ipynb). \n",
    "        - If all weights were initialized to the same value like $0$, all neurons in a layer would learn the exact same thing, making the network ineffective.\n",
    "\n",
    "- `b:`\n",
    "    - This is a constant value added to the linear combination of inputs and weights. It allows the model to shift the activation function curve to the left or right, independent of the input values. The bias essentially gives the neuron a degree of flexibility, allowing it to fire even if all inputs are zero or to not fire even if there are high inputs.\n",
    "    - Bias can be initialized to be 0."
   ]
  },
  {
   "cell_type": "code",
   "execution_count": 11,
   "id": "b362bbb2",
   "metadata": {},
   "outputs": [],
   "source": [
    "def init_weights_and_bias(n_in=9, n_out=1):\n",
    "    \"\"\"\n",
    "    Initialize the weights and bias. Initializing the weights using the Xavier algorithm, set bias scalar to be zero.\n",
    "\n",
    "    Args:\n",
    "        n_in: The total number of input features/neurons, this dataset its 9 pixels.\n",
    "        n_out: The total number of output neurons, since this network is just a input to output network, meaning we have no layers, we use 1 n_out which then gets sigmoid applied to it, to get the models output.\n",
    "\n",
    "    returns:\n",
    "        w : weights array\n",
    "        b : scalar\n",
    "    \"\"\"\n",
    "    # Xavier Uniform Initialization, note theres also a Xavier Normal Initialization.\n",
    "    limit = np.sqrt(6 / (n_in + n_out))\n",
    "    # Create the weight matrix with random values from a uniform distribution\n",
    "    w = np.random.uniform(-limit, limit, size=(n_out, n_in))\n",
    "\n",
    "    # Initialize bias (b) to zeros\n",
    "    b = np.zeros((1, n_out))\n",
    "    return w, b"
   ]
  },
  {
   "cell_type": "code",
   "execution_count": 12,
   "id": "4363c567",
   "metadata": {},
   "outputs": [
    {
     "data": {
      "text/plain": [
       "(array([[ 0.06495111, -0.55464097,  0.36804813,  0.47925215,  0.52715839,\n",
       "         -0.28084445,  0.52096595,  0.20128627, -0.0256567 ],\n",
       "        [-0.3516144 , -0.30104466,  0.20563233, -0.03103297,  0.40187344,\n",
       "          0.48877552,  0.47548505, -0.39950541,  0.26568792],\n",
       "        [-0.33191267,  0.26956716,  0.28342505, -0.27356339,  0.09376107,\n",
       "         -0.46267874,  0.04364748, -0.11047292,  0.44786794],\n",
       "        [-0.3973079 , -0.08742557,  0.05364788, -0.54560155, -0.15290978,\n",
       "          0.39185526, -0.42761787,  0.31210657, -0.09388759],\n",
       "        [ 0.1541925 ,  0.25519112,  0.17883092, -0.53416436, -0.52456117,\n",
       "         -0.25541772,  0.08643212, -0.09665057, -0.45765328],\n",
       "        [-0.44420232,  0.15138703, -0.09560852,  0.31813356,  0.45644259,\n",
       "          0.2794617 , -0.15958103, -0.49730656,  0.41348808],\n",
       "        [ 0.10322178,  0.32293196, -0.07608702,  0.13948773,  0.17968399,\n",
       "         -0.27300098, -0.23220257,  0.1204129 ,  0.16643176],\n",
       "        [-0.07384989,  0.26890124,  0.52105352, -0.48579264, -0.2402108 ,\n",
       "          0.01209187, -0.07392864,  0.48026374, -0.04129343],\n",
       "        [-0.09086983, -0.50735428, -0.37334031, -0.25059846, -0.45295178,\n",
       "          0.25540356,  0.10808401,  0.11670636, -0.47068147],\n",
       "        [ 0.12899852, -0.35720694,  0.07720997, -0.43464336,  0.28327953,\n",
       "         -0.08920056, -0.24248016, -0.47152155, -0.20957628]]),\n",
       " array([[0., 0., 0., 0., 0., 0., 0., 0., 0., 0.]]))"
      ]
     },
     "execution_count": 12,
     "metadata": {},
     "output_type": "execute_result"
    }
   ],
   "source": [
    "w, b = init_weights_and_bias(n_in=9, n_out=10) # softmax function expects 10\n",
    "w, b"
   ]
  },
  {
   "cell_type": "code",
   "execution_count": 13,
   "id": "2d153cad",
   "metadata": {},
   "outputs": [
    {
     "data": {
      "text/plain": [
       "((10, 9), (1, 10))"
      ]
     },
     "execution_count": 13,
     "metadata": {},
     "output_type": "execute_result"
    }
   ],
   "source": [
    "w.shape, b.shape"
   ]
  },
  {
   "cell_type": "markdown",
   "id": "e4c2ea31",
   "metadata": {},
   "source": [
    "- The weights `w` have a shape of **(10, 9)**. This represents the 10 output neurons, each connected to all 9 input pixels. The bias `b` has a shape of **(1, 10)**, with one bias value for each output neuron."
   ]
  },
  {
   "cell_type": "markdown",
   "id": "70aa20b3",
   "metadata": {},
   "source": [
    "### Forward Propagation\n",
    "\n",
    "$$z^{(i)} = w * x^{(i)}+ b$$\n",
    "\n",
    "$$\\hat{y}^{(i)} = a^{(i)} = \\sigma(z^{(i)}) = sigmoid(z^{(i)})$$\n",
    "\n",
    "- **Notes:** \n",
    "    - $a^{(i)} $ & $ \\sigma(z^{(i)})$ & $sigmoid(z^{(i)})$ mean the same thing, its just different ways that you might see it annotated.\n",
    "    - $^{(i)}$ means its for one example/sample, the dataset we have only has 1 image, so that is our one sample:\n",
    "\n",
    "    - **Compute Linear**:\n",
    "      - $W$ is the weights.\n",
    "      - $b$ is the bias.\n",
    "      - Calculate the scores (logits) for each of the 10 classes\n",
    "\n",
    "    - **Compute non-linear activation:**\n",
    "      - Apply [$softmax()$](./activation_functions/softmax.ipynb) to the $Z$ to convert those (logits) scores into probabilities."
   ]
  },
  {
   "cell_type": "code",
   "execution_count": 14,
   "id": "99625c6a",
   "metadata": {},
   "outputs": [],
   "source": [
    "def linear(x, w, b):\n",
    "    \"\"\"\n",
    "    Performs a forward pass of the network.\n",
    "    \n",
    "    Args:\n",
    "        x: Input data, shape (9, 1)\n",
    "        w: Weights, shape (10, 9)\n",
    "        b: Bias, shape (1, 10)\n",
    "    \"\"\"\n",
    "    # Note: We transpose x to (1, 9) to match bias shape (1, 10)\n",
    "    # The dot product w @ x.T results in shape (10, 1)\n",
    "    # So we transpose the result to (1, 10) before adding the bias\n",
    "    z = (w @ x).T + b\n",
    "    return z"
   ]
  },
  {
   "cell_type": "code",
   "execution_count": 15,
   "id": "f33d7ecb",
   "metadata": {},
   "outputs": [
    {
     "data": {
      "text/plain": [
       "array([[ 0.20402709,  0.54625646, -0.30707221, -1.15998522, -0.75141963,\n",
       "         0.55868702,  0.22686968, -0.3938715 , -0.95601646, -1.20410878]])"
      ]
     },
     "execution_count": 15,
     "metadata": {},
     "output_type": "execute_result"
    }
   ],
   "source": [
    "z = linear(x=flatten_image_array, w=w, b=b)\n",
    "z"
   ]
  },
  {
   "cell_type": "markdown",
   "id": "2fda1f25",
   "metadata": {},
   "source": [
    "**Activation Function**"
   ]
  },
  {
   "cell_type": "code",
   "execution_count": 16,
   "id": "b83819d0",
   "metadata": {},
   "outputs": [],
   "source": [
    "def softmax(z):\n",
    "    \"\"\"Applies the softmax activation function.\"\"\"\n",
    "    # Subtract max for numerical stability\n",
    "    exp_z = np.exp(z - np.max(z))\n",
    "    return exp_z / np.sum(exp_z)"
   ]
  },
  {
   "cell_type": "code",
   "execution_count": 17,
   "id": "6fd0eaba",
   "metadata": {},
   "outputs": [
    {
     "data": {
      "text/plain": [
       "array([[0.13879191, 0.19543056, 0.08325236, 0.0354798 , 0.05338496,\n",
       "        0.19787503, 0.14199876, 0.07633085, 0.04350745, 0.03394834]])"
      ]
     },
     "execution_count": 17,
     "metadata": {},
     "output_type": "execute_result"
    }
   ],
   "source": [
    "probabilities = softmax(z)\n",
    "probabilities"
   ]
  },
  {
   "cell_type": "code",
   "execution_count": null,
   "id": "652cb054",
   "metadata": {},
   "outputs": [],
   "source": [
    "# The highest probability is our predicted class (the count of black cells)\n",
    "predicted_count = np.argmax(probabilities)"
   ]
  },
  {
   "cell_type": "code",
   "execution_count": 21,
   "id": "f7a35529",
   "metadata": {},
   "outputs": [
    {
     "name": "stdout",
     "output_type": "stream",
     "text": [
      "Output Probabilities (y_hat):\n",
      " [[0.13879191 0.19543056 0.08325236 0.0354798  0.05338496 0.19787503\n",
      "  0.14199876 0.07633085 0.04350745 0.03394834]]\n",
      "\n",
      "Model predicted: 5 vs real number of black cells: 3\n"
     ]
    }
   ],
   "source": [
    "print(\"Output Probabilities (y_hat):\\n\", probabilities)\n",
    "print(\"\\nModel predicted:\", predicted_count, \"vs real number of black cells:\", numBlackCells)"
   ]
  },
  {
   "cell_type": "markdown",
   "id": "5405b900",
   "metadata": {},
   "source": [
    "Now lets perform backpropagation to improve the prediction."
   ]
  },
  {
   "cell_type": "markdown",
   "id": "6c048d10",
   "metadata": {},
   "source": [
    "### Backward Propagation\n",
    "backward propagation: use Stochastic Gradient Descent (SGD) "
   ]
  },
  {
   "cell_type": "markdown",
   "id": "917aa0b8",
   "metadata": {},
   "source": [
    "TODO"
   ]
  },
  {
   "cell_type": "code",
   "execution_count": null,
   "id": "825136af",
   "metadata": {},
   "outputs": [],
   "source": []
  },
  {
   "cell_type": "markdown",
   "id": "b13ca0d5",
   "metadata": {},
   "source": [
    "TODO Model performs terrible, but it has so far only seen the image once, lets make it see the image more than."
   ]
  }
 ],
 "metadata": {
  "kernelspec": {
   "display_name": "AI_env",
   "language": "python",
   "name": "python3"
  },
  "language_info": {
   "codemirror_mode": {
    "name": "ipython",
    "version": 3
   },
   "file_extension": ".py",
   "mimetype": "text/x-python",
   "name": "python",
   "nbconvert_exporter": "python",
   "pygments_lexer": "ipython3",
   "version": "3.12.9"
  }
 },
 "nbformat": 4,
 "nbformat_minor": 5
}
