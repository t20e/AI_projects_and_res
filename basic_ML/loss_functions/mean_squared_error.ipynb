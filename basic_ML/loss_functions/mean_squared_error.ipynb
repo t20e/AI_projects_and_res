{
 "cells": [
  {
   "cell_type": "markdown",
   "id": "c9b7c793",
   "metadata": {},
   "source": [
    "# Mean Squared Error"
   ]
  },
  {
   "cell_type": "markdown",
   "id": "a340550f",
   "metadata": {},
   "source": [
    "- Mean squared error (MSE) is a loss metric used to measure the average squared difference between the predicted values and the actual values in the dataset, i.e., assess how well the model's predictions were."
   ]
  },
  {
   "cell_type": "markdown",
   "id": "2ab02b55",
   "metadata": {},
   "source": [
    "$$ Mean Squared Error = \\frac{1}{n} \\sum_{i=1}^n (Y_i - \\hat{Y}_i)^2 $$\n",
    "\n",
    "- $n$ is the number of samples in the dataset,\n",
    "     - Samples: If we have a dataset of cats and their corresponding labels, one cat/label is one sample.\n",
    "- $Y_i$ is the ground truth value.\n",
    "- $\\hat{Y}_i$ is the predicted value of the ith sample."
   ]
  },
  {
   "cell_type": "markdown",
   "id": "9440212d",
   "metadata": {},
   "source": [
    "**MSE Score:**\n",
    "- The goal is to minimize the MSE score.\n",
    "- A low MSE score indicates the model's prediction are close to the ground truth value, while a high loss indicates the model is not performing well. \n",
    "\n",
    "- How to tell what a good MSE score is:\n",
    "    - A 'good' MSE score can vary depending on the task, MSE is always relative to the scale of your target values.\n",
    "    - Examples:\n",
    "        - If you're predicting prices of houses that range from $200,000 to $500,000, an MSE of $1,000 would be considered incredibly low and indicate an excellent model. An MSE of $1.0 would be virtually impossible to achieve.\n",
    "\n",
    "        - If you're predicting a value between 0 and 1 (e.g., a probability score), then an MSE of 1.0 would be an extremely high loss, indicating the model is performing very poorly, and < ~0.2 indicates a good score."
   ]
  },
  {
   "cell_type": "markdown",
   "id": "ac937635",
   "metadata": {},
   "source": [
    "The `target` is the ground truth values from the dataset. It can also be noted as the $Y$ or $label$."
   ]
  },
  {
   "cell_type": "code",
   "execution_count": 74,
   "id": "a363da99",
   "metadata": {},
   "outputs": [],
   "source": [
    "num_samples = 3"
   ]
  },
  {
   "cell_type": "code",
   "execution_count": 75,
   "id": "2364b83f",
   "metadata": {},
   "outputs": [
    {
     "data": {
      "text/plain": [
       "[12, 45, 10]"
      ]
     },
     "execution_count": 75,
     "metadata": {},
     "output_type": "execute_result"
    }
   ],
   "source": [
    "target = [12, 45, 10] # num_samples = 3\n",
    "target"
   ]
  },
  {
   "cell_type": "markdown",
   "id": "6659b363",
   "metadata": {},
   "source": [
    "`pred`: the models prediction."
   ]
  },
  {
   "cell_type": "code",
   "execution_count": 76,
   "id": "3fd36f87",
   "metadata": {},
   "outputs": [
    {
     "data": {
      "text/plain": [
       "[10, 50, 10]"
      ]
     },
     "execution_count": 76,
     "metadata": {},
     "output_type": "execute_result"
    }
   ],
   "source": [
    "pred = [10, 50, 10] # num_samples = 3\n",
    "pred"
   ]
  },
  {
   "cell_type": "markdown",
   "id": "3e75f729",
   "metadata": {},
   "source": [
    "### Intuitive Understanding"
   ]
  },
  {
   "cell_type": "markdown",
   "id": "0c0a327d",
   "metadata": {},
   "source": [
    "`first_sample` $ = (12-10)^2 = 4$"
   ]
  },
  {
   "cell_type": "code",
   "execution_count": 77,
   "id": "7cf6e950",
   "metadata": {},
   "outputs": [
    {
     "data": {
      "text/plain": [
       "4"
      ]
     },
     "execution_count": 77,
     "metadata": {},
     "output_type": "execute_result"
    }
   ],
   "source": [
    "first_sample = (target[0] - pred[0])**2\n",
    "first_sample"
   ]
  },
  {
   "cell_type": "markdown",
   "id": "18a656ee",
   "metadata": {},
   "source": [
    "`second_sample` $ = (45-50)^2 = (-5)^2 = 25$"
   ]
  },
  {
   "cell_type": "code",
   "execution_count": 78,
   "id": "c6b055b3",
   "metadata": {},
   "outputs": [
    {
     "data": {
      "text/plain": [
       "25"
      ]
     },
     "execution_count": 78,
     "metadata": {},
     "output_type": "execute_result"
    }
   ],
   "source": [
    "second_sample = (target[1] - pred[1])**2\n",
    "second_sample"
   ]
  },
  {
   "cell_type": "markdown",
   "id": "e22ef44b",
   "metadata": {},
   "source": [
    "`third_sample` $ = (10-10)^2 = 0$"
   ]
  },
  {
   "cell_type": "code",
   "execution_count": 79,
   "id": "85ba3104",
   "metadata": {},
   "outputs": [
    {
     "data": {
      "text/plain": [
       "0"
      ]
     },
     "execution_count": 79,
     "metadata": {},
     "output_type": "execute_result"
    }
   ],
   "source": [
    "third_sample = (target[2] - pred[2])**2 \n",
    "third_sample"
   ]
  },
  {
   "cell_type": "markdown",
   "id": "467685ca",
   "metadata": {},
   "source": [
    "`Take the average of the squared differences`"
   ]
  },
  {
   "cell_type": "code",
   "execution_count": 85,
   "id": "a7b0abc2",
   "metadata": {},
   "outputs": [
    {
     "data": {
      "text/plain": [
       "'MSE SCORE: 9.666666666666666'"
      ]
     },
     "execution_count": 85,
     "metadata": {},
     "output_type": "execute_result"
    }
   ],
   "source": [
    "score = (first_sample + second_sample + third_sample)/num_samples\n",
    "f\"MSE SCORE: {score}\""
   ]
  },
  {
   "cell_type": "markdown",
   "id": "8b1f2ed2",
   "metadata": {},
   "source": [
    "### MSE Function\n",
    "\n",
    "- All in function"
   ]
  },
  {
   "cell_type": "code",
   "execution_count": 90,
   "id": "ae19e57c",
   "metadata": {},
   "outputs": [
    {
     "data": {
      "text/plain": [
       "(array([12, 45, 10]), array([10, 50, 10]))"
      ]
     },
     "execution_count": 90,
     "metadata": {},
     "output_type": "execute_result"
    }
   ],
   "source": [
    "import numpy as np\n",
    "\n",
    "# convert to numpy arrays\n",
    "target = np.array(target)\n",
    "pred = np.array(pred)\n",
    "target, pred"
   ]
  },
  {
   "cell_type": "code",
   "execution_count": 93,
   "id": "1aed09a9",
   "metadata": {},
   "outputs": [],
   "source": [
    "def MSE(target, pred):\n",
    "    # Calculate the difference between the target and predicted values\n",
    "    squared_diff = np.power((target - pred), 2)\n",
    "    \n",
    "    # Calculate the mean of the squared differences\n",
    "    mse = np.mean(squared_diff)\n",
    "    return f\"MSE Score: {mse}\""
   ]
  },
  {
   "cell_type": "code",
   "execution_count": 94,
   "id": "229c28f4",
   "metadata": {},
   "outputs": [
    {
     "data": {
      "text/plain": [
       "'MSE Score: 9.666666666666666'"
      ]
     },
     "execution_count": 94,
     "metadata": {},
     "output_type": "execute_result"
    }
   ],
   "source": [
    "MSE(target=target, pred=pred)"
   ]
  },
  {
   "cell_type": "markdown",
   "id": "1a37a42b",
   "metadata": {},
   "source": [
    "`Lowering the score`\n",
    "\n",
    "- Reduce the second samples prediction from 50 to 47, this makes it match closer to the second samples ground truth target 45."
   ]
  },
  {
   "cell_type": "code",
   "execution_count": 99,
   "id": "de41f274",
   "metadata": {},
   "outputs": [
    {
     "data": {
      "text/plain": [
       "'MSE Score: 2.6666666666666665'"
      ]
     },
     "execution_count": 99,
     "metadata": {},
     "output_type": "execute_result"
    }
   ],
   "source": [
    "new_pred = [10, 47, 10]\n",
    "MSE(target=target, pred=new_pred)"
   ]
  },
  {
   "cell_type": "code",
   "execution_count": null,
   "id": "06ccc462",
   "metadata": {},
   "outputs": [],
   "source": []
  }
 ],
 "metadata": {
  "kernelspec": {
   "display_name": "torch_env",
   "language": "python",
   "name": "python3"
  },
  "language_info": {
   "codemirror_mode": {
    "name": "ipython",
    "version": 3
   },
   "file_extension": ".py",
   "mimetype": "text/x-python",
   "name": "python",
   "nbconvert_exporter": "python",
   "pygments_lexer": "ipython3",
   "version": "3.11.11"
  }
 },
 "nbformat": 4,
 "nbformat_minor": 5
}
