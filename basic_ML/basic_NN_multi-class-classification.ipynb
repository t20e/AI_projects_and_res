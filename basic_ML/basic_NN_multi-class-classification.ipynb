{
 "cells": [
  {
   "cell_type": "markdown",
   "id": "701b4193",
   "metadata": {},
   "source": [
    "## Multi-Class Classification <span id=\"multi_class_classification\"><span>"
   ]
  },
  {
   "cell_type": "markdown",
   "id": "c7ce5dec",
   "metadata": {},
   "source": [
    "`Goal`: Build a NN that can perform multi-class classification.\n",
    "\n",
    "Examples:\n",
    "- Predict if a hand-drawn number on an image is between numbers [0-9].\n",
    "- Predict if an image is a [horse, cow, dog, and many more classes]."
   ]
  },
  {
   "cell_type": "markdown",
   "id": "f7ea285d",
   "metadata": {},
   "source": [
    "This is built on the [basic_NN_binary_classification classification](./basic_NN_binary_classification.ipynb)\n",
    "\n",
    "- A binary classifier: Predicts a value between 0 and 1, that we can round to get if model predicted 0 or 1.\n",
    "- A multi-class classifier: Predicts between many, e.g, [0, 1, 2, 3 etc...] or [cat or dog or bird or dinosaur]\n",
    "\n",
    "🛠️ **To convert a binary classifier into a multi-class classifier do following:**\n",
    "1. Change the size of the models output.\n",
    "    - Binary classifier outputs 1 value a number between 0 and 1.\n",
    "    - But now we need the model to output the same size as what we are trying to predict for [cat or dog or bird or dinosaur] we need output size of [0.2, 0.1, 0.6, 0.1].\n",
    "2. Replace the sigmoid function to Softmax function.\n",
    "    - $Softmax$ Converts a vector of numbers into a probability distribution, where all the output values sum to 1.\n",
    "        -  In classifying images of cats, dogs, and birds, softmax would output a probability for each class (e.g., [0.1, 0.8, 0.1], indicating an 80% probability it's a dog).\n",
    "        - For this projects MNIST dataset the model needs to predict if a hand-drawn number is a value [0-9]\n",
    "            - Example output would be $[0.0, 0.1, 0.2, 0.5, 0.0, 0.0, 0.0, 0.1, 0.1, 0.0]$\n",
    "                - Predicted value would be the one with the highest prediction $[0.5] which is the index $3$ meaning the model predicts the hand-drawn number to be $3$.\n",
    "\n",
    "\n",
    "**Vocab:**\n",
    "- Samples: One sample means having one image and its corresponding label."
   ]
  },
  {
   "cell_type": "markdown",
   "id": "63bbe743",
   "metadata": {},
   "source": [
    "⭐️ **Note:** The model is predicting on images but for the current SOTA (state of the art) applications you typically want to use CNN architectures for image detection, but even those architectures have layers that are fully connected layers which are a fundamental component of neural networks. Moreover my model can only predict one class in one image where CNN models typically predict many classes/objects in one image."
   ]
  },
  {
   "cell_type": "code",
   "execution_count": 1,
   "id": "e9f3c45e",
   "metadata": {},
   "outputs": [
    {
     "name": "stdout",
     "output_type": "stream",
     "text": [
      "Using MPS device (Apple Silicon GPU)\n"
     ]
    }
   ],
   "source": [
    "# Import libraries.\n",
    "import torch\n",
    "import matplotlib.pyplot as plt\n",
    "import numpy as np\n",
    "\n",
    "# Get available GPU device.\n",
    "if torch.cuda.is_available():\n",
    "    DEVICE = torch.device(\"cuda\")\n",
    "    print(f\"Using CUDA device: {torch.cuda.get_device_name(DEVICE)}\")\n",
    "elif torch.backends.mps.is_available():\n",
    "    DEVICE = torch.device(\"mps\")\n",
    "    print(\"Using MPS device (Apple Silicon GPU)\")\n",
    "else:\n",
    "    DEVICE = torch.device(\"cpu\")\n",
    "    print(\"Using CPU device\")"
   ]
  },
  {
   "cell_type": "markdown",
   "id": "c554e001",
   "metadata": {},
   "source": [
    "## Download the MNIST Dataset\n",
    "\n",
    "- The `torch MNIST` database of handwritten digits has a training set of 60,000 examples, and a test set of 10,000 examples. .\n",
    "- Drawn numbers from 0 to 9.\n",
    "- Each image is `grey-scale` with 28x28 pixels. This means each pixel has a value representing its intensity (from 0 for black to 255 for white).\n",
    "\n",
    "1. Download the MNIST dataset (~109.9 MB) from [kaggle](https://www.kaggle.com/datasets/hojjatk/mnist-dataset/data) \n",
    "2. Rename the zip file to MNIST.zip\n",
    "3. Move the zip file to ./datasets and extract.\n",
    "```tree\n",
    "    datasets\n",
    "        └── MNIST\n",
    "            ├── t10k-images-idx3-ubyte\n",
    "            ├── t10k-labels-idx1-ubyte\n",
    "            ├── train-images-idx3-ubyte\n",
    "            └── train-labels-idx1-ubyte\n",
    "```\n",
    "\n",
    "The images and labels files are in `binary format`."
   ]
  },
  {
   "cell_type": "markdown",
   "id": "5f053e00",
   "metadata": {},
   "source": [
    "### Extract And Load The Dataset From The Binary Files\n",
    "\n",
    "Get the images and label data for the training and test sets."
   ]
  },
  {
   "cell_type": "code",
   "execution_count": 2,
   "id": "741938a1",
   "metadata": {},
   "outputs": [],
   "source": [
    "import os\n",
    "# import utility methods\n",
    "from utils.parse_binary import parse_idx_images, parse_idx_labels\n",
    "import matplotlib.pyplot as plt"
   ]
  },
  {
   "cell_type": "code",
   "execution_count": 3,
   "id": "2fadd2ea",
   "metadata": {},
   "outputs": [],
   "source": [
    "# The classes that we want the model to predict in this case hand-drawn numbers.\n",
    "classes = [0, 1, 2, 3, 4, 5, 6, 7, 8, 9]"
   ]
  },
  {
   "cell_type": "code",
   "execution_count": 4,
   "id": "094b69ef",
   "metadata": {},
   "outputs": [
    {
     "name": "stdout",
     "output_type": "stream",
     "text": [
      "Loading training images...\n",
      "Train images shape: (Num samples, Height, Width) -> (60000, 28, 28)\n",
      "Loading training labels...\n",
      "Train labels shape: (60000,) (Num samples)\n",
      "\n",
      "Loading test images...\n",
      "Test images shape: (Num samples, Height, Width) -> (10000, 28, 28)\n",
      "Loading test labels...\n",
      "Test labels shape: (10000,) (Num samples)\n",
      "\n",
      "Data loaded successfully into NumPy arrays!\n"
     ]
    },
    {
     "data": {
      "image/png": "[encoded data removed]",
      "text/plain": [
       "<Figure size 640x480 with 1 Axes>"
      ]
     },
     "metadata": {},
     "output_type": "display_data"
    }
   ],
   "source": [
    "archive_path = './datasets/MNIST'\n",
    "\n",
    "# File paths\n",
    "train_images_path = os.path.join(archive_path, 'train-images-idx3-ubyte/train-images-idx3-ubyte')\n",
    "train_labels_path = os.path.join(archive_path, 'train-labels-idx1-ubyte/train-labels-idx1-ubyte')\n",
    "t10k_images_path = os.path.join(archive_path, 't10k-images-idx3-ubyte/t10k-images-idx3-ubyte')\n",
    "t10k_labels_path = os.path.join(archive_path, 't10k-labels-idx1-ubyte/t10k-labels-idx1-ubyte')\n",
    "\n",
    "# --- Get the data into your notebook ---\n",
    "print(\"Loading training images...\")\n",
    "train_images = parse_idx_images(train_images_path)\n",
    "print(f\"Train images shape: (Num samples, Height, Width) -> {train_images.shape}\") \n",
    "\n",
    "print(\"Loading training labels...\")\n",
    "train_labels = parse_idx_labels(train_labels_path)\n",
    "print(f\"Train labels shape: {train_labels.shape} (Num samples)\") \n",
    "\n",
    "print(\"\\nLoading test images...\")\n",
    "test_images = parse_idx_images(t10k_images_path)\n",
    "print(f\"Test images shape: (Num samples, Height, Width) -> {test_images.shape}\")\n",
    "\n",
    "print(\"Loading test labels...\")\n",
    "test_labels = parse_idx_labels(t10k_labels_path)\n",
    "print(f\"Test labels shape: {test_labels.shape} (Num samples)\")\n",
    "\n",
    "print(\"\\nData loaded successfully into NumPy arrays!\")\n",
    "\n",
    "# --- Display an image to verify ---\n",
    "plt.imshow(train_images[0], cmap='gray')\n",
    "plt.title(f\"(label) Drawn Number: {train_labels[0]}\")\n",
    "plt.axis('off')\n",
    "plt.show()"
   ]
  },
  {
   "cell_type": "markdown",
   "id": "660152f1",
   "metadata": {},
   "source": [
    "The `train_images` has a shape of (60000, 28, 28) -> each image is 28x28 pixels and the train set contains 60000 images"
   ]
  },
  {
   "cell_type": "code",
   "execution_count": 5,
   "id": "0fd91026",
   "metadata": {},
   "outputs": [
    {
     "data": {
      "text/plain": [
       "(28, 28)"
      ]
     },
     "execution_count": 5,
     "metadata": {},
     "output_type": "execute_result"
    }
   ],
   "source": [
    "train_images[0].shape"
   ]
  },
  {
   "cell_type": "markdown",
   "id": "df0935c8",
   "metadata": {},
   "source": [
    "One single image tensor has a shape of (28, 28), which mean that image has a total node (i.e tensor values) count: $ 28 * 28 = 784 $ nodes. "
   ]
  },
  {
   "cell_type": "code",
   "execution_count": 6,
   "id": "2fb71db1",
   "metadata": {},
   "outputs": [
    {
     "data": {
      "text/plain": [
       "(60000,)"
      ]
     },
     "execution_count": 6,
     "metadata": {},
     "output_type": "execute_result"
    }
   ],
   "source": [
    "train_labels.shape"
   ]
  },
  {
   "cell_type": "code",
   "execution_count": 7,
   "id": "04f495e8",
   "metadata": {},
   "outputs": [
    {
     "data": {
      "text/plain": [
       "array([5, 0, 4, ..., 5, 6, 8], dtype=uint8)"
      ]
     },
     "execution_count": 7,
     "metadata": {},
     "output_type": "execute_result"
    }
   ],
   "source": [
    "train_labels"
   ]
  },
  {
   "cell_type": "markdown",
   "id": "b6061f80",
   "metadata": {},
   "source": [
    "The `train_labels` has a shape of (60000,) a 1D tensor with 60000 values of [0-9] -> It contains the labels for the 60,000 train_images.\n",
    "- train_labels = [5, 0, 4, ..., 5, 6, 8]\n",
    "    - The first 5 in array means the first image has a 5 drawn on it, the 0 means the second image has a zero drawn on it and so forth."
   ]
  },
  {
   "cell_type": "markdown",
   "id": "91f2b44c",
   "metadata": {},
   "source": [
    "### Pre-Process the Dataset\n",
    "\n",
    "We need to pre-process the dataset so that we can pass it through our Neural Network that we will build later on.\n",
    "- Process Labels: We need a `one-hot` tensor encoding of the label data.\n",
    "    - The images in the dataset can have a label of value between `0-9`. So we make an array like so.\n",
    "        - [0, 0, 0, 0, 0, 0, 0, 0, 0, 0]\n",
    "        - Whatever the image value is will have a value of 1 added to its index.\n",
    "        - For Example: An image has a 3 drawn on it, its labeled data tensor will look like:\n",
    "            - [0, 0, 0, 1, 0, 0, 0, 0, 0, 0]\n",
    "            - Note: Indexing starts at zero.\n",
    "        - Another example: An image has a 9 drawn on it, its labeled data tensor will look like:\n",
    "            - [0, 0, 0, 0, 0, 0, 0, 0, 0, 1]\n",
    "\n",
    "- Process Images:\n",
    "    - Note that since the images are in grey-scale values they will only have 1 color channel while an RGB image will have 3 color channels. \n",
    "        - Ex:\n",
    "            <img src=\"./showcase_images/RGB-vs-greyscale.png\" width=\"150px\">\n",
    "    - The pixel values will be between 0-255 (0 for black to 255 for white). We will `normalize` the pixel values to be between 0-1 which will greatly improve how well and how fast our NN trains.\n",
    "    - **Features:** Each pixel in one image is a feature, So one image has a $pixel*pixel*channel$ -> = $28*28*1=784features$.\n",
    "\n",
    "- Classes: \n",
    "    - In this dataset we are trying to predict a hand-drawn number from [0-9] so the array that the model needs to see is [0, 0, 0, 0, 0, 0, 0, 0, 0, 1] where 1 is the index of the hand-drawn number [9]. That array is also the **classes** of this dataset. The model will output the same tensor shape, however with float values:\n",
    "        - $[0.00055817, 0.0015173, 0.030475, 0.0015173, 0.0041243, 0.011211, 0.030475, 0.082839, 0.22518, 0.6121]$\n",
    "            - These values summed add up to $1$.\n",
    "            - The index with the highest values is what the model predicts to be the drawn number.\n",
    "                - This case $0.6121$ is the highest so 9 is the predicted hand-drawn number."
   ]
  },
  {
   "cell_type": "markdown",
   "id": "df554972",
   "metadata": {},
   "source": [
    "`Process the labels.`"
   ]
  },
  {
   "cell_type": "code",
   "execution_count": 8,
   "id": "5d32f188",
   "metadata": {},
   "outputs": [],
   "source": [
    "# Determine the number of classes (for MNIST, it's 10)\n",
    "num_classes = 10 # -> [0, 1, 2, 3, 4, 5, 6, 7, 8, 9] hand draw numbers\\\n",
    "# For the TRAIN labels\n",
    "one_hot_train_labels = np.zeros((train_labels.size, num_classes))\n",
    "one_hot_train_labels[np.arange(train_labels.size), train_labels] = 1\n",
    "\n",
    "# For the TEST labels\n",
    "one_hot_test_labels = np.zeros((test_labels.size, num_classes))\n",
    "one_hot_test_labels[np.arange(test_labels.size), test_labels] = 1"
   ]
  },
  {
   "cell_type": "code",
   "execution_count": 9,
   "id": "c961077c",
   "metadata": {},
   "outputs": [
    {
     "data": {
      "text/plain": [
       "('one image label:',\n",
       " array([0., 0., 0., 0., 0., 1., 0., 0., 0., 0.]),\n",
       " 'All one-hot encoded labels:',\n",
       " (60000, 10))"
      ]
     },
     "execution_count": 9,
     "metadata": {},
     "output_type": "execute_result"
    }
   ],
   "source": [
    "\"one image label:\",one_hot_train_labels[0], \"All one-hot encoded labels:\",one_hot_train_labels.shape"
   ]
  },
  {
   "cell_type": "markdown",
   "id": "47f7806f",
   "metadata": {},
   "source": [
    "`one_hot_train_labels.shape` has a shape of $(60000, 10)$, meaning that now every image now has a corresponding label that looks like $[0., 0., 0., 0., 0., 1., 0., 0., 0., 0.]$ where the $1$ index position means thats the hand-drawn number."
   ]
  },
  {
   "cell_type": "markdown",
   "id": "217c5394",
   "metadata": {},
   "source": [
    "Test show the image and label"
   ]
  },
  {
   "cell_type": "code",
   "execution_count": 10,
   "id": "db3471dc",
   "metadata": {},
   "outputs": [
    {
     "data": {
      "image/png": "[encoded data removed]",
      "text/plain": [
       "<Figure size 640x480 with 1 Axes>"
      ]
     },
     "metadata": {},
     "output_type": "display_data"
    }
   ],
   "source": [
    "plt.imshow(train_images[0], cmap='gray')\n",
    "plt.title(f\"(label) Drawn Number: {one_hot_train_labels[0]}\")\n",
    "plt.axis('off')\n",
    "plt.show()"
   ]
  },
  {
   "cell_type": "markdown",
   "id": "cbb02867",
   "metadata": {},
   "source": [
    "`Reshape`: the tensors so we can feed it through our network.\n",
    "\n",
    "- Image tensors needs to be $(Features, N)$, Where Features is the number of pixels per image $784$.\n",
    "\n",
    "- Labels tensors need to be $(10, N)$, Where N is the number of samples and 10 is the number of classes.\n"
   ]
  },
  {
   "cell_type": "code",
   "execution_count": 11,
   "id": "ba18a999",
   "metadata": {},
   "outputs": [
    {
     "data": {
      "text/plain": [
       "('Train set:',\n",
       " (60000, 10),\n",
       " (60000, 28, 28),\n",
       " 'Test set:',\n",
       " (10000, 10),\n",
       " (10000, 28, 28))"
      ]
     },
     "execution_count": 11,
     "metadata": {},
     "output_type": "execute_result"
    }
   ],
   "source": [
    "\"Train set:\",one_hot_train_labels.shape, train_images.shape, \"Test set:\",one_hot_test_labels.shape, test_images.shape"
   ]
  },
  {
   "cell_type": "code",
   "execution_count": 12,
   "id": "0e2285f2",
   "metadata": {},
   "outputs": [
    {
     "data": {
      "text/plain": [
       "((784, 60000), (784, 10000))"
      ]
     },
     "execution_count": 12,
     "metadata": {},
     "output_type": "execute_result"
    }
   ],
   "source": [
    "# Combine the 28x28 image pixels -> 784\n",
    "train_images = train_images.reshape(60_000, 784)\n",
    "# Transpose to get (Features, N)\n",
    "train_images = train_images.T\n",
    "\n",
    "# for the test set\n",
    "test_images = test_images.reshape(10_000, 784)\n",
    "test_images = test_images.T\n",
    "\n",
    "train_images.shape, test_images.shape"
   ]
  },
  {
   "cell_type": "code",
   "execution_count": 13,
   "id": "4714dc39",
   "metadata": {},
   "outputs": [
    {
     "data": {
      "text/plain": [
       "((10, 60000), (10, 10000))"
      ]
     },
     "execution_count": 13,
     "metadata": {},
     "output_type": "execute_result"
    }
   ],
   "source": [
    "# Transpose labels to get (10, N)\n",
    "one_hot_train_labels = one_hot_train_labels.T\n",
    "one_hot_test_labels = one_hot_test_labels.T\n",
    "\n",
    "one_hot_train_labels.shape, one_hot_test_labels.shape"
   ]
  },
  {
   "cell_type": "markdown",
   "id": "4d44d35f",
   "metadata": {},
   "source": [
    "### Normalize\n",
    "* Normalize the image pixel values to be between 0-1, this will greatly improve how fast our model trains and computes calculations."
   ]
  },
  {
   "cell_type": "code",
   "execution_count": 14,
   "id": "bc7c9bd6",
   "metadata": {},
   "outputs": [
    {
     "data": {
      "text/plain": [
       "np.uint8(253)"
      ]
     },
     "execution_count": 14,
     "metadata": {},
     "output_type": "execute_result"
    }
   ],
   "source": [
    "# what the values @ pixel 400 of one image look like\n",
    "train_images[:, 1][400]"
   ]
  },
  {
   "cell_type": "code",
   "execution_count": 15,
   "id": "9dd09008",
   "metadata": {},
   "outputs": [
    {
     "data": {
      "text/plain": [
       "np.float64(0.9921568627450981)"
      ]
     },
     "execution_count": 15,
     "metadata": {},
     "output_type": "execute_result"
    }
   ],
   "source": [
    "train_images = train_images / 255.0 # normalize -> broadcast across all images\n",
    "test_images = test_images / 255.0\n",
    "\n",
    "# What the value @ pixel 400 of one image looks like after normalizing\n",
    "train_images[:, 1][400]"
   ]
  },
  {
   "cell_type": "markdown",
   "id": "5dfac7b3",
   "metadata": {},
   "source": [
    "## Build The Neural Network Algorithm"
   ]
  },
  {
   "cell_type": "markdown",
   "id": "c1686306",
   "metadata": {},
   "source": [
    "`Create the Softmax activation function.`\n",
    "\n",
    "$$ Softmx(z_i) = \\frac{e^{z_i}}{\\sum_{j=1}^K e^{z_j} } $$\n",
    "\n",
    "- **Classes**:\n",
    "\n",
    "    - The classes in our dataset are the hand-drawn numbers $[0-9]$ --> $[0, 1, 2, 3, 4, 5, 6, 7, 8, 9]$.\n",
    "    - $z_1$ is for the number $0$.\n",
    "    - $z_2$ is for the number $1$.\n",
    "    - ...\n",
    "    - $z_9$ is for the number $8$.\n",
    "    - $z_{10}$ is for the number $9$.\n",
    "\n",
    "- **Where:**\n",
    "    - $z_i$ is the logit(the output  of the previous layer in the network) for the $i^{th} class$\n",
    "    - $K$ is the number of classes.\n",
    "    - $e^{z_i}$ represents the exponential of the logit.\n",
    "    - $\\sum_{j=1}^K e^{z_j}$ is the sum of the exponentials across all classes.\n"
   ]
  },
  {
   "cell_type": "code",
   "execution_count": 16,
   "id": "d781161d",
   "metadata": {},
   "outputs": [],
   "source": [
    "def softmax(logits, dim):\n",
    "    \"\"\"\n",
    "    Compute the Softmax activate function.\n",
    "\n",
    "    Note: the size of the logits tensor is how many classes there are in the dataset.\n",
    "\n",
    "    Arg:\n",
    "        logits -- a tensor of any size.\n",
    "        dim -- along which dimension should softmax be computed.\n",
    "\n",
    "    \"\"\"\n",
    "    # print(\"TEST: There are ten classes:\",logits.shape[0])\n",
    "\n",
    "    # Find max value along the last dimension for stability\n",
    "    max_logits = torch.max(logits, dim=dim, keepdim=True).values\n",
    "    numerator = torch.exp(logits - max_logits)\n",
    "    # Sum along the dim.\n",
    "    denominator = torch.sum(numerator, dim=dim, keepdim=True)\n",
    "    return numerator/denominator"
   ]
  },
  {
   "cell_type": "code",
   "execution_count": 17,
   "id": "7b3ef0da",
   "metadata": {},
   "outputs": [
    {
     "data": {
      "text/plain": [
       "tensor([5.5817e-04, 1.5173e-03, 3.0475e-02, 1.5173e-03, 4.1243e-03, 1.1211e-02,\n",
       "        3.0475e-02, 8.2839e-02, 2.2518e-01, 6.1210e-01])"
      ]
     },
     "execution_count": 17,
     "metadata": {},
     "output_type": "execute_result"
    }
   ],
   "source": [
    "# TEST\n",
    "test = softmax(torch.tensor([1, 2, 5, 2, 3, 4, 5, 6, 7, 8]), dim=0)\n",
    "test"
   ]
  },
  {
   "cell_type": "code",
   "execution_count": 18,
   "id": "be13f403",
   "metadata": {},
   "outputs": [
    {
     "data": {
      "text/plain": [
       "tensor(1.0000)"
      ]
     },
     "execution_count": 18,
     "metadata": {},
     "output_type": "execute_result"
    }
   ],
   "source": [
    "# output sums to 1!\n",
    "torch.sum(test)"
   ]
  },
  {
   "cell_type": "markdown",
   "id": "b91d25e5",
   "metadata": {},
   "source": [
    "**⭐️ Check the binary classifier notebook for descriptions on the below functions.**\n",
    "    - But we changed the model to output an array of $10$ instead of $1$ like in the binary classifier.\n",
    "\n",
    "`Initialize weights and bias`\n",
    "\n",
    "Parameter initialization where we initialize w *(weights)* as a vector of zeros and bias."
   ]
  },
  {
   "cell_type": "code",
   "execution_count": null,
   "id": "54854bb4",
   "metadata": {},
   "outputs": [],
   "source": [
    "def initialize_with_zeros(features, num_classes=10):\n",
    "    \"\"\"\n",
    "        NOTE: Initializing all weights in a neural network to zero is generally not a good practice because it prevents the network from learning effectively. \n",
    "\n",
    "        This function creates a vector of zeros of shape (features, num_classes) for w (weights) and initializes b (bias) to 0.\n",
    "        For MNIST, num_classes is 10 the [0-9] array.\n",
    "        \n",
    "        Arg:\n",
    "            features -- features is the number of pixels per image.\n",
    "            num_classes -- the number of classes in the dataset.\n",
    "        \n",
    "        Returns:\n",
    "            w -- initialized tensor of shape (features, num_classes) with all zeros.\n",
    "            b -- initialized scalar tensor (num_classes, 1) with all zeros.\n",
    "\n",
    "    \"\"\"\n",
    "    w = torch.zeros((features, num_classes), device=DEVICE)\n",
    "    b = torch.zeros((num_classes, 1), device=DEVICE)\n",
    "\n",
    "    return w, b"
   ]
  },
  {
   "cell_type": "code",
   "execution_count": 20,
   "id": "cfcc0848",
   "metadata": {},
   "outputs": [
    {
     "data": {
      "text/plain": [
       "(torch.Size([784, 10]), torch.Size([10, 1]))"
      ]
     },
     "execution_count": 20,
     "metadata": {},
     "output_type": "execute_result"
    }
   ],
   "source": [
    "# TEST: for 1 image\n",
    "w, b = initialize_with_zeros(features=784, num_classes=10) \n",
    "w.shape, b.shape"
   ]
  },
  {
   "cell_type": "markdown",
   "id": "1ab70161",
   "metadata": {},
   "source": [
    "`Forward & Backward propagation`"
   ]
  },
  {
   "cell_type": "code",
   "execution_count": 21,
   "id": "61aac436",
   "metadata": {},
   "outputs": [],
   "source": [
    "def propagate(w, b, X, Y):\n",
    "    \"\"\"\n",
    "    Implement forward and back propagation.\n",
    "\n",
    "    Arg:\n",
    "        w -- weights, a torch tensor of size (features, num_classes). Where features is the number of pixels that one image has, num_classes is 10.\n",
    "        b -- bias, a torch tensor of size (num_classes, 1).\n",
    "        X -- data of size (features, N) where N is the number of samples.\n",
    "        Y -- true \"label\" vector (num_classes, N) in one-hot encoded format.\n",
    "        \n",
    "    Return:\n",
    "        grads -- dictionary containing the gradients of the cost with respect to weight w and bias b.\n",
    "        (dw -- gradient of the loss with respect to w, thus the same shape as w)\n",
    "        (db -- gradient of the loss with respect to b, thus the same shape as b)\n",
    "        cost -- Categorical Cross-Entropy (CCE) loss.\n",
    "    \"\"\"\n",
    "    # Get the number of samples/images\n",
    "    m = X.shape[1]\n",
    "\n",
    "    # --- 1: Forward propagate\n",
    "    Z = (\n",
    "        w.T @ X + b\n",
    "    )  # the @ operator for matrix multiplication or dot-product, the .T is to transpose that tensor.\n",
    "    A = softmax(Z, dim=0)  # Apply softmax along the class dimension (dim=0)\n",
    "\n",
    "    # --- 2: Calculate Cost (Categorical Cross-Entropy Loss) ---\n",
    "    epsilon = 1e-9  # For numerical stability to prevent log(0)\n",
    "    cost = -1 / m * torch.sum(Y * torch.log(A + epsilon))\n",
    "\n",
    "    # --- 3: Backward propagate ---\n",
    "    # Gradient of the loss with respect to Z (logits)\n",
    "    dZ = A - Y  # This is the common gradient for softmax + CCE\n",
    "    # Gradient of the loss with respect to w\n",
    "    dw = 1 / m * (X @ dZ.T)\n",
    "    # Gradient of the loss with respect to b\n",
    "    db = 1 / m * torch.sum(dZ, dim=1, keepdim=True)\n",
    "\n",
    "    grads = {\"dw\": dw, \"db\": db}\n",
    "    return grads, cost"
   ]
  },
  {
   "cell_type": "code",
   "execution_count": 22,
   "id": "f7a93739",
   "metadata": {},
   "outputs": [
    {
     "data": {
      "text/plain": [
       "({'dw': tensor([[0., 0., 0.,  ..., 0., 0., 0.],\n",
       "          [0., 0., 0.,  ..., 0., 0., 0.],\n",
       "          [0., 0., 0.,  ..., 0., 0., 0.],\n",
       "          ...,\n",
       "          [0., 0., 0.,  ..., 0., 0., 0.],\n",
       "          [0., 0., 0.,  ..., 0., 0., 0.],\n",
       "          [0., 0., 0.,  ..., 0., 0., 0.]], device='mps:0'),\n",
       "  'db': tensor([[ 0.1000],\n",
       "          [ 0.1000],\n",
       "          [ 0.1000],\n",
       "          [ 0.1000],\n",
       "          [ 0.1000],\n",
       "          [-0.9000],\n",
       "          [ 0.1000],\n",
       "          [ 0.1000],\n",
       "          [ 0.1000],\n",
       "          [ 0.1000]], device='mps:0')},\n",
       " tensor(2.3026, device='mps:0'))"
      ]
     },
     "execution_count": 22,
     "metadata": {},
     "output_type": "execute_result"
    }
   ],
   "source": [
    "# TEST with one image:\n",
    "# [:, 0] gets the first image from the train_images\n",
    "one_image = train_images[:, 0].reshape(784, 1) # shape: (784,) -> reshape to (784, 1)\n",
    "one_label = one_hot_train_labels[:, 0].reshape(10, 1) # shape: (10,) -> reshape to (10, 1)\n",
    "# move to torch and GPU device \n",
    "one_image = torch.from_numpy(one_image).float().to(DEVICE)\n",
    "one_label = torch.from_numpy(one_label).float().to(DEVICE)\n",
    "\n",
    "w, b  = initialize_with_zeros(features=784,num_classes=10)\n",
    "propagate(w, b, X=one_image, Y=one_label)"
   ]
  },
  {
   "cell_type": "markdown",
   "id": "db134319",
   "metadata": {},
   "source": [
    "`Optimizer`"
   ]
  },
  {
   "cell_type": "code",
   "execution_count": 23,
   "id": "420ef4e2",
   "metadata": {},
   "outputs": [],
   "source": [
    "import copy\n",
    "\n",
    "def optimize(w, b, X, Y, Epoch=100, learning_rate=0.009, print_cost=False):\n",
    "    \"\"\"\n",
    "    This function optimizes w and b by running a gradient descent algorithm.\n",
    "\n",
    "    Arg:\n",
    "\n",
    "        w -- weights, a torch tensor of size (features, num_classes). Where features is the number of pixels that one image has, num_classes is 10.\n",
    "        b -- bias, a torch tensor of size (num_classes, 1).\n",
    "        X -- data of size (features, N) where N is the number of samples.\n",
    "        Y -- true \"label\" vector (num_classes, N) in one-hot encoded format.\n",
    "\n",
    "        Epoch  -- hyperparameter. The number of times that the model sees the train dataset, e.g., Epoch=5 means the models loops through the train dataset 5 times.\n",
    "        learning_rate -- a hyperparameter that controls the step size during the optimization process, determining how much the model's parameters are adjusted in response to the estimated error at each iteration.\n",
    "        print_cost -- True to print the loss every 100 steps\n",
    "\n",
    "    Returns:\n",
    "        params -- dictionary containing the weights w and bias b\n",
    "        grads -- dictionary containing the gradients of the weights and bias with respect to the cost function\n",
    "        costs -- list of all the costs computed during the optimization, this will be used to plot the learning curve\n",
    "    \"\"\"\n",
    "\n",
    "    w = copy.deepcopy(w)\n",
    "    b = copy.deepcopy(b)\n",
    "\n",
    "    costs = []\n",
    "\n",
    "    for i in range(Epoch):\n",
    "        # --- Forward & Backward propagation.\n",
    "        #    cost and gradient calculation\n",
    "        grads, cost = propagate(w, b, X, Y)\n",
    "\n",
    "        # Retrieve derivatives from grads.\n",
    "        dw = grads[\"dw\"]\n",
    "        db = grads[\"db\"]\n",
    "        \n",
    "        # --- Gradient descent:\n",
    "        #   Optimizer is Stochastic Gradient Descent (SGD).\n",
    "        #   Update the weight and bias to make the model predict closer to the true target.\n",
    "        w = w - learning_rate * dw\n",
    "        b = b - learning_rate * db\n",
    "        \n",
    "        # Record the costs\n",
    "        if i % 100 == 0:\n",
    "            costs.append(cost)\n",
    "            \n",
    "            if print_cost and i % 100 == 0:\n",
    "                print(\"Cost after iteration %i: %f\" % (i, cost))\n",
    "\n",
    "    params = {\"w\": w,\n",
    "              \"b\": b}\n",
    "    \n",
    "    grads = {\"dw\": dw,\n",
    "             \"db\": db}\n",
    "    \n",
    "    return params, grads, costs"
   ]
  },
  {
   "cell_type": "markdown",
   "id": "0e3749d1",
   "metadata": {},
   "source": [
    "`Predict`"
   ]
  },
  {
   "cell_type": "code",
   "execution_count": 24,
   "id": "8c548dd7",
   "metadata": {},
   "outputs": [],
   "source": [
    "def predict(w, b, X):\n",
    "    '''\n",
    "    Predict the hand-drawn number using the learned logistic regression parameters (w, b).\n",
    "    \n",
    "    Arg:\n",
    "        w -- weights, a torch.Tensor of size (features, num_classes), where features is the number of pixels per image and num_classes = an array size of 10 the hand-drawn numbers.\n",
    "        b -- bias, a torch tensor of size (num_classes, 1).\n",
    "        X -- data, a torch tensor of size (features, N), where N is the number of samples.\n",
    "\n",
    "    Returns:\n",
    "        Y_prediction_final -- a torch tensor of one-hot encoded predictions, shape: (num_classes, N).\n",
    "    '''\n",
    "\n",
    "    num_samples = X.shape[1]\n",
    "    num_classes = w.shape[1] # Should be 10 for MNIST\n",
    "\n",
    "    w = w.reshape(X.shape[0], 10)\n",
    "    \n",
    "    # --- Predict ---\n",
    "    # Compute raw scores (logits) ---\n",
    "    Z = w.T @ X + b\n",
    "\n",
    "    # Apply Softmax to get probabilities\n",
    "    A = softmax(Z, dim=0)\n",
    "\n",
    "    # --- Re-fine predictions ---\n",
    "\n",
    "    # Get the predicted class index for each sample\n",
    "    # torch.argmax(A, dim=0) finds the index of the maximum probability along the class dimension (dim=0).\n",
    "        # ex: argmax([0, 5, 3]) returns -> index: 1 which is =5\n",
    "    predicted_class_indices = torch.argmax(A, dim=0) # Shape: (num_samples,)\n",
    "\n",
    "     # Convert predicted class indices to one-hot encoded predictions manually\n",
    "    # Create an empty tensor for one-hot predictions\n",
    "    Y_prediction_one_hot = torch.zeros((num_samples, num_classes), device=DEVICE)\n",
    "\n",
    "    # Fill in the 1s at the predicted class indices\n",
    "    Y_prediction_one_hot[torch.arange(num_samples), predicted_class_indices] = 1.0\n",
    "\n",
    "    # Transpose the result to get the desired shape (num_classes, num_samples)\n",
    "    Y_prediction_final = Y_prediction_one_hot.T\n",
    "\n",
    "    return Y_prediction_final"
   ]
  },
  {
   "cell_type": "code",
   "execution_count": 25,
   "id": "5b7ba209",
   "metadata": {},
   "outputs": [
    {
     "data": {
      "text/plain": [
       "tensor([[1., 1., 1.,  ..., 1., 1., 1.],\n",
       "        [0., 0., 0.,  ..., 0., 0., 0.],\n",
       "        [0., 0., 0.,  ..., 0., 0., 0.],\n",
       "        ...,\n",
       "        [0., 0., 0.,  ..., 0., 0., 0.],\n",
       "        [0., 0., 0.,  ..., 0., 0., 0.],\n",
       "        [0., 0., 0.,  ..., 0., 0., 0.]], device='mps:0')"
      ]
     },
     "execution_count": 25,
     "metadata": {},
     "output_type": "execute_result"
    }
   ],
   "source": [
    "# TEST predict() with one image:\n",
    "# Note the parameters w, b haven't been trained so the prediction will be terrible.\n",
    "one_image = train_images[:, 0].reshape(784, 1) # shape: (784,) -> reshape to (784, 1)\n",
    "# move to torch and GPU device \n",
    "one_image = torch.from_numpy(one_image).float().to(DEVICE)\n",
    "w, b  = initialize_with_zeros(features=784,num_classes=10)\n",
    "predict(w, b, X=torch.from_numpy(train_images).float().to(DEVICE))"
   ]
  },
  {
   "cell_type": "markdown",
   "id": "706a44e9",
   "metadata": {},
   "source": [
    "`Create Model to put everything together`"
   ]
  },
  {
   "cell_type": "code",
   "execution_count": 26,
   "id": "1f9bae09",
   "metadata": {},
   "outputs": [],
   "source": [
    "def model(X_train, Y_train, X_test, Y_test, Epoch=2000, learning_rate=0.5, print_cost=False):\n",
    "    \"\"\"\n",
    "    Builds the logistic regression model by calling the functions implemented above.\n",
    "    \n",
    "    num_classes for MNIST is 10.\n",
    "\n",
    "    Arg:\n",
    "        X_train -- training set represented by a tensor of shape (features, train_samples), Where features is the number of pixels per image\n",
    "        Y_train -- training labels represented by a tensor of shape (num_classes, train_samples)\n",
    "        \n",
    "        X_test -- test set represented by a tensor of shape (features, test_samples)\n",
    "        Y_test -- test labels represented by a tensor of shape (num_classes, test_samples)\n",
    "\n",
    "        Epoch  -- hyperparameter. The number of times that the model sees the train dataset, e.g., Epoch=5 means the models loops through the train dataset 5 times.\n",
    "        learning_rate -- a hyperparameter that controls the step size during the optimization process, determining how much the model's parameters are adjusted in response to the estimated error at each iteration.\n",
    "        print_cost -- Set to true to print the cost every 100 iterations\n",
    "    \n",
    "    returns:\n",
    "        d -- dictionary containing information about the model\n",
    "    \"\"\"\n",
    "\n",
    "    # --- Move data to torch from Numpy to utilize GPU if available.\n",
    "    # train set\n",
    "    X_train = torch.from_numpy(X_train).float().to(DEVICE) # I added .float() because MPS framework doesn't support float64. So used float32 instead.\n",
    "    Y_train = torch.from_numpy(Y_train).float().to(DEVICE) \n",
    "\n",
    "    # test set\n",
    "    X_test = torch.from_numpy(X_test).float().to(DEVICE) \n",
    "    Y_test = torch.from_numpy(Y_test).float().to(DEVICE)\n",
    "\n",
    "    # Initialize parameters w and b with zeros.\n",
    "    w, b = initialize_with_zeros(X_train.shape[0])\n",
    "\n",
    "    # --- 1:  Forward & Backward propagate\n",
    "    params, grads, costs = optimize(w, b, X_train, Y_train, Epoch, learning_rate, print_cost)\n",
    "    \n",
    "    # Retrieve the learning parameters w and b from dictionary \"params\"\n",
    "    w = params[\"w\"]\n",
    "    b = params[\"b\"]\n",
    "    \n",
    "    # --- 2: predict test/train set examples\n",
    "    Y_prediction_train = predict(w, b, X_train)\n",
    "    Y_prediction_test = predict(w, b, X_test)\n",
    "    \n",
    "    # Print train/test Errors\n",
    "    if print_cost:\n",
    "        print(\"\\nPredict:\")\n",
    "        # For training accuracy\n",
    "        #   Get the predicted index value\n",
    "        train_pred_indices = torch.argmax(Y_prediction_train, dim=0)\n",
    "        #   Get the target/label index value\n",
    "        train_true_indices = torch.argmax(Y_train, dim=0)\n",
    "        #   See how many time the predicted matches the target.\n",
    "        train_acc = torch.mean((train_pred_indices == train_true_indices).float()) * 100\n",
    "        print(f\"train accuracy: {train_acc:.2f} %\")\n",
    "\n",
    "        # For test accuracy\n",
    "        test_pred_indices = torch.argmax(Y_prediction_test, dim=0)\n",
    "        test_true_indices = torch.argmax(Y_test, dim=0)\n",
    "        test_acc = torch.mean((test_pred_indices == test_true_indices).float()) * 100\n",
    "        print(f\"test accuracy: {test_acc:.2f} %\")\n",
    "\n",
    "    \n",
    "    d = {\"costs\": costs,\n",
    "         \"Y_prediction_test\": Y_prediction_test, \n",
    "         \"Y_prediction_train\" : Y_prediction_train, \n",
    "         \"w\" : w, \n",
    "         \"b\" : b,\n",
    "         \"learning_rate\" : learning_rate,\n",
    "         \"Epoch\": Epoch}\n",
    "    \n",
    "    return d"
   ]
  },
  {
   "cell_type": "markdown",
   "id": "e9dca16e",
   "metadata": {},
   "source": [
    "`Train the model`"
   ]
  },
  {
   "cell_type": "code",
   "execution_count": 27,
   "id": "33813c3c",
   "metadata": {},
   "outputs": [
    {
     "name": "stdout",
     "output_type": "stream",
     "text": [
      "Cost after iteration 0: 2.302585\n",
      "Cost after iteration 100: 1.858551\n",
      "Cost after iteration 200: 1.554516\n",
      "Cost after iteration 300: 1.343795\n",
      "Cost after iteration 400: 1.193889\n",
      "Cost after iteration 500: 1.083495\n",
      "Cost after iteration 600: 0.999388\n",
      "Cost after iteration 700: 0.933350\n",
      "Cost after iteration 800: 0.880150\n",
      "Cost after iteration 900: 0.836356\n",
      "Cost after iteration 1000: 0.799640\n",
      "Cost after iteration 1100: 0.768380\n",
      "Cost after iteration 1200: 0.741411\n",
      "Cost after iteration 1300: 0.717878\n",
      "Cost after iteration 1400: 0.697141\n",
      "Cost after iteration 1500: 0.678710\n",
      "Cost after iteration 1600: 0.662204\n",
      "Cost after iteration 1700: 0.647323\n",
      "Cost after iteration 1800: 0.633826\n",
      "Cost after iteration 1900: 0.621520\n",
      "\n",
      "Predict:\n",
      "train accuracy: 86.13 %\n",
      "test accuracy: 87.08 %\n"
     ]
    }
   ],
   "source": [
    "trained_MNIST = model(train_images, one_hot_train_labels, test_images, one_hot_test_labels, Epoch=2000, learning_rate=0.005, print_cost=True)"
   ]
  },
  {
   "cell_type": "markdown",
   "id": "450770a5",
   "metadata": {},
   "source": [
    "`Check prediction`"
   ]
  },
  {
   "cell_type": "code",
   "execution_count": 28,
   "id": "ea0d8d05",
   "metadata": {},
   "outputs": [
    {
     "name": "stdout",
     "output_type": "stream",
     "text": [
      "Hand-drawn number = 3 -> model predicted that it is the number: '3'\n"
     ]
    },
    {
     "data": {
      "image/png": "[encoded data removed]",
      "text/plain": [
       "<Figure size 640x480 with 1 Axes>"
      ]
     },
     "metadata": {},
     "output_type": "display_data"
    }
   ],
   "source": [
    "# Grab one of the test images that the model predicted on\n",
    "img_index = 90\n",
    "print( f\"Hand-drawn number = {classes[np.argmax(one_hot_test_labels[: , img_index])]} -> model predicted that it is the number: '{classes[torch.argmax(trained_MNIST['Y_prediction_test'][:, img_index])]}'\")\n",
    "plt.imshow(test_images[:, img_index].reshape((28, 28)), cmap='gray')\n",
    "plt.show()"
   ]
  },
  {
   "cell_type": "markdown",
   "id": "6f62dcd2",
   "metadata": {},
   "source": [
    "`Plot` the cost"
   ]
  },
  {
   "cell_type": "code",
   "execution_count": null,
   "id": "88363d1a",
   "metadata": {},
   "outputs": [
    {
     "data": {
      "image/png": "[encoded data removed]",
      "text/plain": [
       "<Figure size 640x480 with 1 Axes>"
      ]
     },
     "metadata": {},
     "output_type": "display_data"
    }
   ],
   "source": [
    "# Plot learning curve (with costs)\n",
    "costs = torch.squeeze(torch.tensor(trained_MNIST['costs']))\n",
    "plt.plot(costs)\n",
    "plt.ylabel('cost')\n",
    "plt.xlabel('Epochs (per hundreds)')\n",
    "plt.title(\"Learning rate =\" + str(trained_MNIST[\"learning_rate\"]))\n",
    "plt.grid(True)\n",
    "plt.show()"
   ]
  }
 ],
 "metadata": {
  "kernelspec": {
   "display_name": "yolov1_env",
   "language": "python",
   "name": "python3"
  },
  "language_info": {
   "codemirror_mode": {
    "name": "ipython",
    "version": 3
   },
   "file_extension": ".py",
   "mimetype": "text/x-python",
   "name": "python",
   "nbconvert_exporter": "python",
   "pygments_lexer": "ipython3",
   "version": "3.11.13"
  }
 },
 "nbformat": 4,
 "nbformat_minor": 5
}
