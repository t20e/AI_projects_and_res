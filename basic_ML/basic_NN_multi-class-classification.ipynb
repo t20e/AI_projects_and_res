{
 "cells": [
  {
   "cell_type": "markdown",
   "id": "701b4193",
   "metadata": {},
   "source": [
    "## Multi-Class Classification <span id=\"multi_class_classification\"><span>\n",
    "\n",
    "⭐️ **Note:** The model is predicting on images but for the current SOTA (state of the art) applications you typically want to use CNN architectures for image detections, but even those architectures have layers that are fully connected layers which is a type of a neural network. Moreover my model can only predict one class in one image where CNN models typically predict many classes/objects in one image.\n",
    "\n",
    "`Goal`: Build a NN that can perform multi-class classification.\n",
    "\n",
    "Examples:\n",
    "- Predict if a hand-drawn number on an image is between 0-9.\n",
    "- Predict if an image is a [horse, cow, dog, and many more classes]."
   ]
  },
  {
   "cell_type": "code",
   "execution_count": null,
   "id": "e9f3c45e",
   "metadata": {},
   "outputs": [],
   "source": [
    "# TODO\n",
    "# Import necessary libraries.\n",
    "import numpy as np\n",
    "import matplotlib.pyplot as plt"
   ]
  },
  {
   "cell_type": "markdown",
   "id": "c554e001",
   "metadata": {},
   "source": [
    "### Download the MNIST Dataset\n",
    "\n",
    "- The `torch MNIST` database of handwritten digits has a training set of 60,000 examples, and a test set of 10,000 examples. .\n",
    "- Drawn numbers from 0 to 9.\n",
    "- Each image is `grey-scale` with 28x28 pixels. This means each pixel has a value representing its intensity (from 0 for black to 255 for white).\n",
    "\n",
    "1. Download the MNIST dataset (~109.9 MB) from [kaggle](https://www.kaggle.com/datasets/hojjatk/mnist-dataset/data) \n",
    "2. Rename the zip file to MNIST.zip\n",
    "3. Move the zip file to ./datasets and extract.\n",
    "```tree\n",
    "    datasets\n",
    "        └── MNIST\n",
    "            ├── t10k-images-idx3-ubyte\n",
    "            ├── t10k-labels-idx1-ubyte\n",
    "            ├── train-images-idx3-ubyte\n",
    "            └── train-labels-idx1-ubyte\n",
    "```\n",
    "\n",
    "The images and labels files are in `binary format`."
   ]
  },
  {
   "cell_type": "markdown",
   "id": "5f053e00",
   "metadata": {},
   "source": [
    "### Extract And Load The Dataset From The Binary Files\n",
    "\n",
    "Get the images and label data for the training and test sets."
   ]
  },
  {
   "cell_type": "code",
   "execution_count": 2,
   "id": "741938a1",
   "metadata": {},
   "outputs": [],
   "source": [
    "import os\n",
    "# import utility methods\n",
    "from utils.parse_binary import parse_idx_images, parse_idx_labels"
   ]
  },
  {
   "cell_type": "code",
   "execution_count": 3,
   "id": "094b69ef",
   "metadata": {},
   "outputs": [
    {
     "name": "stdout",
     "output_type": "stream",
     "text": [
      "Loading training images...\n",
      "Train images shape: (Num samples, Height, Width) -> (60000, 28, 28)\n",
      "Loading training labels...\n",
      "Train labels shape: (60000,) (Num samples)\n",
      "\n",
      "Loading test images...\n",
      "Test images shape: (Num samples, Height, Width) -> (10000, 28, 28)\n",
      "Loading test labels...\n",
      "Test labels shape: (10000,) (Num samples)\n",
      "\n",
      "Data loaded successfully into NumPy arrays!\n"
     ]
    },
    {
     "data": {
      "image/png": "[encoded data removed]",
      "text/plain": [
       "<Figure size 640x480 with 1 Axes>"
      ]
     },
     "metadata": {},
     "output_type": "display_data"
    }
   ],
   "source": [
    "archive_path = './datasets/MNIST'\n",
    "\n",
    "# File paths\n",
    "train_images_path = os.path.join(archive_path, 'train-images-idx3-ubyte/train-images-idx3-ubyte')\n",
    "train_labels_path = os.path.join(archive_path, 'train-labels-idx1-ubyte/train-labels-idx1-ubyte')\n",
    "t10k_images_path = os.path.join(archive_path, 't10k-images-idx3-ubyte/t10k-images-idx3-ubyte')\n",
    "t10k_labels_path = os.path.join(archive_path, 't10k-labels-idx1-ubyte/t10k-labels-idx1-ubyte')\n",
    "\n",
    "# --- Get the data into your notebook ---\n",
    "print(\"Loading training images...\")\n",
    "train_images = parse_idx_images(train_images_path)\n",
    "print(f\"Train images shape: (Num samples, Height, Width) -> {train_images.shape}\") \n",
    "\n",
    "print(\"Loading training labels...\")\n",
    "train_labels = parse_idx_labels(train_labels_path)\n",
    "print(f\"Train labels shape: {train_labels.shape} (Num samples)\") \n",
    "\n",
    "print(\"\\nLoading test images...\")\n",
    "test_images = parse_idx_images(t10k_images_path)\n",
    "print(f\"Test images shape: (Num samples, Height, Width) -> {test_images.shape}\")\n",
    "\n",
    "print(\"Loading test labels...\")\n",
    "test_labels = parse_idx_labels(t10k_labels_path)\n",
    "print(f\"Test labels shape: {test_labels.shape} (Num samples)\")\n",
    "\n",
    "print(\"\\nData loaded successfully into NumPy arrays!\")\n",
    "\n",
    "# --- Display an image to verify ---\n",
    "plt.imshow(train_images[0], cmap='gray')\n",
    "plt.title(f\"(label) Drawn Number: {train_labels[0]}\")\n",
    "plt.axis('off')\n",
    "plt.show()"
   ]
  },
  {
   "cell_type": "markdown",
   "id": "660152f1",
   "metadata": {},
   "source": [
    "The `train_images` has a shape of (60000, 28, 28) -> each image is 28x28 pixels and the set contains 60000 images"
   ]
  },
  {
   "cell_type": "code",
   "execution_count": 4,
   "id": "0fd91026",
   "metadata": {},
   "outputs": [
    {
     "data": {
      "text/plain": [
       "(28, 28)"
      ]
     },
     "execution_count": 4,
     "metadata": {},
     "output_type": "execute_result"
    }
   ],
   "source": [
    "train_images[0].shape"
   ]
  },
  {
   "cell_type": "markdown",
   "id": "df0935c8",
   "metadata": {},
   "source": [
    "One single image tensor has a shape of (28, 28), which mean that image has a total node (i.e tensor values) count: $ 28 * 28 = 784 $ nodes. "
   ]
  },
  {
   "cell_type": "code",
   "execution_count": 5,
   "id": "2fb71db1",
   "metadata": {},
   "outputs": [
    {
     "data": {
      "text/plain": [
       "(60000,)"
      ]
     },
     "execution_count": 5,
     "metadata": {},
     "output_type": "execute_result"
    }
   ],
   "source": [
    "train_labels.shape"
   ]
  },
  {
   "cell_type": "markdown",
   "id": "b6061f80",
   "metadata": {},
   "source": [
    "The `train_labels` has a shape of (60000,) a 1D tensor with 60000 values of [0-9] -> It contains the labels for the 60,000 train_images.\n",
    "- train_labels = [5, 0, 4, ..., 5, 6, 8]\n",
    "    - The first 5 in array means the first image has a 5 drawn on it, the 0 means the second image has a zero drawn on it and so forth."
   ]
  },
  {
   "cell_type": "markdown",
   "id": "91f2b44c",
   "metadata": {},
   "source": [
    "### Pre-Process the Dataset\n",
    "\n",
    "We need to pre-process the dataset so that we can pass it through our Neural Network that we will build later on.\n",
    "- Process Labels: We need a `one-hot` tensor encoding of the label data.\n",
    "    - The images in the dataset can have a label of value between `0-9`. So we make an array like so.\n",
    "        - [0, 0, 0, 0, 0, 0, 0, 0, 0, 0]\n",
    "        - Whatever the image value is will have a value of 1 added to its index.\n",
    "        - For Example: An image has a 3 drawn on it, its labeled data tensor will look like:\n",
    "            - [0, 0, 0, 1, 0, 0, 0, 0, 0, 0]\n",
    "            - Note: Indexing starts at zero.\n",
    "        - Another example: An image has a 9 drawn on it, its labeled data tensor will look like:\n",
    "            - [0, 0, 0, 0, 0, 0, 0, 0, 0, 1]\n",
    "\n",
    "- Process Images: We need to turn the image into `tensor data`:\n",
    "    - We downloaded the dataset from pytorch, it has the Images in type: PIL.Image.Image -> we need to convert it to tensors.\n",
    "    - Note that since the images are in grey-scale values they will only have 1 color channel while an RGB image will have 3 color channels. \n",
    "        - Ex:\n",
    "            <img src=\"./showcase_images/RGB-vs-greyscale.png\" width=\"150px\">\n",
    "    - The pixel values will be between 0-255 (0 for black to 255 for white). We will `normalize` the pixel values to be between 0-1 which will greatly improve how well and how fast our NN trains."
   ]
  },
  {
   "cell_type": "markdown",
   "id": "df554972",
   "metadata": {},
   "source": [
    "`Process the labels.`"
   ]
  },
  {
   "cell_type": "code",
   "execution_count": 6,
   "id": "5d32f188",
   "metadata": {},
   "outputs": [],
   "source": [
    "# Determine the number of classes (for MNIST, it's 10)\n",
    "num_classes = 10 # -> [0, 1, 2, 3, 4, 5, 6, 7, 8, 9] hand draw numbers\\\n",
    "# For the TRAIN labels\n",
    "one_hot_train_labels = np.zeros((train_labels.size, num_classes))\n",
    "one_hot_train_labels[np.arange(train_labels.size), train_labels] = 1\n",
    "\n",
    "# For the TEST labels\n",
    "one_hot_test_labels = np.zeros((test_labels.size, num_classes))\n",
    "one_hot_test_labels[np.arange(test_labels.size), test_labels] = 1"
   ]
  },
  {
   "cell_type": "code",
   "execution_count": 7,
   "id": "c961077c",
   "metadata": {},
   "outputs": [
    {
     "data": {
      "text/plain": [
       "(60000, 10)"
      ]
     },
     "execution_count": 7,
     "metadata": {},
     "output_type": "execute_result"
    }
   ],
   "source": [
    "one_hot_train_labels.shape"
   ]
  },
  {
   "cell_type": "markdown",
   "id": "47f7806f",
   "metadata": {},
   "source": [
    "`one_hot_train_labels.shape` has a shape of (60000, 10), meaning that now every image now has a corresponding label that looks like [0., 0., 0., 0., 0., 1., 0., 0., 0., 0.] where the 1 index position means thats the hand-drawn number."
   ]
  },
  {
   "cell_type": "markdown",
   "id": "217c5394",
   "metadata": {},
   "source": [
    "Test show the image and label"
   ]
  },
  {
   "cell_type": "code",
   "execution_count": 8,
   "id": "db3471dc",
   "metadata": {},
   "outputs": [
    {
     "data": {
      "image/png": "[encoded data removed]",
      "text/plain": [
       "<Figure size 640x480 with 1 Axes>"
      ]
     },
     "metadata": {},
     "output_type": "display_data"
    }
   ],
   "source": [
    "plt.imshow(train_images[0], cmap='gray')\n",
    "plt.title(f\"(label) Drawn Number: {one_hot_train_labels[0]}\")\n",
    "plt.axis('off')\n",
    "plt.show()"
   ]
  }
 ],
 "metadata": {
  "kernelspec": {
   "display_name": "torch_env",
   "language": "python",
   "name": "python3"
  },
  "language_info": {
   "codemirror_mode": {
    "name": "ipython",
    "version": 3
   },
   "file_extension": ".py",
   "mimetype": "text/x-python",
   "name": "python",
   "nbconvert_exporter": "python",
   "pygments_lexer": "ipython3",
   "version": "3.11.11"
  }
 },
 "nbformat": 4,
 "nbformat_minor": 5
}
