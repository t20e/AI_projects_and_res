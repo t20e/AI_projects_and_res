{
 "cells": [
  {
   "cell_type": "markdown",
   "id": "88957a5b",
   "metadata": {},
   "source": [
    "# Basic Binary Classification Neural Network From Scratch\n",
    "\n",
    "`Goal:` Build a NN that can perform binary classification, i.e predicts 0 or 1.\n",
    "\n",
    "Binary classification is a machine learning task where data is categorized into two classes. `Logistic regression` is a common algorithm used to perform binary classification.\n",
    "\n",
    "Examples:\n",
    "- cat or dog (0=cat and 1=dog).\n",
    "- cat or no-cat (0=no-cat and 1=cat).\n",
    "- Survived.\n",
    "- poison or edible\n",
    "\n",
    "A **basic NN** is a NN that has no hidden layers, we simply compute:\n",
    "$$z^{(i)} = W^T x^{(i)}+ b$$\n",
    "$$\\hat{y}^{(i)} = a^{(i)} = sigmoid(z^{(i)})$$\n",
    "- Note: the $^{(i)}$ is for one sample.\n",
    "1. We multiply the weights $W$ by the input features $x$ and add a bias $b$.\n",
    "2. We compute an activation function $sigmoid$ to get the models output.\n",
    "3. While a DNN (Deep Neural Network) can have many hidden layers.\n",
    "\n",
    "**Note**: Training the model was taking to long with the mushroom dataset (~10+mins train time) when using Numpy which is locked to the CPU, instead I used torch on GPU (~5seconds train time). However I did use Numpy outside of that space like gathering the data.\n",
    "\n",
    "**Vocab:**\n",
    "- A Sample or an Example: A sample is one feature vector. For instance, if you have images of cats, one image is one sample. Similarly, if you have rows of mushrooms in a dataframe, one row is one sample.\n",
    "- Label, y, or target: Is the part of the data that we want the model to predict on. Example mushroom dataset; the 'class' column has a 'p'=poison or 'e'=edible label.\n",
    "- Feature, x: Is the part of the data that we will feed through the Neural network.\n",
    "\n",
    "\n",
    "\n",
    "**Sections:**\n",
    "1. [Mushroom Dataset](#mushroom-dataset)\n",
    "\n",
    "2. [Build The Neural Network Algorithm](#build-the-neural-network-algorithm)\n",
    "3. [Cat Or No-Cat](#cat-or-no-cat).\n",
    "4. [PyTorch implement](#implement-functions-using-torch)"
   ]
  },
  {
   "cell_type": "code",
   "execution_count": 1,
   "id": "51782b3e",
   "metadata": {},
   "outputs": [],
   "source": [
    "# Import necessary libraries.\n",
    "import torch\n",
    "import pandas as pd\n",
    "import matplotlib.pyplot as plt\n"
   ]
  },
  {
   "cell_type": "code",
   "execution_count": 2,
   "id": "9c12427b",
   "metadata": {},
   "outputs": [
    {
     "name": "stdout",
     "output_type": "stream",
     "text": [
      "Using MPS device (Apple Silicon GPU)\n"
     ]
    }
   ],
   "source": [
    "# Get available GPU device.\n",
    "if torch.cuda.is_available():\n",
    "    DEVICE = torch.device(\"cuda\")\n",
    "    print(f\"Using CUDA device: {torch.cuda.get_device_name(DEVICE)}\")\n",
    "elif torch.backends.mps.is_available():\n",
    "    DEVICE = torch.device(\"mps\")\n",
    "    print(\"Using MPS device (Apple Silicon GPU)\")\n",
    "else:\n",
    "    DEVICE = torch.device(\"cpu\")\n",
    "    print(\"Using CPU device\")"
   ]
  },
  {
   "cell_type": "markdown",
   "id": "eed5c1c5",
   "metadata": {},
   "source": [
    "## Mushroom Dataset"
   ]
  },
  {
   "cell_type": "markdown",
   "id": "0b6e2098",
   "metadata": {},
   "source": [
    "### Download The Mushroom Classification Dataset\n",
    "\n",
    "⭐️ `Goal:` Have an NN model identity if a mushroom is poisonous or edible.\n",
    "\n",
    "- From the dataset publisher:\n",
    "    - mushroom hunting (otherwise known as \"shrooming\") is enjoying new peaks in popularity. Learn which features spell certain death and which are most palatable in this dataset of mushroom characteristics. And how certain can your model be?\n",
    "    - This dataset includes descriptions of hypothetical samples corresponding to 23 species of gilled mushrooms in the Agaricus and Lepiota Family Mushroom drawn from The Audubon Society Field Guide to North American Mushrooms (1981). Each species is identified as definitely edible, definitely poisonous, or of unknown edibility and not recommended. This latter class was combined with the poisonous one. The Guide clearly states that there is no simple rule for determining the edibility of a mushroom; no rule like \"leaflets three, let it be'' for Poisonous Oak and Ivy.\n",
    "\n",
    "1. Download the Mushroom Classification Dataset (~61 KB) from [kaggle](https://www.kaggle.com/datasets/uciml/mushroom-classification/data) \n",
    "2. Rename the zip file to Mushroom_classification.zip\n",
    "3. Move the zip file to ./datasets and extract.\n",
    "```tree\n",
    "datasets\n",
    "├── mushrooms.csv\n",
    "└── Mushroom_classification.zip\n",
    "```"
   ]
  },
  {
   "cell_type": "markdown",
   "id": "d295e418",
   "metadata": {},
   "source": [
    "### Extract And Load The Dataset From The CSV\n",
    "Load the dataset into a pandas dataframe"
   ]
  },
  {
   "cell_type": "code",
   "execution_count": 3,
   "id": "7f790f20",
   "metadata": {},
   "outputs": [
    {
     "data": {
      "application/vnd.microsoft.datawrangler.viewer.v0+json": {
       "columns": [
        {
         "name": "index",
         "rawType": "int64",
         "type": "integer"
        },
        {
         "name": "class",
         "rawType": "object",
         "type": "string"
        },
        {
         "name": "cap-shape",
         "rawType": "object",
         "type": "string"
        },
        {
         "name": "cap-surface",
         "rawType": "object",
         "type": "string"
        },
        {
         "name": "cap-color",
         "rawType": "object",
         "type": "string"
        },
        {
         "name": "bruises",
         "rawType": "object",
         "type": "string"
        },
        {
         "name": "odor",
         "rawType": "object",
         "type": "string"
        },
        {
         "name": "gill-attachment",
         "rawType": "object",
         "type": "string"
        },
        {
         "name": "gill-spacing",
         "rawType": "object",
         "type": "string"
        },
        {
         "name": "gill-size",
         "rawType": "object",
         "type": "string"
        },
        {
         "name": "gill-color",
         "rawType": "object",
         "type": "string"
        },
        {
         "name": "stalk-shape",
         "rawType": "object",
         "type": "string"
        },
        {
         "name": "stalk-root",
         "rawType": "object",
         "type": "string"
        },
        {
         "name": "stalk-surface-above-ring",
         "rawType": "object",
         "type": "string"
        },
        {
         "name": "stalk-surface-below-ring",
         "rawType": "object",
         "type": "string"
        },
        {
         "name": "stalk-color-above-ring",
         "rawType": "object",
         "type": "string"
        },
        {
         "name": "stalk-color-below-ring",
         "rawType": "object",
         "type": "string"
        },
        {
         "name": "veil-type",
         "rawType": "object",
         "type": "string"
        },
        {
         "name": "veil-color",
         "rawType": "object",
         "type": "string"
        },
        {
         "name": "ring-number",
         "rawType": "object",
         "type": "string"
        },
        {
         "name": "ring-type",
         "rawType": "object",
         "type": "string"
        },
        {
         "name": "spore-print-color",
         "rawType": "object",
         "type": "string"
        },
        {
         "name": "population",
         "rawType": "object",
         "type": "string"
        },
        {
         "name": "habitat",
         "rawType": "object",
         "type": "string"
        }
       ],
       "ref": "1f16ff69-acb0-4828-938f-29e2da6c2550",
       "rows": [
        [
         "0",
         "p",
         "x",
         "s",
         "n",
         "t",
         "p",
         "f",
         "c",
         "n",
         "k",
         "e",
         "e",
         "s",
         "s",
         "w",
         "w",
         "p",
         "w",
         "o",
         "p",
         "k",
         "s",
         "u"
        ],
        [
         "1",
         "e",
         "x",
         "s",
         "y",
         "t",
         "a",
         "f",
         "c",
         "b",
         "k",
         "e",
         "c",
         "s",
         "s",
         "w",
         "w",
         "p",
         "w",
         "o",
         "p",
         "n",
         "n",
         "g"
        ],
        [
         "2",
         "e",
         "b",
         "s",
         "w",
         "t",
         "l",
         "f",
         "c",
         "b",
         "n",
         "e",
         "c",
         "s",
         "s",
         "w",
         "w",
         "p",
         "w",
         "o",
         "p",
         "n",
         "n",
         "m"
        ],
        [
         "3",
         "p",
         "x",
         "y",
         "w",
         "t",
         "p",
         "f",
         "c",
         "n",
         "n",
         "e",
         "e",
         "s",
         "s",
         "w",
         "w",
         "p",
         "w",
         "o",
         "p",
         "k",
         "s",
         "u"
        ],
        [
         "4",
         "e",
         "x",
         "s",
         "g",
         "f",
         "n",
         "f",
         "w",
         "b",
         "k",
         "t",
         "e",
         "s",
         "s",
         "w",
         "w",
         "p",
         "w",
         "o",
         "e",
         "n",
         "a",
         "g"
        ],
        [
         "5",
         "e",
         "x",
         "y",
         "y",
         "t",
         "a",
         "f",
         "c",
         "b",
         "n",
         "e",
         "c",
         "s",
         "s",
         "w",
         "w",
         "p",
         "w",
         "o",
         "p",
         "k",
         "n",
         "g"
        ],
        [
         "6",
         "e",
         "b",
         "s",
         "w",
         "t",
         "a",
         "f",
         "c",
         "b",
         "g",
         "e",
         "c",
         "s",
         "s",
         "w",
         "w",
         "p",
         "w",
         "o",
         "p",
         "k",
         "n",
         "m"
        ],
        [
         "7",
         "e",
         "b",
         "y",
         "w",
         "t",
         "l",
         "f",
         "c",
         "b",
         "n",
         "e",
         "c",
         "s",
         "s",
         "w",
         "w",
         "p",
         "w",
         "o",
         "p",
         "n",
         "s",
         "m"
        ],
        [
         "8",
         "p",
         "x",
         "y",
         "w",
         "t",
         "p",
         "f",
         "c",
         "n",
         "p",
         "e",
         "e",
         "s",
         "s",
         "w",
         "w",
         "p",
         "w",
         "o",
         "p",
         "k",
         "v",
         "g"
        ],
        [
         "9",
         "e",
         "b",
         "s",
         "y",
         "t",
         "a",
         "f",
         "c",
         "b",
         "g",
         "e",
         "c",
         "s",
         "s",
         "w",
         "w",
         "p",
         "w",
         "o",
         "p",
         "k",
         "s",
         "m"
        ]
       ],
       "shape": {
        "columns": 23,
        "rows": 10
       }
      },
      "text/html": [
       "<div>\n",
       "<style scoped>\n",
       "    .dataframe tbody tr th:only-of-type {\n",
       "        vertical-align: middle;\n",
       "    }\n",
       "\n",
       "    .dataframe tbody tr th {\n",
       "        vertical-align: top;\n",
       "    }\n",
       "\n",
       "    .dataframe thead th {\n",
       "        text-align: right;\n",
       "    }\n",
       "</style>\n",
       "<table border=\"1\" class=\"dataframe\">\n",
       "  <thead>\n",
       "    <tr style=\"text-align: right;\">\n",
       "      <th></th>\n",
       "      <th>class</th>\n",
       "      <th>cap-shape</th>\n",
       "      <th>cap-surface</th>\n",
       "      <th>cap-color</th>\n",
       "      <th>bruises</th>\n",
       "      <th>odor</th>\n",
       "      <th>gill-attachment</th>\n",
       "      <th>gill-spacing</th>\n",
       "      <th>gill-size</th>\n",
       "      <th>gill-color</th>\n",
       "      <th>...</th>\n",
       "      <th>stalk-surface-below-ring</th>\n",
       "      <th>stalk-color-above-ring</th>\n",
       "      <th>stalk-color-below-ring</th>\n",
       "      <th>veil-type</th>\n",
       "      <th>veil-color</th>\n",
       "      <th>ring-number</th>\n",
       "      <th>ring-type</th>\n",
       "      <th>spore-print-color</th>\n",
       "      <th>population</th>\n",
       "      <th>habitat</th>\n",
       "    </tr>\n",
       "  </thead>\n",
       "  <tbody>\n",
       "    <tr>\n",
       "      <th>0</th>\n",
       "      <td>p</td>\n",
       "      <td>x</td>\n",
       "      <td>s</td>\n",
       "      <td>n</td>\n",
       "      <td>t</td>\n",
       "      <td>p</td>\n",
       "      <td>f</td>\n",
       "      <td>c</td>\n",
       "      <td>n</td>\n",
       "      <td>k</td>\n",
       "      <td>...</td>\n",
       "      <td>s</td>\n",
       "      <td>w</td>\n",
       "      <td>w</td>\n",
       "      <td>p</td>\n",
       "      <td>w</td>\n",
       "      <td>o</td>\n",
       "      <td>p</td>\n",
       "      <td>k</td>\n",
       "      <td>s</td>\n",
       "      <td>u</td>\n",
       "    </tr>\n",
       "    <tr>\n",
       "      <th>1</th>\n",
       "      <td>e</td>\n",
       "      <td>x</td>\n",
       "      <td>s</td>\n",
       "      <td>y</td>\n",
       "      <td>t</td>\n",
       "      <td>a</td>\n",
       "      <td>f</td>\n",
       "      <td>c</td>\n",
       "      <td>b</td>\n",
       "      <td>k</td>\n",
       "      <td>...</td>\n",
       "      <td>s</td>\n",
       "      <td>w</td>\n",
       "      <td>w</td>\n",
       "      <td>p</td>\n",
       "      <td>w</td>\n",
       "      <td>o</td>\n",
       "      <td>p</td>\n",
       "      <td>n</td>\n",
       "      <td>n</td>\n",
       "      <td>g</td>\n",
       "    </tr>\n",
       "    <tr>\n",
       "      <th>2</th>\n",
       "      <td>e</td>\n",
       "      <td>b</td>\n",
       "      <td>s</td>\n",
       "      <td>w</td>\n",
       "      <td>t</td>\n",
       "      <td>l</td>\n",
       "      <td>f</td>\n",
       "      <td>c</td>\n",
       "      <td>b</td>\n",
       "      <td>n</td>\n",
       "      <td>...</td>\n",
       "      <td>s</td>\n",
       "      <td>w</td>\n",
       "      <td>w</td>\n",
       "      <td>p</td>\n",
       "      <td>w</td>\n",
       "      <td>o</td>\n",
       "      <td>p</td>\n",
       "      <td>n</td>\n",
       "      <td>n</td>\n",
       "      <td>m</td>\n",
       "    </tr>\n",
       "    <tr>\n",
       "      <th>3</th>\n",
       "      <td>p</td>\n",
       "      <td>x</td>\n",
       "      <td>y</td>\n",
       "      <td>w</td>\n",
       "      <td>t</td>\n",
       "      <td>p</td>\n",
       "      <td>f</td>\n",
       "      <td>c</td>\n",
       "      <td>n</td>\n",
       "      <td>n</td>\n",
       "      <td>...</td>\n",
       "      <td>s</td>\n",
       "      <td>w</td>\n",
       "      <td>w</td>\n",
       "      <td>p</td>\n",
       "      <td>w</td>\n",
       "      <td>o</td>\n",
       "      <td>p</td>\n",
       "      <td>k</td>\n",
       "      <td>s</td>\n",
       "      <td>u</td>\n",
       "    </tr>\n",
       "    <tr>\n",
       "      <th>4</th>\n",
       "      <td>e</td>\n",
       "      <td>x</td>\n",
       "      <td>s</td>\n",
       "      <td>g</td>\n",
       "      <td>f</td>\n",
       "      <td>n</td>\n",
       "      <td>f</td>\n",
       "      <td>w</td>\n",
       "      <td>b</td>\n",
       "      <td>k</td>\n",
       "      <td>...</td>\n",
       "      <td>s</td>\n",
       "      <td>w</td>\n",
       "      <td>w</td>\n",
       "      <td>p</td>\n",
       "      <td>w</td>\n",
       "      <td>o</td>\n",
       "      <td>e</td>\n",
       "      <td>n</td>\n",
       "      <td>a</td>\n",
       "      <td>g</td>\n",
       "    </tr>\n",
       "    <tr>\n",
       "      <th>5</th>\n",
       "      <td>e</td>\n",
       "      <td>x</td>\n",
       "      <td>y</td>\n",
       "      <td>y</td>\n",
       "      <td>t</td>\n",
       "      <td>a</td>\n",
       "      <td>f</td>\n",
       "      <td>c</td>\n",
       "      <td>b</td>\n",
       "      <td>n</td>\n",
       "      <td>...</td>\n",
       "      <td>s</td>\n",
       "      <td>w</td>\n",
       "      <td>w</td>\n",
       "      <td>p</td>\n",
       "      <td>w</td>\n",
       "      <td>o</td>\n",
       "      <td>p</td>\n",
       "      <td>k</td>\n",
       "      <td>n</td>\n",
       "      <td>g</td>\n",
       "    </tr>\n",
       "    <tr>\n",
       "      <th>6</th>\n",
       "      <td>e</td>\n",
       "      <td>b</td>\n",
       "      <td>s</td>\n",
       "      <td>w</td>\n",
       "      <td>t</td>\n",
       "      <td>a</td>\n",
       "      <td>f</td>\n",
       "      <td>c</td>\n",
       "      <td>b</td>\n",
       "      <td>g</td>\n",
       "      <td>...</td>\n",
       "      <td>s</td>\n",
       "      <td>w</td>\n",
       "      <td>w</td>\n",
       "      <td>p</td>\n",
       "      <td>w</td>\n",
       "      <td>o</td>\n",
       "      <td>p</td>\n",
       "      <td>k</td>\n",
       "      <td>n</td>\n",
       "      <td>m</td>\n",
       "    </tr>\n",
       "    <tr>\n",
       "      <th>7</th>\n",
       "      <td>e</td>\n",
       "      <td>b</td>\n",
       "      <td>y</td>\n",
       "      <td>w</td>\n",
       "      <td>t</td>\n",
       "      <td>l</td>\n",
       "      <td>f</td>\n",
       "      <td>c</td>\n",
       "      <td>b</td>\n",
       "      <td>n</td>\n",
       "      <td>...</td>\n",
       "      <td>s</td>\n",
       "      <td>w</td>\n",
       "      <td>w</td>\n",
       "      <td>p</td>\n",
       "      <td>w</td>\n",
       "      <td>o</td>\n",
       "      <td>p</td>\n",
       "      <td>n</td>\n",
       "      <td>s</td>\n",
       "      <td>m</td>\n",
       "    </tr>\n",
       "    <tr>\n",
       "      <th>8</th>\n",
       "      <td>p</td>\n",
       "      <td>x</td>\n",
       "      <td>y</td>\n",
       "      <td>w</td>\n",
       "      <td>t</td>\n",
       "      <td>p</td>\n",
       "      <td>f</td>\n",
       "      <td>c</td>\n",
       "      <td>n</td>\n",
       "      <td>p</td>\n",
       "      <td>...</td>\n",
       "      <td>s</td>\n",
       "      <td>w</td>\n",
       "      <td>w</td>\n",
       "      <td>p</td>\n",
       "      <td>w</td>\n",
       "      <td>o</td>\n",
       "      <td>p</td>\n",
       "      <td>k</td>\n",
       "      <td>v</td>\n",
       "      <td>g</td>\n",
       "    </tr>\n",
       "    <tr>\n",
       "      <th>9</th>\n",
       "      <td>e</td>\n",
       "      <td>b</td>\n",
       "      <td>s</td>\n",
       "      <td>y</td>\n",
       "      <td>t</td>\n",
       "      <td>a</td>\n",
       "      <td>f</td>\n",
       "      <td>c</td>\n",
       "      <td>b</td>\n",
       "      <td>g</td>\n",
       "      <td>...</td>\n",
       "      <td>s</td>\n",
       "      <td>w</td>\n",
       "      <td>w</td>\n",
       "      <td>p</td>\n",
       "      <td>w</td>\n",
       "      <td>o</td>\n",
       "      <td>p</td>\n",
       "      <td>k</td>\n",
       "      <td>s</td>\n",
       "      <td>m</td>\n",
       "    </tr>\n",
       "  </tbody>\n",
       "</table>\n",
       "<p>10 rows × 23 columns</p>\n",
       "</div>"
      ],
      "text/plain": [
       "  class cap-shape cap-surface cap-color bruises odor gill-attachment  \\\n",
       "0     p         x           s         n       t    p               f   \n",
       "1     e         x           s         y       t    a               f   \n",
       "2     e         b           s         w       t    l               f   \n",
       "3     p         x           y         w       t    p               f   \n",
       "4     e         x           s         g       f    n               f   \n",
       "5     e         x           y         y       t    a               f   \n",
       "6     e         b           s         w       t    a               f   \n",
       "7     e         b           y         w       t    l               f   \n",
       "8     p         x           y         w       t    p               f   \n",
       "9     e         b           s         y       t    a               f   \n",
       "\n",
       "  gill-spacing gill-size gill-color  ... stalk-surface-below-ring  \\\n",
       "0            c         n          k  ...                        s   \n",
       "1            c         b          k  ...                        s   \n",
       "2            c         b          n  ...                        s   \n",
       "3            c         n          n  ...                        s   \n",
       "4            w         b          k  ...                        s   \n",
       "5            c         b          n  ...                        s   \n",
       "6            c         b          g  ...                        s   \n",
       "7            c         b          n  ...                        s   \n",
       "8            c         n          p  ...                        s   \n",
       "9            c         b          g  ...                        s   \n",
       "\n",
       "  stalk-color-above-ring stalk-color-below-ring veil-type veil-color  \\\n",
       "0                      w                      w         p          w   \n",
       "1                      w                      w         p          w   \n",
       "2                      w                      w         p          w   \n",
       "3                      w                      w         p          w   \n",
       "4                      w                      w         p          w   \n",
       "5                      w                      w         p          w   \n",
       "6                      w                      w         p          w   \n",
       "7                      w                      w         p          w   \n",
       "8                      w                      w         p          w   \n",
       "9                      w                      w         p          w   \n",
       "\n",
       "  ring-number ring-type spore-print-color population habitat  \n",
       "0           o         p                 k          s       u  \n",
       "1           o         p                 n          n       g  \n",
       "2           o         p                 n          n       m  \n",
       "3           o         p                 k          s       u  \n",
       "4           o         e                 n          a       g  \n",
       "5           o         p                 k          n       g  \n",
       "6           o         p                 k          n       m  \n",
       "7           o         p                 n          s       m  \n",
       "8           o         p                 k          v       g  \n",
       "9           o         p                 k          s       m  \n",
       "\n",
       "[10 rows x 23 columns]"
      ]
     },
     "execution_count": 3,
     "metadata": {},
     "output_type": "execute_result"
    }
   ],
   "source": [
    "df = pd.read_csv('./datasets/mushrooms.csv')\n",
    "df.head(10)"
   ]
  },
  {
   "cell_type": "markdown",
   "id": "54b8c262",
   "metadata": {},
   "source": [
    "**Description:** The dataframe has 23 columns, the 'class' column is the label and the rest are the features. Each row is a mushroom.\n",
    "\n",
    "Get unique values for all columns:"
   ]
  },
  {
   "cell_type": "code",
   "execution_count": 4,
   "id": "e4d72227",
   "metadata": {},
   "outputs": [
    {
     "name": "stdout",
     "output_type": "stream",
     "text": [
      "Unique values in all columns:\n"
     ]
    },
    {
     "data": {
      "text/plain": [
       "{'class': array(['p', 'e'], dtype=object),\n",
       " 'cap-shape': array(['x', 'b', 's', 'f', 'k', 'c'], dtype=object),\n",
       " 'cap-surface': array(['s', 'y', 'f', 'g'], dtype=object),\n",
       " 'cap-color': array(['n', 'y', 'w', 'g', 'e', 'p', 'b', 'u', 'c', 'r'], dtype=object),\n",
       " 'bruises': array(['t', 'f'], dtype=object),\n",
       " 'odor': array(['p', 'a', 'l', 'n', 'f', 'c', 'y', 's', 'm'], dtype=object),\n",
       " 'gill-attachment': array(['f', 'a'], dtype=object),\n",
       " 'gill-spacing': array(['c', 'w'], dtype=object),\n",
       " 'gill-size': array(['n', 'b'], dtype=object),\n",
       " 'gill-color': array(['k', 'n', 'g', 'p', 'w', 'h', 'u', 'e', 'b', 'r', 'y', 'o'],\n",
       "       dtype=object),\n",
       " 'stalk-shape': array(['e', 't'], dtype=object),\n",
       " 'stalk-root': array(['e', 'c', 'b', 'r', '?'], dtype=object),\n",
       " 'stalk-surface-above-ring': array(['s', 'f', 'k', 'y'], dtype=object),\n",
       " 'stalk-surface-below-ring': array(['s', 'f', 'y', 'k'], dtype=object),\n",
       " 'stalk-color-above-ring': array(['w', 'g', 'p', 'n', 'b', 'e', 'o', 'c', 'y'], dtype=object),\n",
       " 'stalk-color-below-ring': array(['w', 'p', 'g', 'b', 'n', 'e', 'y', 'o', 'c'], dtype=object),\n",
       " 'veil-type': array(['p'], dtype=object),\n",
       " 'veil-color': array(['w', 'n', 'o', 'y'], dtype=object),\n",
       " 'ring-number': array(['o', 't', 'n'], dtype=object),\n",
       " 'ring-type': array(['p', 'e', 'l', 'f', 'n'], dtype=object),\n",
       " 'spore-print-color': array(['k', 'n', 'u', 'h', 'w', 'r', 'o', 'y', 'b'], dtype=object),\n",
       " 'population': array(['s', 'n', 'a', 'v', 'y', 'c'], dtype=object),\n",
       " 'habitat': array(['u', 'g', 'm', 'd', 'p', 'w', 'l'], dtype=object)}"
      ]
     },
     "execution_count": 4,
     "metadata": {},
     "output_type": "execute_result"
    }
   ],
   "source": [
    "unique_values_per_column = {}\n",
    "for column in df.columns:\n",
    "    unique_values_per_column[column] = df[column].unique()\n",
    "print(\"Unique values in all columns:\")\n",
    "unique_values_per_column"
   ]
  },
  {
   "cell_type": "markdown",
   "id": "78e648e1",
   "metadata": {},
   "source": [
    "🚨 **Note** that the data value are letters -> e.g., ['n' 'y' 'w' 'g' 'e' 'p' 'b' 'u' 'c' 'r'] "
   ]
  },
  {
   "cell_type": "markdown",
   "id": "71f9741f",
   "metadata": {},
   "source": [
    "### Pre-Process the Dataset\n",
    "\n",
    "We need to pre-process the dataset so that we can pass it through our Neural Network that we will build later on.\n",
    "\n",
    "The 'class' column for each row has an `e`=edible or a `p`=poison, indicating whether that mushroom is poisonous or edible.\n",
    "    - The classes will be represented as: edible=`0` and poison=`1`.\n",
    "\n",
    "---\n",
    "\n",
    "- We will split the dataframe into two dataframes (input and label):\n",
    "    - `X = input`:\n",
    "        - The input is what we will feed through our model.\n",
    "        - It will contain all the data from df excluding the 'class' column.\n",
    "    - `y = label`:\n",
    "        - It will only contain the 'class' column.\n",
    "- Then randomly split those two dataframes into four tensors using (80/20 split):\n",
    "    - Tensors: X_train_df, X_test_df, y_train_df, y_test_df.\n",
    "    - Fit OneHotEncoder() on only the x_train_df.\n",
    "\n",
    "---\n",
    "A NN can only see `numerical values` so we will need to convert the letters into a numerical representation by utilizing `one-hot encoding`.\n",
    "- An example of one-hot encoding:\n",
    "\n",
    "| Fruit    | Color   | Shape   |\n",
    "| :------- | :------ | :------ |\n",
    "| Apple    | Red     | Round   |\n",
    "| Banana   | Yellow  | Curved  |\n",
    "| Orange   | Orange  | Round   |\n",
    "| Apple    | Green   | Round   |\n",
    "\n",
    "The 'Fruit' column is the label.\n",
    "\n",
    "| Fruit    | Color_Red | Color_Yellow | Color_Orange | Color_Green | Shape_Round | Shape_Curved |\n",
    "| :------- | :-------- | :----------- | :----------- | :----------- | :---------- | :----------- |\n",
    "| Apple    | 1         | 0            | 0            | 0           | 1           | 0            |\n",
    "| Banana   | 0         | 1            | 0            | 0           | 0           | 1            |\n",
    "| Orange   | 0         | 0            | 1            | 0           | 1           | 0            |\n",
    "| Apple    | 0         | 0            | 0            | 1           | 1           | 0            |"
   ]
  },
  {
   "cell_type": "code",
   "execution_count": 5,
   "id": "4420043d",
   "metadata": {},
   "outputs": [],
   "source": [
    "class_names = ['edible', 'poisonous'] # Index 0 for 'e' (edible), Index 1 for 'p' (poisonous)"
   ]
  },
  {
   "cell_type": "markdown",
   "id": "38fa6383",
   "metadata": {},
   "source": [
    "`1. Clean-up Data`"
   ]
  },
  {
   "cell_type": "markdown",
   "id": "2b59bba3",
   "metadata": {},
   "source": [
    "Columns/Features to remove:\n",
    "- The column \"veil-type\" only has one value 'p', so we drop that column since it only has one value it doesn't provide any discriminative information.\n",
    "\n",
    "Note: the column 'stalk-root' has '?' values which will be one-hot encoded. 'stalk-root' values -> ['e', 'c', 'b', 'r', '?']."
   ]
  },
  {
   "cell_type": "code",
   "execution_count": 6,
   "id": "1ee79b6e",
   "metadata": {},
   "outputs": [],
   "source": [
    "# Remove \"veil-type\" column\n",
    "df.drop(\"veil-type\", axis=1, inplace=True)"
   ]
  },
  {
   "cell_type": "markdown",
   "id": "74d02bca",
   "metadata": {},
   "source": [
    "`2. Get Number of features`"
   ]
  },
  {
   "cell_type": "code",
   "execution_count": 7,
   "id": "1283cec4",
   "metadata": {},
   "outputs": [
    {
     "data": {
      "text/plain": [
       "'Total number of features: 116'"
      ]
     },
     "execution_count": 7,
     "metadata": {},
     "output_type": "execute_result"
    }
   ],
   "source": [
    "total_mushroom_features = 0\n",
    "for key in unique_values_per_column:\n",
    "    if key == 'class' or key == \"veil-type\":\n",
    "        # Get the features which is only the X columns that we will feed the model. the 'class' col is for the y and the 'veil-type' was removed\n",
    "        continue\n",
    "    total_mushroom_features += len(unique_values_per_column[key])\n",
    "f\"Total number of features: {total_mushroom_features}\""
   ]
  },
  {
   "cell_type": "markdown",
   "id": "a989e3ae",
   "metadata": {},
   "source": [
    "Total number of `features` is 116.\n",
    "- This means every sample/mushroom will have 116 columns. Why 116 and not 21 (after removing the 'class' and 'veil-type' columns), when we one-hot encode more columns will be added."
   ]
  },
  {
   "cell_type": "markdown",
   "id": "f995a4c2",
   "metadata": {},
   "source": [
    "`3. Split the features and target then divide into train and test sets.`"
   ]
  },
  {
   "cell_type": "code",
   "execution_count": 8,
   "id": "1180a3ca",
   "metadata": {},
   "outputs": [
    {
     "data": {
      "application/vnd.microsoft.datawrangler.viewer.v0+json": {
       "columns": [
        {
         "name": "index",
         "rawType": "int64",
         "type": "integer"
        },
        {
         "name": "class",
         "rawType": "int64",
         "type": "integer"
        }
       ],
       "ref": "a3add63d-0165-47e7-9c04-42f60d26a91c",
       "rows": [
        [
         "0",
         "1"
        ],
        [
         "1",
         "0"
        ],
        [
         "2",
         "0"
        ]
       ],
       "shape": {
        "columns": 1,
        "rows": 3
       }
      },
      "text/plain": [
       "0    1\n",
       "1    0\n",
       "2    0\n",
       "Name: class, dtype: int64"
      ]
     },
     "execution_count": 8,
     "metadata": {},
     "output_type": "execute_result"
    }
   ],
   "source": [
    "# Separate features (X) and target (y)\n",
    "X_df = df.drop(\"class\", axis=1)\n",
    "\n",
    "# Create the label and one-hot encode the class column to be 0 or 1.\n",
    "y_df = df[\"class\"].map(\n",
    "    {\n",
    "        \"e\": 0,\n",
    "        \"p\": 1,\n",
    "    }\n",
    ")\n",
    "y_df.head(3)"
   ]
  },
  {
   "cell_type": "code",
   "execution_count": 9,
   "id": "a5d09a15",
   "metadata": {},
   "outputs": [
    {
     "data": {
      "application/vnd.microsoft.datawrangler.viewer.v0+json": {
       "columns": [
        {
         "name": "index",
         "rawType": "int64",
         "type": "integer"
        },
        {
         "name": "cap-shape",
         "rawType": "object",
         "type": "string"
        },
        {
         "name": "cap-surface",
         "rawType": "object",
         "type": "string"
        },
        {
         "name": "cap-color",
         "rawType": "object",
         "type": "string"
        },
        {
         "name": "bruises",
         "rawType": "object",
         "type": "string"
        },
        {
         "name": "odor",
         "rawType": "object",
         "type": "string"
        },
        {
         "name": "gill-attachment",
         "rawType": "object",
         "type": "string"
        },
        {
         "name": "gill-spacing",
         "rawType": "object",
         "type": "string"
        },
        {
         "name": "gill-size",
         "rawType": "object",
         "type": "string"
        },
        {
         "name": "gill-color",
         "rawType": "object",
         "type": "string"
        },
        {
         "name": "stalk-shape",
         "rawType": "object",
         "type": "string"
        },
        {
         "name": "stalk-root",
         "rawType": "object",
         "type": "string"
        },
        {
         "name": "stalk-surface-above-ring",
         "rawType": "object",
         "type": "string"
        },
        {
         "name": "stalk-surface-below-ring",
         "rawType": "object",
         "type": "string"
        },
        {
         "name": "stalk-color-above-ring",
         "rawType": "object",
         "type": "string"
        },
        {
         "name": "stalk-color-below-ring",
         "rawType": "object",
         "type": "string"
        },
        {
         "name": "veil-color",
         "rawType": "object",
         "type": "string"
        },
        {
         "name": "ring-number",
         "rawType": "object",
         "type": "string"
        },
        {
         "name": "ring-type",
         "rawType": "object",
         "type": "string"
        },
        {
         "name": "spore-print-color",
         "rawType": "object",
         "type": "string"
        },
        {
         "name": "population",
         "rawType": "object",
         "type": "string"
        },
        {
         "name": "habitat",
         "rawType": "object",
         "type": "string"
        }
       ],
       "ref": "0b72dce3-bf44-4f23-9cd9-b44daf697667",
       "rows": [
        [
         "0",
         "x",
         "s",
         "n",
         "t",
         "p",
         "f",
         "c",
         "n",
         "k",
         "e",
         "e",
         "s",
         "s",
         "w",
         "w",
         "w",
         "o",
         "p",
         "k",
         "s",
         "u"
        ],
        [
         "1",
         "x",
         "s",
         "y",
         "t",
         "a",
         "f",
         "c",
         "b",
         "k",
         "e",
         "c",
         "s",
         "s",
         "w",
         "w",
         "w",
         "o",
         "p",
         "n",
         "n",
         "g"
        ],
        [
         "2",
         "b",
         "s",
         "w",
         "t",
         "l",
         "f",
         "c",
         "b",
         "n",
         "e",
         "c",
         "s",
         "s",
         "w",
         "w",
         "w",
         "o",
         "p",
         "n",
         "n",
         "m"
        ]
       ],
       "shape": {
        "columns": 21,
        "rows": 3
       }
      },
      "text/html": [
       "<div>\n",
       "<style scoped>\n",
       "    .dataframe tbody tr th:only-of-type {\n",
       "        vertical-align: middle;\n",
       "    }\n",
       "\n",
       "    .dataframe tbody tr th {\n",
       "        vertical-align: top;\n",
       "    }\n",
       "\n",
       "    .dataframe thead th {\n",
       "        text-align: right;\n",
       "    }\n",
       "</style>\n",
       "<table border=\"1\" class=\"dataframe\">\n",
       "  <thead>\n",
       "    <tr style=\"text-align: right;\">\n",
       "      <th></th>\n",
       "      <th>cap-shape</th>\n",
       "      <th>cap-surface</th>\n",
       "      <th>cap-color</th>\n",
       "      <th>bruises</th>\n",
       "      <th>odor</th>\n",
       "      <th>gill-attachment</th>\n",
       "      <th>gill-spacing</th>\n",
       "      <th>gill-size</th>\n",
       "      <th>gill-color</th>\n",
       "      <th>stalk-shape</th>\n",
       "      <th>...</th>\n",
       "      <th>stalk-surface-above-ring</th>\n",
       "      <th>stalk-surface-below-ring</th>\n",
       "      <th>stalk-color-above-ring</th>\n",
       "      <th>stalk-color-below-ring</th>\n",
       "      <th>veil-color</th>\n",
       "      <th>ring-number</th>\n",
       "      <th>ring-type</th>\n",
       "      <th>spore-print-color</th>\n",
       "      <th>population</th>\n",
       "      <th>habitat</th>\n",
       "    </tr>\n",
       "  </thead>\n",
       "  <tbody>\n",
       "    <tr>\n",
       "      <th>0</th>\n",
       "      <td>x</td>\n",
       "      <td>s</td>\n",
       "      <td>n</td>\n",
       "      <td>t</td>\n",
       "      <td>p</td>\n",
       "      <td>f</td>\n",
       "      <td>c</td>\n",
       "      <td>n</td>\n",
       "      <td>k</td>\n",
       "      <td>e</td>\n",
       "      <td>...</td>\n",
       "      <td>s</td>\n",
       "      <td>s</td>\n",
       "      <td>w</td>\n",
       "      <td>w</td>\n",
       "      <td>w</td>\n",
       "      <td>o</td>\n",
       "      <td>p</td>\n",
       "      <td>k</td>\n",
       "      <td>s</td>\n",
       "      <td>u</td>\n",
       "    </tr>\n",
       "    <tr>\n",
       "      <th>1</th>\n",
       "      <td>x</td>\n",
       "      <td>s</td>\n",
       "      <td>y</td>\n",
       "      <td>t</td>\n",
       "      <td>a</td>\n",
       "      <td>f</td>\n",
       "      <td>c</td>\n",
       "      <td>b</td>\n",
       "      <td>k</td>\n",
       "      <td>e</td>\n",
       "      <td>...</td>\n",
       "      <td>s</td>\n",
       "      <td>s</td>\n",
       "      <td>w</td>\n",
       "      <td>w</td>\n",
       "      <td>w</td>\n",
       "      <td>o</td>\n",
       "      <td>p</td>\n",
       "      <td>n</td>\n",
       "      <td>n</td>\n",
       "      <td>g</td>\n",
       "    </tr>\n",
       "    <tr>\n",
       "      <th>2</th>\n",
       "      <td>b</td>\n",
       "      <td>s</td>\n",
       "      <td>w</td>\n",
       "      <td>t</td>\n",
       "      <td>l</td>\n",
       "      <td>f</td>\n",
       "      <td>c</td>\n",
       "      <td>b</td>\n",
       "      <td>n</td>\n",
       "      <td>e</td>\n",
       "      <td>...</td>\n",
       "      <td>s</td>\n",
       "      <td>s</td>\n",
       "      <td>w</td>\n",
       "      <td>w</td>\n",
       "      <td>w</td>\n",
       "      <td>o</td>\n",
       "      <td>p</td>\n",
       "      <td>n</td>\n",
       "      <td>n</td>\n",
       "      <td>m</td>\n",
       "    </tr>\n",
       "  </tbody>\n",
       "</table>\n",
       "<p>3 rows × 21 columns</p>\n",
       "</div>"
      ],
      "text/plain": [
       "  cap-shape cap-surface cap-color bruises odor gill-attachment gill-spacing  \\\n",
       "0         x           s         n       t    p               f            c   \n",
       "1         x           s         y       t    a               f            c   \n",
       "2         b           s         w       t    l               f            c   \n",
       "\n",
       "  gill-size gill-color stalk-shape  ... stalk-surface-above-ring  \\\n",
       "0         n          k           e  ...                        s   \n",
       "1         b          k           e  ...                        s   \n",
       "2         b          n           e  ...                        s   \n",
       "\n",
       "  stalk-surface-below-ring stalk-color-above-ring stalk-color-below-ring  \\\n",
       "0                        s                      w                      w   \n",
       "1                        s                      w                      w   \n",
       "2                        s                      w                      w   \n",
       "\n",
       "  veil-color ring-number ring-type spore-print-color population habitat  \n",
       "0          w           o         p                 k          s       u  \n",
       "1          w           o         p                 n          n       g  \n",
       "2          w           o         p                 n          n       m  \n",
       "\n",
       "[3 rows x 21 columns]"
      ]
     },
     "execution_count": 9,
     "metadata": {},
     "output_type": "execute_result"
    }
   ],
   "source": [
    "X_df.head(3)"
   ]
  },
  {
   "cell_type": "markdown",
   "id": "921d7bed",
   "metadata": {},
   "source": [
    "Split into train and test sets. We do a 80/20 split, the train will contain 80% and the test will contain 20%."
   ]
  },
  {
   "cell_type": "markdown",
   "id": "d8faeb70",
   "metadata": {},
   "source": [
    "🔔 **Non-random Data Distribution**: The mushroom dataset is not a time-series dataset, meaning the order of its rows is arbitrary and not indicative of any temporal relationships. if you split it sequentially, you risk creating training and testing sets that do not accurately represent the overall distribution of categories within your data, e.g., don't take the first 80% for the train set and the last 20% for the test set, instead randomly split the data."
   ]
  },
  {
   "cell_type": "code",
   "execution_count": 10,
   "id": "ebc6a419",
   "metadata": {},
   "outputs": [
    {
     "name": "stdout",
     "output_type": "stream",
     "text": [
      "Train set has 6499 samples, test set has 1625 samples.\n"
     ]
    }
   ],
   "source": [
    "from sklearn.model_selection import train_test_split\n",
    "# Split into 4 tensors.\n",
    "X_train_df, X_test_df, y_train_df, y_test_df = train_test_split(\n",
    "    X_df, y_df, test_size=0.2, random_state=42 \n",
    ")\n",
    "\n",
    "print(f\"Train set has {len(X_train_df)} samples, test set has {len(X_test_df)} samples.\")"
   ]
  },
  {
   "cell_type": "markdown",
   "id": "9de3ed61",
   "metadata": {},
   "source": [
    "`4. One-Hot Encode The Data`"
   ]
  },
  {
   "cell_type": "code",
   "execution_count": 11,
   "id": "aca17292",
   "metadata": {},
   "outputs": [
    {
     "name": "stdout",
     "output_type": "stream",
     "text": [
      "\n",
      "Categorical columns to encode -> count: 21 -> ['cap-shape', 'cap-surface', 'cap-color', 'bruises', 'odor', 'gill-attachment', 'gill-spacing', 'gill-size', 'gill-color', 'stalk-shape', 'stalk-root', 'stalk-surface-above-ring', 'stalk-surface-below-ring', 'stalk-color-above-ring', 'stalk-color-below-ring', 'veil-color', 'ring-number', 'ring-type', 'spore-print-color', 'population', 'habitat']\n"
     ]
    }
   ],
   "source": [
    "categorical_cols = X_train_df.select_dtypes(include='object').columns.tolist()\n",
    "print(f\"\\nCategorical columns to encode -> count: {len(categorical_cols)} -> {categorical_cols}\")"
   ]
  },
  {
   "cell_type": "code",
   "execution_count": 12,
   "id": "576d75a3",
   "metadata": {},
   "outputs": [
    {
     "data": {
      "text/html": [
       "<style>#sk-container-id-1 {\n",
       "  /* Definition of color scheme common for light and dark mode */\n",
       "  --sklearn-color-text: #000;\n",
       "  --sklearn-color-text-muted: #666;\n",
       "  --sklearn-color-line: gray;\n",
       "  /* Definition of color scheme for unfitted estimators */\n",
       "  --sklearn-color-unfitted-level-0: #fff5e6;\n",
       "  --sklearn-color-unfitted-level-1: #f6e4d2;\n",
       "  --sklearn-color-unfitted-level-2: #ffe0b3;\n",
       "  --sklearn-color-unfitted-level-3: chocolate;\n",
       "  /* Definition of color scheme for fitted estimators */\n",
       "  --sklearn-color-fitted-level-0: #f0f8ff;\n",
       "  --sklearn-color-fitted-level-1: #d4ebff;\n",
       "  --sklearn-color-fitted-level-2: #b3dbfd;\n",
       "  --sklearn-color-fitted-level-3: cornflowerblue;\n",
       "\n",
       "  /* Specific color for light theme */\n",
       "  --sklearn-color-text-on-default-background: var(--sg-text-color, var(--theme-code-foreground, var(--jp-content-font-color1, black)));\n",
       "  --sklearn-color-background: var(--sg-background-color, var(--theme-background, var(--jp-layout-color0, white)));\n",
       "  --sklearn-color-border-box: var(--sg-text-color, var(--theme-code-foreground, var(--jp-content-font-color1, black)));\n",
       "  --sklearn-color-icon: #696969;\n",
       "\n",
       "  @media (prefers-color-scheme: dark) {\n",
       "    /* Redefinition of color scheme for dark theme */\n",
       "    --sklearn-color-text-on-default-background: var(--sg-text-color, var(--theme-code-foreground, var(--jp-content-font-color1, white)));\n",
       "    --sklearn-color-background: var(--sg-background-color, var(--theme-background, var(--jp-layout-color0, #111)));\n",
       "    --sklearn-color-border-box: var(--sg-text-color, var(--theme-code-foreground, var(--jp-content-font-color1, white)));\n",
       "    --sklearn-color-icon: #878787;\n",
       "  }\n",
       "}\n",
       "\n",
       "#sk-container-id-1 {\n",
       "  color: var(--sklearn-color-text);\n",
       "}\n",
       "\n",
       "#sk-container-id-1 pre {\n",
       "  padding: 0;\n",
       "}\n",
       "\n",
       "#sk-container-id-1 input.sk-hidden--visually {\n",
       "  border: 0;\n",
       "  clip: rect(1px 1px 1px 1px);\n",
       "  clip: rect(1px, 1px, 1px, 1px);\n",
       "  height: 1px;\n",
       "  margin: -1px;\n",
       "  overflow: hidden;\n",
       "  padding: 0;\n",
       "  position: absolute;\n",
       "  width: 1px;\n",
       "}\n",
       "\n",
       "#sk-container-id-1 div.sk-dashed-wrapped {\n",
       "  border: 1px dashed var(--sklearn-color-line);\n",
       "  margin: 0 0.4em 0.5em 0.4em;\n",
       "  box-sizing: border-box;\n",
       "  padding-bottom: 0.4em;\n",
       "  background-color: var(--sklearn-color-background);\n",
       "}\n",
       "\n",
       "#sk-container-id-1 div.sk-container {\n",
       "  /* jupyter's `normalize.less` sets `[hidden] { display: none; }`\n",
       "     but bootstrap.min.css set `[hidden] { display: none !important; }`\n",
       "     so we also need the `!important` here to be able to override the\n",
       "     default hidden behavior on the sphinx rendered scikit-learn.org.\n",
       "     See: https://github.com/scikit-learn/scikit-learn/issues/21755 */\n",
       "  display: inline-block !important;\n",
       "  position: relative;\n",
       "}\n",
       "\n",
       "#sk-container-id-1 div.sk-text-repr-fallback {\n",
       "  display: none;\n",
       "}\n",
       "\n",
       "div.sk-parallel-item,\n",
       "div.sk-serial,\n",
       "div.sk-item {\n",
       "  /* draw centered vertical line to link estimators */\n",
       "  background-image: linear-gradient(var(--sklearn-color-text-on-default-background), var(--sklearn-color-text-on-default-background));\n",
       "  background-size: 2px 100%;\n",
       "  background-repeat: no-repeat;\n",
       "  background-position: center center;\n",
       "}\n",
       "\n",
       "/* Parallel-specific style estimator block */\n",
       "\n",
       "#sk-container-id-1 div.sk-parallel-item::after {\n",
       "  content: \"\";\n",
       "  width: 100%;\n",
       "  border-bottom: 2px solid var(--sklearn-color-text-on-default-background);\n",
       "  flex-grow: 1;\n",
       "}\n",
       "\n",
       "#sk-container-id-1 div.sk-parallel {\n",
       "  display: flex;\n",
       "  align-items: stretch;\n",
       "  justify-content: center;\n",
       "  background-color: var(--sklearn-color-background);\n",
       "  position: relative;\n",
       "}\n",
       "\n",
       "#sk-container-id-1 div.sk-parallel-item {\n",
       "  display: flex;\n",
       "  flex-direction: column;\n",
       "}\n",
       "\n",
       "#sk-container-id-1 div.sk-parallel-item:first-child::after {\n",
       "  align-self: flex-end;\n",
       "  width: 50%;\n",
       "}\n",
       "\n",
       "#sk-container-id-1 div.sk-parallel-item:last-child::after {\n",
       "  align-self: flex-start;\n",
       "  width: 50%;\n",
       "}\n",
       "\n",
       "#sk-container-id-1 div.sk-parallel-item:only-child::after {\n",
       "  width: 0;\n",
       "}\n",
       "\n",
       "/* Serial-specific style estimator block */\n",
       "\n",
       "#sk-container-id-1 div.sk-serial {\n",
       "  display: flex;\n",
       "  flex-direction: column;\n",
       "  align-items: center;\n",
       "  background-color: var(--sklearn-color-background);\n",
       "  padding-right: 1em;\n",
       "  padding-left: 1em;\n",
       "}\n",
       "\n",
       "\n",
       "/* Toggleable style: style used for estimator/Pipeline/ColumnTransformer box that is\n",
       "clickable and can be expanded/collapsed.\n",
       "- Pipeline and ColumnTransformer use this feature and define the default style\n",
       "- Estimators will overwrite some part of the style using the `sk-estimator` class\n",
       "*/\n",
       "\n",
       "/* Pipeline and ColumnTransformer style (default) */\n",
       "\n",
       "#sk-container-id-1 div.sk-toggleable {\n",
       "  /* Default theme specific background. It is overwritten whether we have a\n",
       "  specific estimator or a Pipeline/ColumnTransformer */\n",
       "  background-color: var(--sklearn-color-background);\n",
       "}\n",
       "\n",
       "/* Toggleable label */\n",
       "#sk-container-id-1 label.sk-toggleable__label {\n",
       "  cursor: pointer;\n",
       "  display: flex;\n",
       "  width: 100%;\n",
       "  margin-bottom: 0;\n",
       "  padding: 0.5em;\n",
       "  box-sizing: border-box;\n",
       "  text-align: center;\n",
       "  align-items: start;\n",
       "  justify-content: space-between;\n",
       "  gap: 0.5em;\n",
       "}\n",
       "\n",
       "#sk-container-id-1 label.sk-toggleable__label .caption {\n",
       "  font-size: 0.6rem;\n",
       "  font-weight: lighter;\n",
       "  color: var(--sklearn-color-text-muted);\n",
       "}\n",
       "\n",
       "#sk-container-id-1 label.sk-toggleable__label-arrow:before {\n",
       "  /* Arrow on the left of the label */\n",
       "  content: \"▸\";\n",
       "  float: left;\n",
       "  margin-right: 0.25em;\n",
       "  color: var(--sklearn-color-icon);\n",
       "}\n",
       "\n",
       "#sk-container-id-1 label.sk-toggleable__label-arrow:hover:before {\n",
       "  color: var(--sklearn-color-text);\n",
       "}\n",
       "\n",
       "/* Toggleable content - dropdown */\n",
       "\n",
       "#sk-container-id-1 div.sk-toggleable__content {\n",
       "  display: none;\n",
       "  text-align: left;\n",
       "  /* unfitted */\n",
       "  background-color: var(--sklearn-color-unfitted-level-0);\n",
       "}\n",
       "\n",
       "#sk-container-id-1 div.sk-toggleable__content.fitted {\n",
       "  /* fitted */\n",
       "  background-color: var(--sklearn-color-fitted-level-0);\n",
       "}\n",
       "\n",
       "#sk-container-id-1 div.sk-toggleable__content pre {\n",
       "  margin: 0.2em;\n",
       "  border-radius: 0.25em;\n",
       "  color: var(--sklearn-color-text);\n",
       "  /* unfitted */\n",
       "  background-color: var(--sklearn-color-unfitted-level-0);\n",
       "}\n",
       "\n",
       "#sk-container-id-1 div.sk-toggleable__content.fitted pre {\n",
       "  /* unfitted */\n",
       "  background-color: var(--sklearn-color-fitted-level-0);\n",
       "}\n",
       "\n",
       "#sk-container-id-1 input.sk-toggleable__control:checked~div.sk-toggleable__content {\n",
       "  /* Expand drop-down */\n",
       "  display: block;\n",
       "  width: 100%;\n",
       "  overflow: visible;\n",
       "}\n",
       "\n",
       "#sk-container-id-1 input.sk-toggleable__control:checked~label.sk-toggleable__label-arrow:before {\n",
       "  content: \"▾\";\n",
       "}\n",
       "\n",
       "/* Pipeline/ColumnTransformer-specific style */\n",
       "\n",
       "#sk-container-id-1 div.sk-label input.sk-toggleable__control:checked~label.sk-toggleable__label {\n",
       "  color: var(--sklearn-color-text);\n",
       "  background-color: var(--sklearn-color-unfitted-level-2);\n",
       "}\n",
       "\n",
       "#sk-container-id-1 div.sk-label.fitted input.sk-toggleable__control:checked~label.sk-toggleable__label {\n",
       "  background-color: var(--sklearn-color-fitted-level-2);\n",
       "}\n",
       "\n",
       "/* Estimator-specific style */\n",
       "\n",
       "/* Colorize estimator box */\n",
       "#sk-container-id-1 div.sk-estimator input.sk-toggleable__control:checked~label.sk-toggleable__label {\n",
       "  /* unfitted */\n",
       "  background-color: var(--sklearn-color-unfitted-level-2);\n",
       "}\n",
       "\n",
       "#sk-container-id-1 div.sk-estimator.fitted input.sk-toggleable__control:checked~label.sk-toggleable__label {\n",
       "  /* fitted */\n",
       "  background-color: var(--sklearn-color-fitted-level-2);\n",
       "}\n",
       "\n",
       "#sk-container-id-1 div.sk-label label.sk-toggleable__label,\n",
       "#sk-container-id-1 div.sk-label label {\n",
       "  /* The background is the default theme color */\n",
       "  color: var(--sklearn-color-text-on-default-background);\n",
       "}\n",
       "\n",
       "/* On hover, darken the color of the background */\n",
       "#sk-container-id-1 div.sk-label:hover label.sk-toggleable__label {\n",
       "  color: var(--sklearn-color-text);\n",
       "  background-color: var(--sklearn-color-unfitted-level-2);\n",
       "}\n",
       "\n",
       "/* Label box, darken color on hover, fitted */\n",
       "#sk-container-id-1 div.sk-label.fitted:hover label.sk-toggleable__label.fitted {\n",
       "  color: var(--sklearn-color-text);\n",
       "  background-color: var(--sklearn-color-fitted-level-2);\n",
       "}\n",
       "\n",
       "/* Estimator label */\n",
       "\n",
       "#sk-container-id-1 div.sk-label label {\n",
       "  font-family: monospace;\n",
       "  font-weight: bold;\n",
       "  display: inline-block;\n",
       "  line-height: 1.2em;\n",
       "}\n",
       "\n",
       "#sk-container-id-1 div.sk-label-container {\n",
       "  text-align: center;\n",
       "}\n",
       "\n",
       "/* Estimator-specific */\n",
       "#sk-container-id-1 div.sk-estimator {\n",
       "  font-family: monospace;\n",
       "  border: 1px dotted var(--sklearn-color-border-box);\n",
       "  border-radius: 0.25em;\n",
       "  box-sizing: border-box;\n",
       "  margin-bottom: 0.5em;\n",
       "  /* unfitted */\n",
       "  background-color: var(--sklearn-color-unfitted-level-0);\n",
       "}\n",
       "\n",
       "#sk-container-id-1 div.sk-estimator.fitted {\n",
       "  /* fitted */\n",
       "  background-color: var(--sklearn-color-fitted-level-0);\n",
       "}\n",
       "\n",
       "/* on hover */\n",
       "#sk-container-id-1 div.sk-estimator:hover {\n",
       "  /* unfitted */\n",
       "  background-color: var(--sklearn-color-unfitted-level-2);\n",
       "}\n",
       "\n",
       "#sk-container-id-1 div.sk-estimator.fitted:hover {\n",
       "  /* fitted */\n",
       "  background-color: var(--sklearn-color-fitted-level-2);\n",
       "}\n",
       "\n",
       "/* Specification for estimator info (e.g. \"i\" and \"?\") */\n",
       "\n",
       "/* Common style for \"i\" and \"?\" */\n",
       "\n",
       ".sk-estimator-doc-link,\n",
       "a:link.sk-estimator-doc-link,\n",
       "a:visited.sk-estimator-doc-link {\n",
       "  float: right;\n",
       "  font-size: smaller;\n",
       "  line-height: 1em;\n",
       "  font-family: monospace;\n",
       "  background-color: var(--sklearn-color-background);\n",
       "  border-radius: 1em;\n",
       "  height: 1em;\n",
       "  width: 1em;\n",
       "  text-decoration: none !important;\n",
       "  margin-left: 0.5em;\n",
       "  text-align: center;\n",
       "  /* unfitted */\n",
       "  border: var(--sklearn-color-unfitted-level-1) 1pt solid;\n",
       "  color: var(--sklearn-color-unfitted-level-1);\n",
       "}\n",
       "\n",
       ".sk-estimator-doc-link.fitted,\n",
       "a:link.sk-estimator-doc-link.fitted,\n",
       "a:visited.sk-estimator-doc-link.fitted {\n",
       "  /* fitted */\n",
       "  border: var(--sklearn-color-fitted-level-1) 1pt solid;\n",
       "  color: var(--sklearn-color-fitted-level-1);\n",
       "}\n",
       "\n",
       "/* On hover */\n",
       "div.sk-estimator:hover .sk-estimator-doc-link:hover,\n",
       ".sk-estimator-doc-link:hover,\n",
       "div.sk-label-container:hover .sk-estimator-doc-link:hover,\n",
       ".sk-estimator-doc-link:hover {\n",
       "  /* unfitted */\n",
       "  background-color: var(--sklearn-color-unfitted-level-3);\n",
       "  color: var(--sklearn-color-background);\n",
       "  text-decoration: none;\n",
       "}\n",
       "\n",
       "div.sk-estimator.fitted:hover .sk-estimator-doc-link.fitted:hover,\n",
       ".sk-estimator-doc-link.fitted:hover,\n",
       "div.sk-label-container:hover .sk-estimator-doc-link.fitted:hover,\n",
       ".sk-estimator-doc-link.fitted:hover {\n",
       "  /* fitted */\n",
       "  background-color: var(--sklearn-color-fitted-level-3);\n",
       "  color: var(--sklearn-color-background);\n",
       "  text-decoration: none;\n",
       "}\n",
       "\n",
       "/* Span, style for the box shown on hovering the info icon */\n",
       ".sk-estimator-doc-link span {\n",
       "  display: none;\n",
       "  z-index: 9999;\n",
       "  position: relative;\n",
       "  font-weight: normal;\n",
       "  right: .2ex;\n",
       "  padding: .5ex;\n",
       "  margin: .5ex;\n",
       "  width: min-content;\n",
       "  min-width: 20ex;\n",
       "  max-width: 50ex;\n",
       "  color: var(--sklearn-color-text);\n",
       "  box-shadow: 2pt 2pt 4pt #999;\n",
       "  /* unfitted */\n",
       "  background: var(--sklearn-color-unfitted-level-0);\n",
       "  border: .5pt solid var(--sklearn-color-unfitted-level-3);\n",
       "}\n",
       "\n",
       ".sk-estimator-doc-link.fitted span {\n",
       "  /* fitted */\n",
       "  background: var(--sklearn-color-fitted-level-0);\n",
       "  border: var(--sklearn-color-fitted-level-3);\n",
       "}\n",
       "\n",
       ".sk-estimator-doc-link:hover span {\n",
       "  display: block;\n",
       "}\n",
       "\n",
       "/* \"?\"-specific style due to the `<a>` HTML tag */\n",
       "\n",
       "#sk-container-id-1 a.estimator_doc_link {\n",
       "  float: right;\n",
       "  font-size: 1rem;\n",
       "  line-height: 1em;\n",
       "  font-family: monospace;\n",
       "  background-color: var(--sklearn-color-background);\n",
       "  border-radius: 1rem;\n",
       "  height: 1rem;\n",
       "  width: 1rem;\n",
       "  text-decoration: none;\n",
       "  /* unfitted */\n",
       "  color: var(--sklearn-color-unfitted-level-1);\n",
       "  border: var(--sklearn-color-unfitted-level-1) 1pt solid;\n",
       "}\n",
       "\n",
       "#sk-container-id-1 a.estimator_doc_link.fitted {\n",
       "  /* fitted */\n",
       "  border: var(--sklearn-color-fitted-level-1) 1pt solid;\n",
       "  color: var(--sklearn-color-fitted-level-1);\n",
       "}\n",
       "\n",
       "/* On hover */\n",
       "#sk-container-id-1 a.estimator_doc_link:hover {\n",
       "  /* unfitted */\n",
       "  background-color: var(--sklearn-color-unfitted-level-3);\n",
       "  color: var(--sklearn-color-background);\n",
       "  text-decoration: none;\n",
       "}\n",
       "\n",
       "#sk-container-id-1 a.estimator_doc_link.fitted:hover {\n",
       "  /* fitted */\n",
       "  background-color: var(--sklearn-color-fitted-level-3);\n",
       "}\n",
       "\n",
       ".estimator-table summary {\n",
       "    padding: .5rem;\n",
       "    font-family: monospace;\n",
       "    cursor: pointer;\n",
       "}\n",
       "\n",
       ".estimator-table details[open] {\n",
       "    padding-left: 0.1rem;\n",
       "    padding-right: 0.1rem;\n",
       "    padding-bottom: 0.3rem;\n",
       "}\n",
       "\n",
       ".estimator-table .parameters-table {\n",
       "    margin-left: auto !important;\n",
       "    margin-right: auto !important;\n",
       "}\n",
       "\n",
       ".estimator-table .parameters-table tr:nth-child(odd) {\n",
       "    background-color: #fff;\n",
       "}\n",
       "\n",
       ".estimator-table .parameters-table tr:nth-child(even) {\n",
       "    background-color: #f6f6f6;\n",
       "}\n",
       "\n",
       ".estimator-table .parameters-table tr:hover {\n",
       "    background-color: #e0e0e0;\n",
       "}\n",
       "\n",
       ".estimator-table table td {\n",
       "    border: 1px solid rgba(106, 105, 104, 0.232);\n",
       "}\n",
       "\n",
       ".user-set td {\n",
       "    color:rgb(255, 94, 0);\n",
       "    text-align: left;\n",
       "}\n",
       "\n",
       ".user-set td.value pre {\n",
       "    color:rgb(255, 94, 0) !important;\n",
       "    background-color: transparent !important;\n",
       "}\n",
       "\n",
       ".default td {\n",
       "    color: black;\n",
       "    text-align: left;\n",
       "}\n",
       "\n",
       ".user-set td i,\n",
       ".default td i {\n",
       "    color: black;\n",
       "}\n",
       "\n",
       ".copy-paste-icon {\n",
       "    background-image: url(data:image/svg+xml;base64,PHN2ZyB4bWxucz0iaHR0cDovL3d3dy53My5vcmcvMjAwMC9zdmciIHZpZXdCb3g9IjAgMCA0NDggNTEyIj48IS0tIUZvbnQgQXdlc29tZSBGcmVlIDYuNy4yIGJ5IEBmb250YXdlc29tZSAtIGh0dHBzOi8vZm9udGF3ZXNvbWUuY29tIExpY2Vuc2UgLSBodHRwczovL2ZvbnRhd2Vzb21lLmNvbS9saWNlbnNlL2ZyZWUgQ29weXJpZ2h0IDIwMjUgRm9udGljb25zLCBJbmMuLS0+PHBhdGggZD0iTTIwOCAwTDMzMi4xIDBjMTIuNyAwIDI0LjkgNS4xIDMzLjkgMTQuMWw2Ny45IDY3LjljOSA5IDE0LjEgMjEuMiAxNC4xIDMzLjlMNDQ4IDMzNmMwIDI2LjUtMjEuNSA0OC00OCA0OGwtMTkyIDBjLTI2LjUgMC00OC0yMS41LTQ4LTQ4bDAtMjg4YzAtMjYuNSAyMS41LTQ4IDQ4LTQ4ek00OCAxMjhsODAgMCAwIDY0LTY0IDAgMCAyNTYgMTkyIDAgMC0zMiA2NCAwIDAgNDhjMCAyNi41LTIxLjUgNDgtNDggNDhMNDggNTEyYy0yNi41IDAtNDgtMjEuNS00OC00OEwwIDE3NmMwLTI2LjUgMjEuNS00OCA0OC00OHoiLz48L3N2Zz4=);\n",
       "    background-repeat: no-repeat;\n",
       "    background-size: 14px 14px;\n",
       "    background-position: 0;\n",
       "    display: inline-block;\n",
       "    width: 14px;\n",
       "    height: 14px;\n",
       "    cursor: pointer;\n",
       "}\n",
       "</style><body><div id=\"sk-container-id-1\" class=\"sk-top-container\"><div class=\"sk-text-repr-fallback\"><pre>OneHotEncoder(handle_unknown=&#x27;ignore&#x27;, sparse_output=False)</pre><b>In a Jupyter environment, please rerun this cell to show the HTML representation or trust the notebook. <br />On GitHub, the HTML representation is unable to render, please try loading this page with nbviewer.org.</b></div><div class=\"sk-container\" hidden><div class=\"sk-item\"><div class=\"sk-estimator fitted sk-toggleable\"><input class=\"sk-toggleable__control sk-hidden--visually\" id=\"sk-estimator-id-1\" type=\"checkbox\" checked><label for=\"sk-estimator-id-1\" class=\"sk-toggleable__label fitted sk-toggleable__label-arrow\"><div><div>OneHotEncoder</div></div><div><a class=\"sk-estimator-doc-link fitted\" rel=\"noreferrer\" target=\"_blank\" href=\"https://scikit-learn.org/1.7/modules/generated/sklearn.preprocessing.OneHotEncoder.html\">?<span>Documentation for OneHotEncoder</span></a><span class=\"sk-estimator-doc-link fitted\">i<span>Fitted</span></span></div></label><div class=\"sk-toggleable__content fitted\" data-param-prefix=\"\">\n",
       "        <div class=\"estimator-table\">\n",
       "            <details>\n",
       "                <summary>Parameters</summary>\n",
       "                <table class=\"parameters-table\">\n",
       "                  <tbody>\n",
       "                    \n",
       "        <tr class=\"default\">\n",
       "            <td><i class=\"copy-paste-icon\"\n",
       "                 onclick=\"copyToClipboard('categories',\n",
       "                          this.parentElement.nextElementSibling)\"\n",
       "            ></i></td>\n",
       "            <td class=\"param\">categories&nbsp;</td>\n",
       "            <td class=\"value\">&#x27;auto&#x27;</td>\n",
       "        </tr>\n",
       "    \n",
       "\n",
       "        <tr class=\"default\">\n",
       "            <td><i class=\"copy-paste-icon\"\n",
       "                 onclick=\"copyToClipboard('drop',\n",
       "                          this.parentElement.nextElementSibling)\"\n",
       "            ></i></td>\n",
       "            <td class=\"param\">drop&nbsp;</td>\n",
       "            <td class=\"value\">None</td>\n",
       "        </tr>\n",
       "    \n",
       "\n",
       "        <tr class=\"user-set\">\n",
       "            <td><i class=\"copy-paste-icon\"\n",
       "                 onclick=\"copyToClipboard('sparse_output',\n",
       "                          this.parentElement.nextElementSibling)\"\n",
       "            ></i></td>\n",
       "            <td class=\"param\">sparse_output&nbsp;</td>\n",
       "            <td class=\"value\">False</td>\n",
       "        </tr>\n",
       "    \n",
       "\n",
       "        <tr class=\"default\">\n",
       "            <td><i class=\"copy-paste-icon\"\n",
       "                 onclick=\"copyToClipboard('dtype',\n",
       "                          this.parentElement.nextElementSibling)\"\n",
       "            ></i></td>\n",
       "            <td class=\"param\">dtype&nbsp;</td>\n",
       "            <td class=\"value\">&lt;class &#x27;numpy.float64&#x27;&gt;</td>\n",
       "        </tr>\n",
       "    \n",
       "\n",
       "        <tr class=\"user-set\">\n",
       "            <td><i class=\"copy-paste-icon\"\n",
       "                 onclick=\"copyToClipboard('handle_unknown',\n",
       "                          this.parentElement.nextElementSibling)\"\n",
       "            ></i></td>\n",
       "            <td class=\"param\">handle_unknown&nbsp;</td>\n",
       "            <td class=\"value\">&#x27;ignore&#x27;</td>\n",
       "        </tr>\n",
       "    \n",
       "\n",
       "        <tr class=\"default\">\n",
       "            <td><i class=\"copy-paste-icon\"\n",
       "                 onclick=\"copyToClipboard('min_frequency',\n",
       "                          this.parentElement.nextElementSibling)\"\n",
       "            ></i></td>\n",
       "            <td class=\"param\">min_frequency&nbsp;</td>\n",
       "            <td class=\"value\">None</td>\n",
       "        </tr>\n",
       "    \n",
       "\n",
       "        <tr class=\"default\">\n",
       "            <td><i class=\"copy-paste-icon\"\n",
       "                 onclick=\"copyToClipboard('max_categories',\n",
       "                          this.parentElement.nextElementSibling)\"\n",
       "            ></i></td>\n",
       "            <td class=\"param\">max_categories&nbsp;</td>\n",
       "            <td class=\"value\">None</td>\n",
       "        </tr>\n",
       "    \n",
       "\n",
       "        <tr class=\"default\">\n",
       "            <td><i class=\"copy-paste-icon\"\n",
       "                 onclick=\"copyToClipboard('feature_name_combiner',\n",
       "                          this.parentElement.nextElementSibling)\"\n",
       "            ></i></td>\n",
       "            <td class=\"param\">feature_name_combiner&nbsp;</td>\n",
       "            <td class=\"value\">&#x27;concat&#x27;</td>\n",
       "        </tr>\n",
       "    \n",
       "                  </tbody>\n",
       "                </table>\n",
       "            </details>\n",
       "        </div>\n",
       "    </div></div></div></div></div><script>function copyToClipboard(text, element) {\n",
       "    // Get the parameter prefix from the closest toggleable content\n",
       "    const toggleableContent = element.closest('.sk-toggleable__content');\n",
       "    const paramPrefix = toggleableContent ? toggleableContent.dataset.paramPrefix : '';\n",
       "    const fullParamName = paramPrefix ? `${paramPrefix}${text}` : text;\n",
       "\n",
       "    const originalStyle = element.style;\n",
       "    const computedStyle = window.getComputedStyle(element);\n",
       "    const originalWidth = computedStyle.width;\n",
       "    const originalHTML = element.innerHTML.replace('Copied!', '');\n",
       "\n",
       "    navigator.clipboard.writeText(fullParamName)\n",
       "        .then(() => {\n",
       "            element.style.width = originalWidth;\n",
       "            element.style.color = 'green';\n",
       "            element.innerHTML = \"Copied!\";\n",
       "\n",
       "            setTimeout(() => {\n",
       "                element.innerHTML = originalHTML;\n",
       "                element.style = originalStyle;\n",
       "            }, 2000);\n",
       "        })\n",
       "        .catch(err => {\n",
       "            console.error('Failed to copy:', err);\n",
       "            element.style.color = 'red';\n",
       "            element.innerHTML = \"Failed!\";\n",
       "            setTimeout(() => {\n",
       "                element.innerHTML = originalHTML;\n",
       "                element.style = originalStyle;\n",
       "            }, 2000);\n",
       "        });\n",
       "    return false;\n",
       "}\n",
       "\n",
       "document.querySelectorAll('.fa-regular.fa-copy').forEach(function(element) {\n",
       "    const toggleableContent = element.closest('.sk-toggleable__content');\n",
       "    const paramPrefix = toggleableContent ? toggleableContent.dataset.paramPrefix : '';\n",
       "    const paramName = element.parentElement.nextElementSibling.textContent.trim();\n",
       "    const fullParamName = paramPrefix ? `${paramPrefix}${paramName}` : paramName;\n",
       "\n",
       "    element.setAttribute('title', fullParamName);\n",
       "});\n",
       "</script></body>"
      ],
      "text/plain": [
       "OneHotEncoder(handle_unknown='ignore', sparse_output=False)"
      ]
     },
     "execution_count": 12,
     "metadata": {},
     "output_type": "execute_result"
    }
   ],
   "source": [
    "# Initialize and fit the OneHotEncoder on the TRAINING DATA ONLY\n",
    "from sklearn.preprocessing import OneHotEncoder\n",
    "encoder = OneHotEncoder(handle_unknown='ignore', sparse_output=False) # sparse_output=False for dense numpy arrays\n",
    "encoder.fit(X_train_df[categorical_cols])"
   ]
  },
  {
   "cell_type": "code",
   "execution_count": 13,
   "id": "9ce6528e",
   "metadata": {},
   "outputs": [],
   "source": [
    "# Encode both training and test data\n",
    "#   For training data\n",
    "X_train = encoder.transform(X_train_df[categorical_cols])\n",
    "X_test = encoder.transform(X_test_df[categorical_cols])\n",
    "\n",
    "# For the labeled data that has already been encoded simply transfer it to a numpy array.\n",
    "y_train = y_train_df.values\n",
    "y_test = y_test_df.values"
   ]
  },
  {
   "cell_type": "code",
   "execution_count": 14,
   "id": "8ed854d1",
   "metadata": {},
   "outputs": [
    {
     "data": {
      "text/plain": [
       "array([[0., 0., 0., ..., 0., 0., 0.],\n",
       "       [0., 0., 0., ..., 1., 0., 0.],\n",
       "       [0., 0., 1., ..., 0., 0., 0.],\n",
       "       ...,\n",
       "       [0., 0., 1., ..., 1., 0., 0.],\n",
       "       [0., 0., 0., ..., 1., 0., 0.],\n",
       "       [0., 0., 0., ..., 0., 0., 0.]], shape=(6499, 116))"
      ]
     },
     "execution_count": 14,
     "metadata": {},
     "output_type": "execute_result"
    }
   ],
   "source": [
    "X_train"
   ]
  },
  {
   "cell_type": "code",
   "execution_count": 15,
   "id": "e70998b2",
   "metadata": {},
   "outputs": [
    {
     "data": {
      "text/plain": [
       "array([[0., 0., 1., ..., 0., 0., 0.],\n",
       "       [0., 0., 1., ..., 0., 0., 0.],\n",
       "       [0., 0., 0., ..., 0., 0., 0.],\n",
       "       ...,\n",
       "       [0., 0., 0., ..., 1., 0., 0.],\n",
       "       [0., 0., 0., ..., 1., 0., 0.],\n",
       "       [0., 0., 0., ..., 1., 0., 0.]], shape=(1625, 116))"
      ]
     },
     "execution_count": 15,
     "metadata": {},
     "output_type": "execute_result"
    }
   ],
   "source": [
    "X_test"
   ]
  },
  {
   "cell_type": "markdown",
   "id": "18f769fb",
   "metadata": {},
   "source": [
    "`Show example one-hot encoding for the first mushroom/row`"
   ]
  },
  {
   "cell_type": "code",
   "execution_count": 16,
   "id": "362a42da",
   "metadata": {},
   "outputs": [
    {
     "data": {
      "text/plain": [
       "array([0., 0., 0., 1., 0., 0., 0., 0., 1., 0., 0., 0., 1., 0., 0., 0., 0.,\n",
       "       0., 0., 0., 1., 0., 0., 0., 0., 0., 0., 0., 0., 1., 0., 0., 1., 1.,\n",
       "       0., 0., 1., 1., 0., 0., 0., 0., 0., 0., 0., 0., 0., 0., 0., 0., 1.,\n",
       "       1., 0., 0., 0., 0., 0., 0., 1., 0., 0., 1., 0., 0., 0., 0., 0., 0.,\n",
       "       0., 0., 1., 0., 0., 0., 0., 0., 0., 0., 0., 0., 1., 0., 0., 0., 1.,\n",
       "       0., 0., 1., 0., 1., 0., 0., 0., 0., 0., 0., 0., 0., 0., 0., 0., 1.,\n",
       "       0., 0., 0., 0., 0., 1., 0., 1., 0., 0., 0., 0., 0., 0.])"
      ]
     },
     "execution_count": 16,
     "metadata": {},
     "output_type": "execute_result"
    }
   ],
   "source": [
    "first_row_sample = X_train[0]\n",
    "first_row_sample"
   ]
  },
  {
   "cell_type": "code",
   "execution_count": 17,
   "id": "cef50eb4",
   "metadata": {},
   "outputs": [
    {
     "name": "stdout",
     "output_type": "stream",
     "text": [
      "This mushroom sample has the following characteristics:\n",
      "- cap-shape_k\n",
      "- cap-surface_s\n",
      "- cap-color_e\n",
      "- bruises_f\n",
      "- odor_s\n",
      "- gill-attachment_f\n",
      "- gill-spacing_c\n",
      "- gill-size_n\n",
      "- gill-color_b\n",
      "- stalk-shape_t\n",
      "- stalk-root_?\n",
      "- stalk-surface-above-ring_s\n",
      "- stalk-surface-below-ring_k\n",
      "- stalk-color-above-ring_p\n",
      "- stalk-color-below-ring_w\n",
      "- veil-color_w\n",
      "- ring-number_o\n",
      "- ring-type_e\n",
      "- spore-print-color_w\n",
      "- population_v\n",
      "- habitat_d\n",
      "This mushroom in the dataframe:\n"
     ]
    },
    {
     "data": {
      "application/vnd.microsoft.datawrangler.viewer.v0+json": {
       "columns": [
        {
         "name": "index",
         "rawType": "int64",
         "type": "integer"
        },
        {
         "name": "cap-shape",
         "rawType": "object",
         "type": "string"
        },
        {
         "name": "cap-surface",
         "rawType": "object",
         "type": "string"
        },
        {
         "name": "cap-color",
         "rawType": "object",
         "type": "string"
        },
        {
         "name": "bruises",
         "rawType": "object",
         "type": "string"
        },
        {
         "name": "odor",
         "rawType": "object",
         "type": "string"
        },
        {
         "name": "gill-attachment",
         "rawType": "object",
         "type": "string"
        },
        {
         "name": "gill-spacing",
         "rawType": "object",
         "type": "string"
        },
        {
         "name": "gill-size",
         "rawType": "object",
         "type": "string"
        },
        {
         "name": "gill-color",
         "rawType": "object",
         "type": "string"
        },
        {
         "name": "stalk-shape",
         "rawType": "object",
         "type": "string"
        },
        {
         "name": "stalk-root",
         "rawType": "object",
         "type": "string"
        },
        {
         "name": "stalk-surface-above-ring",
         "rawType": "object",
         "type": "string"
        },
        {
         "name": "stalk-surface-below-ring",
         "rawType": "object",
         "type": "string"
        },
        {
         "name": "stalk-color-above-ring",
         "rawType": "object",
         "type": "string"
        },
        {
         "name": "stalk-color-below-ring",
         "rawType": "object",
         "type": "string"
        },
        {
         "name": "veil-color",
         "rawType": "object",
         "type": "string"
        },
        {
         "name": "ring-number",
         "rawType": "object",
         "type": "string"
        },
        {
         "name": "ring-type",
         "rawType": "object",
         "type": "string"
        },
        {
         "name": "spore-print-color",
         "rawType": "object",
         "type": "string"
        },
        {
         "name": "population",
         "rawType": "object",
         "type": "string"
        },
        {
         "name": "habitat",
         "rawType": "object",
         "type": "string"
        }
       ],
       "ref": "58e6b6a6-1e8f-4847-9f7c-463272b20ddd",
       "rows": [
        [
         "7873",
         "k",
         "s",
         "e",
         "f",
         "s",
         "f",
         "c",
         "n",
         "b",
         "t",
         "?",
         "s",
         "k",
         "p",
         "w",
         "w",
         "o",
         "e",
         "w",
         "v",
         "d"
        ]
       ],
       "shape": {
        "columns": 21,
        "rows": 1
       }
      },
      "text/html": [
       "<div>\n",
       "<style scoped>\n",
       "    .dataframe tbody tr th:only-of-type {\n",
       "        vertical-align: middle;\n",
       "    }\n",
       "\n",
       "    .dataframe tbody tr th {\n",
       "        vertical-align: top;\n",
       "    }\n",
       "\n",
       "    .dataframe thead th {\n",
       "        text-align: right;\n",
       "    }\n",
       "</style>\n",
       "<table border=\"1\" class=\"dataframe\">\n",
       "  <thead>\n",
       "    <tr style=\"text-align: right;\">\n",
       "      <th></th>\n",
       "      <th>cap-shape</th>\n",
       "      <th>cap-surface</th>\n",
       "      <th>cap-color</th>\n",
       "      <th>bruises</th>\n",
       "      <th>odor</th>\n",
       "      <th>gill-attachment</th>\n",
       "      <th>gill-spacing</th>\n",
       "      <th>gill-size</th>\n",
       "      <th>gill-color</th>\n",
       "      <th>stalk-shape</th>\n",
       "      <th>...</th>\n",
       "      <th>stalk-surface-above-ring</th>\n",
       "      <th>stalk-surface-below-ring</th>\n",
       "      <th>stalk-color-above-ring</th>\n",
       "      <th>stalk-color-below-ring</th>\n",
       "      <th>veil-color</th>\n",
       "      <th>ring-number</th>\n",
       "      <th>ring-type</th>\n",
       "      <th>spore-print-color</th>\n",
       "      <th>population</th>\n",
       "      <th>habitat</th>\n",
       "    </tr>\n",
       "  </thead>\n",
       "  <tbody>\n",
       "    <tr>\n",
       "      <th>7873</th>\n",
       "      <td>k</td>\n",
       "      <td>s</td>\n",
       "      <td>e</td>\n",
       "      <td>f</td>\n",
       "      <td>s</td>\n",
       "      <td>f</td>\n",
       "      <td>c</td>\n",
       "      <td>n</td>\n",
       "      <td>b</td>\n",
       "      <td>t</td>\n",
       "      <td>...</td>\n",
       "      <td>s</td>\n",
       "      <td>k</td>\n",
       "      <td>p</td>\n",
       "      <td>w</td>\n",
       "      <td>w</td>\n",
       "      <td>o</td>\n",
       "      <td>e</td>\n",
       "      <td>w</td>\n",
       "      <td>v</td>\n",
       "      <td>d</td>\n",
       "    </tr>\n",
       "  </tbody>\n",
       "</table>\n",
       "<p>1 rows × 21 columns</p>\n",
       "</div>"
      ],
      "text/plain": [
       "     cap-shape cap-surface cap-color bruises odor gill-attachment  \\\n",
       "7873         k           s         e       f    s               f   \n",
       "\n",
       "     gill-spacing gill-size gill-color stalk-shape  ...  \\\n",
       "7873            c         n          b           t  ...   \n",
       "\n",
       "     stalk-surface-above-ring stalk-surface-below-ring stalk-color-above-ring  \\\n",
       "7873                        s                        k                      p   \n",
       "\n",
       "     stalk-color-below-ring veil-color ring-number ring-type  \\\n",
       "7873                      w          w           o         e   \n",
       "\n",
       "     spore-print-color population habitat  \n",
       "7873                 w          v       d  \n",
       "\n",
       "[1 rows x 21 columns]"
      ]
     },
     "execution_count": 17,
     "metadata": {},
     "output_type": "execute_result"
    }
   ],
   "source": [
    "# Get the feature names in the correct order\n",
    "encoded_feature_names = encoder.get_feature_names_out()\n",
    "# Find the names of the features where the value is 1\n",
    "active_features_for_sample = encoded_feature_names[first_row_sample == 1.0]\n",
    "\n",
    "print(\"This mushroom sample has the following characteristics:\")\n",
    "for feature_name in active_features_for_sample:\n",
    "    print(f\"- {feature_name}\")\n",
    "print(\"This mushroom in the dataframe:\")\n",
    "X_train_df.head(1)"
   ]
  },
  {
   "cell_type": "markdown",
   "id": "3561d369",
   "metadata": {},
   "source": [
    "`Reshape tensors:` so that we can pass them through our model."
   ]
  },
  {
   "cell_type": "code",
   "execution_count": 18,
   "id": "c619f181",
   "metadata": {},
   "outputs": [
    {
     "data": {
      "text/plain": [
       "(array([0, 1, 1, ..., 1, 1, 1], shape=(1625,)),\n",
       " (1625,),\n",
       " array([1, 1, 1, ..., 0, 1, 0], shape=(6499,)),\n",
       " (6499,))"
      ]
     },
     "execution_count": 18,
     "metadata": {},
     "output_type": "execute_result"
    }
   ],
   "source": [
    "y_test, y_test.shape, y_train, y_train.shape"
   ]
  },
  {
   "cell_type": "code",
   "execution_count": 19,
   "id": "2340c749",
   "metadata": {},
   "outputs": [],
   "source": [
    "# Reshape labels from (N, 1) -> to be of shape (1, N) where N is the number of samples/mushrooms in that set.\n",
    "y_train = y_train.reshape(1, -1)\n",
    "y_test = y_test.reshape(1, -1)"
   ]
  },
  {
   "cell_type": "code",
   "execution_count": 20,
   "id": "9a81a9f9",
   "metadata": {},
   "outputs": [
    {
     "data": {
      "text/plain": [
       "(array([[0, 1, 1, ..., 1, 1, 1]], shape=(1, 1625)),\n",
       " (1, 1625),\n",
       " array([[1, 1, 1, ..., 0, 1, 0]], shape=(1, 6499)),\n",
       " (1, 6499))"
      ]
     },
     "execution_count": 20,
     "metadata": {},
     "output_type": "execute_result"
    }
   ],
   "source": [
    "y_test, y_test.shape, y_train, y_train.shape"
   ]
  },
  {
   "cell_type": "code",
   "execution_count": 21,
   "id": "9376fab5",
   "metadata": {},
   "outputs": [
    {
     "data": {
      "text/plain": [
       "((116, 6499), (116, 1625))"
      ]
     },
     "execution_count": 21,
     "metadata": {},
     "output_type": "execute_result"
    }
   ],
   "source": [
    "# Transpose the X so we get a shape of (116 features, N)\n",
    "X_train, X_test = X_train.T, X_test.T\n",
    "X_train.shape, X_test.shape"
   ]
  },
  {
   "cell_type": "markdown",
   "id": "d760a87c",
   "metadata": {},
   "source": [
    "## Build The Neural Network Algorithm"
   ]
  },
  {
   "cell_type": "markdown",
   "id": "d6896321",
   "metadata": {},
   "source": [
    "`Logistic regression Algorithm:`\n",
    "\n",
    "For one example $x^{(i)}$ i.e one sample/mushroom:\n",
    "\n",
    "**Forward Propagation:**\n",
    "* In forward prop we show the model our train input (X) data and it makes predictions on it. At first its predictions will be random and not good however through backpropagation we will make the predictions more accurate.\n",
    "\n",
    "$$z^{(i)} = W^T x^{(i)}+ b$$\n",
    "\n",
    "- $W^T$ is the weights.\n",
    "    - The $^T$ over $W$ means to transpose the weights.\n",
    "- $b$ is the bias.\n",
    "---\n",
    "$$\\hat{y}^{(i)} = a^{(i)} = sigmoid(z^{(i)})$$\n",
    "\n",
    "- $\\hat{y}^{(i)}$ or $a^{(i)}$ = Different notations meaning the model's output prediction.\n",
    "- $sigmoid()$ is the activation function. *In this case the sigmoid activation function.*\n",
    "---\n",
    "**Backward Propagation:**\n",
    "- ⭐️ Logistic regression uses *Binary cross-entropy loss function*.\n",
    "* In backward prop we will adjust the models learned parameters (w, and b) so that its predictions better match the target/label data.\n",
    "\n",
    "$$ \\mathcal{L}(a^{(i)}, y^{(i)}) = -y^{(i)} log(a^{(i)}) - (1 - y^{(i)}) log(1 - a^{(i)}) $$\n",
    "- $\\mathcal{L}$ indicates the loss function.\n",
    "- A loss function evaluates the error on a single training example/sample.\n",
    "\n",
    "---\n",
    "- The cost is then computed by summing over all training examples:\n",
    "$$ J = \\frac{1}{m}  \\sum_{i=1}^m \\mathcal{L}(a^{(i)}, y^{(i)}) $$\n",
    "- A cost function aggregates the losses over the entire training dataset"
   ]
  },
  {
   "cell_type": "markdown",
   "id": "c4ecd65f",
   "metadata": {},
   "source": [
    "**Implement** sigmoid activation function:\n",
    "$$ sigmoid(z) = \\frac{1}{1 + e^{-z} }$$ "
   ]
  },
  {
   "cell_type": "code",
   "execution_count": 22,
   "id": "b456cf0c",
   "metadata": {},
   "outputs": [],
   "source": [
    "def sigmoid(z):\n",
    "    \"\"\"\n",
    "    Compute the sigmoid activate function.\n",
    "\n",
    "    Arg:\n",
    "        z -- a scalar or tensor of any size.\n",
    "    \"\"\"\n",
    "    s = 1 / (1 + torch.exp(-z))\n",
    "    return s"
   ]
  },
  {
   "cell_type": "code",
   "execution_count": 23,
   "id": "9bd17b6c",
   "metadata": {},
   "outputs": [
    {
     "name": "stdout",
     "output_type": "stream",
     "text": [
      "Test sigmoid([0, 9]) = tensor([0.5000, 0.9999])\n"
     ]
    }
   ],
   "source": [
    "print(f\"Test sigmoid([0, 9]) = {sigmoid(torch.tensor([0,9]))}\")"
   ]
  },
  {
   "cell_type": "markdown",
   "id": "a42d14d2",
   "metadata": {},
   "source": [
    "**Implement** parameter initialization where we initialize w *(weights)* as a vector of zeros."
   ]
  },
  {
   "cell_type": "code",
   "execution_count": 24,
   "id": "3f5dcfa0",
   "metadata": {},
   "outputs": [],
   "source": [
    "def initialize_with_zeros(dim):\n",
    "    \"\"\"\n",
    "        NOTE: Initializing all weights in a neural network to zero is generally not a good practice because it prevents the network from learning effectively. \n",
    "\n",
    "        This function creates a vector of zeros of shape (dim, 1) for w (weights) and initializes b (bias) to 0.\n",
    "        \n",
    "        Arg:\n",
    "            dim -- size of the w vector we want (or number of parameters in this case)\n",
    "        \n",
    "        Returns:\n",
    "            w -- initialized tensor of shape (dim, 1) with all zeros.\n",
    "            b -- initialized scalar tensor (corresponds to the bias) with a zero.\n",
    "    \"\"\"\n",
    "    w = torch.zeros((dim, 1), device=DEVICE)\n",
    "    b = torch.tensor(0.0, device=DEVICE)\n",
    "    return w, b"
   ]
  },
  {
   "cell_type": "code",
   "execution_count": 25,
   "id": "9a9f4cf2",
   "metadata": {},
   "outputs": [
    {
     "data": {
      "text/plain": [
       "(tensor([[0.],\n",
       "         [0.]], device='mps:0'),\n",
       " tensor(0., device='mps:0'))"
      ]
     },
     "execution_count": 25,
     "metadata": {},
     "output_type": "execute_result"
    }
   ],
   "source": [
    "initialize_with_zeros(2)"
   ]
  },
  {
   "cell_type": "markdown",
   "id": "a7007a03",
   "metadata": {},
   "source": [
    "#### Forward And Backward Propagation\n",
    "\n",
    "**Forward Propagation:** Feed the input X to the model.\n",
    "- Compute $A$:\n",
    "$$ A = \\sigma(w^T X + b) = (a^{(1)}, a^{(2)}, ..., a^{(m-1)}, a^{(m)} )$$\n",
    "\n",
    "\n",
    "**Backward propagation:** adjust the learned parameters w, and b.\n",
    "- Calculate the cost function $J$: \n",
    "$$ J = -\\frac{1}{m} \\sum_{i=1}^m  (y^{(i)} log(a^{(i)}) + (1 - y^{(i)}) log(1 - a^{(i)}))$$\n",
    "---\n",
    "- Get the gradient of the loss with respect to w.\n",
    "$$ \\frac{\\partial J}{\\partial w} = \\frac{1}{m} X (A-Y)^T$$\n",
    "- $A$ is the models prediction.\n",
    "- $Y$ is the true target/label.\n",
    "- $m$ is the number of samples.\n",
    "\n",
    "---\n",
    "- Get the gradient of the loss with respect to b.\n",
    "$$ \\frac{\\partial J}{\\partial b} = \\frac{1}{m}  \\sum_{i=1}^m (a^{(i)} - y^{(i)})$$\n"
   ]
  },
  {
   "cell_type": "code",
   "execution_count": 26,
   "id": "0c019d30",
   "metadata": {},
   "outputs": [],
   "source": [
    "def propagate(w, b, X, Y):\n",
    "    \"\"\"\n",
    "    Implement forward and back propagation.\n",
    "\n",
    "    Arg:\n",
    "        w -- weights, a numpy array of size (features, 1). Where features is the vector that one sample has, e.g., one RGB image has a vector of 24 x 24 x 3 = 1,728 features. For the mushroom dataset one sample/mushroom has 21 columns/features.\n",
    "        b -- bias, a scalar\n",
    "        X -- data of size (features, N) where N is the number of samples.\n",
    "        Y -- true \"label\" vector (containing 0 or 1) of size (1, N) note the one-hot encoding can only be len([0, 1]).\n",
    "\n",
    "    Return:\n",
    "        grads -- dictionary containing the gradients of the cost with respect to weight w and bias b.\n",
    "            (dw -- gradient of the loss with respect to w, thus the same shape as w)\n",
    "            (db -- gradient of the loss with respect to b, thus the same shape as b)\n",
    "        cost -- negative log-likelihood cost for logistic regression\n",
    "\n",
    "    \"\"\"\n",
    "    # Get the number of samples\n",
    "    m = X.shape[1]\n",
    "\n",
    "    # --- 1: Forward propagate\n",
    "    A = sigmoid(w.T @ X + b)  # the @ operator for matrix multiplication or dot-product, the .T is to transpose that tensor.\n",
    "    # A is the model's prediction.\n",
    "\n",
    "    # --- 2: Backward propagate\n",
    "    #   Binary Cross-Entropy Loss \n",
    "    cost = -1 / m * torch.sum(Y * torch.log(A) + (1 - Y) * torch.log(1 - A))\n",
    "    # Get the gradient of the loss with respect to w.\n",
    "    dw = 1 / m * X @ (A - Y).T\n",
    "    # Get the gradient of the loss with respect to b.\n",
    "    db = 1 / m * torch.sum(A - Y)\n",
    "\n",
    "    grads = {\"dw\": dw, \"db\": db}\n",
    "    return grads, cost"
   ]
  },
  {
   "cell_type": "markdown",
   "id": "d58d2be8",
   "metadata": {},
   "source": [
    "#### Optimize:\n",
    "\n",
    "The goal is to learn $w$ and $b$ by minimizing the cost function $J$.\n",
    "- We use the `Stochastic Gradient Descent (SGD)` optimizer.\n",
    "- For parameter $\\theta$ the update rule is $\\theta = \\theta -\\alpha  d\\theta$, where $\\alpha$ is the learning rate."
   ]
  },
  {
   "cell_type": "code",
   "execution_count": 27,
   "id": "a9675e47",
   "metadata": {},
   "outputs": [],
   "source": [
    "import copy\n",
    "\n",
    "def optimize(w, b, X, Y, Epoch=100, learning_rate=0.009, print_cost=False):\n",
    "    \"\"\"\n",
    "    This function optimizes w and b by running a gradient descent algorithm.\n",
    "\n",
    "    Arg:\n",
    "        w -- weights, a numpy array of size (features, 1), where feature is the vector of one sample.\n",
    "        b -- bias, a scalar\n",
    "        X -- data of shape (feature, N)\n",
    "        Y -- true \"label\" vector (containing 0 or 1) of size (1, N)\n",
    "\n",
    "        Epoch  -- hyperparameter. The number of times that the model sees the train dataset, e.g., Epoch=5 means the models loops through the train dataset 5 times.\n",
    "        learning_rate -- a hyperparameter that controls the step size during the optimization process, determining how much the model's parameters are adjusted in response to the estimated error at each iteration.\n",
    "        print_cost -- True to print the loss every 100 steps\n",
    "\n",
    "    Returns:\n",
    "        params -- dictionary containing the weights w and bias b\n",
    "        grads -- dictionary containing the gradients of the weights and bias with respect to the cost function\n",
    "        costs -- list of all the costs computed during the optimization, this will be used to plot the learning curve\n",
    "    \"\"\"\n",
    "\n",
    "    w = copy.deepcopy(w)\n",
    "    b = copy.deepcopy(b)\n",
    "\n",
    "    costs = []\n",
    "\n",
    "    for i in range(Epoch):\n",
    "        # --- Forward & Backward propagation.\n",
    "        #    cost and gradient calculation\n",
    "        grads, cost = propagate(w, b, X, Y)\n",
    "\n",
    "        # Retrieve derivatives from grads.\n",
    "        dw = grads[\"dw\"]\n",
    "        db = grads[\"db\"]\n",
    "        \n",
    "        # --- Gradient descent:\n",
    "        #   Optimizer is Stochastic Gradient Descent (SGD).\n",
    "        #   Update the weight and bias to make the model predict closer to the true target.\n",
    "        w = w - learning_rate * dw\n",
    "        b = b - learning_rate * db\n",
    "        \n",
    "        # Record the costs\n",
    "        if i % 100 == 0:\n",
    "            costs.append(cost)\n",
    "            \n",
    "            if print_cost and i % 100 == 0:\n",
    "                print(\"Cost after iteration %i: %f\" % (i, cost))\n",
    "\n",
    "    params = {\"w\": w,\n",
    "              \"b\": b}\n",
    "    \n",
    "    grads = {\"dw\": dw,\n",
    "             \"db\": db}\n",
    "    \n",
    "    return params, grads, costs"
   ]
  },
  {
   "cell_type": "markdown",
   "id": "6760c777",
   "metadata": {},
   "source": [
    "**Predict:** optimize() will output the learned $w$ and $b$. We are able to use this $w$ and $b$ to make prediction on data that the model hasn't seen such as the test set.\n",
    "- Calculate $\\hat{Y}$:\n",
    "$$\\hat{Y} = A = \\sigma(w^T X + b)$$"
   ]
  },
  {
   "cell_type": "code",
   "execution_count": 28,
   "id": "b5833f03",
   "metadata": {},
   "outputs": [],
   "source": [
    "def predict(w, b, X):\n",
    "    '''\n",
    "    Predict whether a (mushroom is poisonous or not) or (a image contains a cat or not) using the learned logistic regression parameters (w, b).\n",
    "    \n",
    "    Arg:\n",
    "        w -- weights, a numpy array of size (feature, 1), where feature is the vector of one sample.\n",
    "        b -- bias, a scalar\n",
    "        X -- data of size (feature, number of examples)\n",
    "    \n",
    "    returns:\n",
    "    Y_prediction -- a numpy array (vector) containing all predictions (0/1) for the examples in X\n",
    "    '''\n",
    "    \n",
    "    m = X.shape[1]\n",
    "    Y_prediction = torch.zeros((1, m), device=DEVICE)\n",
    "    w = w.reshape(X.shape[0], 1)\n",
    "    \n",
    "    # --- Predict\n",
    "    A = sigmoid(w.T @ X + b)\n",
    "\n",
    "    # Adjust the values of Y_prediction to match the predicted values.\n",
    "    for i in range(A.shape[1]):\n",
    "        if A[0, i] > 0.5:\n",
    "            Y_prediction[0, i] = 1\n",
    "        else:\n",
    "            Y_prediction[0, i] = 0\n",
    "    return Y_prediction  "
   ]
  },
  {
   "cell_type": "markdown",
   "id": "df72a894",
   "metadata": {},
   "source": [
    "#### Model: Put everything together."
   ]
  },
  {
   "cell_type": "code",
   "execution_count": 29,
   "id": "03dbc35e",
   "metadata": {},
   "outputs": [],
   "source": [
    "def model(X_train, Y_train, X_test, Y_test, Epoch=2000, learning_rate=0.5, print_cost=False):\n",
    "    \"\"\"\n",
    "    Builds the logistic regression model by calling the functions implemented above.\n",
    "    \n",
    "    Arg:\n",
    "        X_train -- training set represented by a tensor of shape (features, train_samples). Where features is the vector that one sample has, e.g., one RGB image has a vector of 24(pixel) x 24(pixel) x 3(channels) = 1,728 features. For the mushroom dataset one sample/mushroom has 21 columns/features.\n",
    "\n",
    "        Y_train -- training labels represented by a tensor of shape (1, train_samples)\n",
    "        \n",
    "        X_test -- test set represented by a tensor of shape (features, test_samples)\n",
    "        Y_test -- test labels represented by a tensor of shape (1, test_samples)\n",
    "\n",
    "        Epoch  -- hyperparameter. The number of times that the model sees the train dataset, e.g., Epoch=5 means the models loops through the train dataset 5 times.\n",
    "        learning_rate -- a hyperparameter that controls the step size during the optimization process, determining how much the model's parameters are adjusted in response to the estimated error at each iteration.\n",
    "        print_cost -- Set to true to print the cost every 100 iterations\n",
    "    \n",
    "    returns:\n",
    "        d -- dictionary containing information about the model\n",
    "    \"\"\"\n",
    "\n",
    "    # --- Move data to torch from Numpy to utilize GPU if available.\n",
    "    # train set\n",
    "    X_train = torch.from_numpy(X_train).float().to(DEVICE) # I added .float() because MPS framework doesn't support float64. So used float32 instead.\n",
    "    Y_train = torch.from_numpy(Y_train).float().to(DEVICE) \n",
    "\n",
    "    # test set\n",
    "    X_test = torch.from_numpy(X_test).float().to(DEVICE) \n",
    "    Y_test = torch.from_numpy(Y_test).float().to(DEVICE)\n",
    "\n",
    "    # Initialize parameters w and b with zeros.\n",
    "    w, b = initialize_with_zeros(X_train.shape[0])\n",
    "\n",
    "    # --- 1:  Forward & Backward propagate\n",
    "    params, grads, costs = optimize(w, b, X_train, Y_train, Epoch, learning_rate, print_cost)\n",
    "    \n",
    "    # Retrieve the learning parameters w and b from dictionary \"params\"\n",
    "    w = params[\"w\"]\n",
    "    b = params[\"b\"]\n",
    "    \n",
    "    # --- 2: predict test/train set examples\n",
    "    Y_prediction_train = predict(w, b, X_train)\n",
    "    Y_prediction_test = predict(w, b, X_test)\n",
    "    \n",
    "    # Print train/test Errors\n",
    "    if print_cost:\n",
    "        print(\"\\nPredict:\")\n",
    "        print(\"train accuracy: {} %\".format(100 - torch.mean(torch.abs(Y_prediction_train - Y_train)) * 100))\n",
    "\n",
    "        print(\"test accuracy: {} %\".format(100 - torch.mean(torch.abs(Y_prediction_test - Y_test)) * 100))\n",
    "\n",
    "    \n",
    "    d = {\"costs\": costs,\n",
    "         \"Y_prediction_test\": Y_prediction_test, \n",
    "         \"Y_prediction_train\" : Y_prediction_train, \n",
    "         \"w\" : w, \n",
    "         \"b\" : b,\n",
    "         \"learning_rate\" : learning_rate,\n",
    "         \"Epoch\": Epoch}\n",
    "    \n",
    "    return d"
   ]
  },
  {
   "cell_type": "markdown",
   "id": "1f19304d",
   "metadata": {},
   "source": [
    "**Instantiate the model**"
   ]
  },
  {
   "cell_type": "code",
   "execution_count": 30,
   "id": "2747e0dc",
   "metadata": {},
   "outputs": [
    {
     "name": "stdout",
     "output_type": "stream",
     "text": [
      "Cost after iteration 0: 0.693147\n",
      "Cost after iteration 100: 0.561311\n",
      "Cost after iteration 200: 0.475369\n",
      "Cost after iteration 300: 0.416377\n",
      "Cost after iteration 400: 0.373865\n",
      "Cost after iteration 500: 0.341850\n",
      "Cost after iteration 600: 0.316811\n",
      "Cost after iteration 700: 0.296600\n",
      "Cost after iteration 800: 0.279852\n",
      "Cost after iteration 900: 0.265674\n",
      "Cost after iteration 1000: 0.253458\n",
      "Cost after iteration 1100: 0.242776\n",
      "Cost after iteration 1200: 0.233323\n",
      "Cost after iteration 1300: 0.224871\n",
      "Cost after iteration 1400: 0.217251\n",
      "Cost after iteration 1500: 0.210331\n",
      "Cost after iteration 1600: 0.204007\n",
      "Cost after iteration 1700: 0.198198\n",
      "Cost after iteration 1800: 0.192835\n",
      "Cost after iteration 1900: 0.187865\n",
      "\n",
      "Predict:\n",
      "train accuracy: 95.18387603759766 %\n",
      "test accuracy: 94.83077239990234 %\n"
     ]
    }
   ],
   "source": [
    "mushroom_logistic_regression_model = model(X_train, y_train, X_test, y_test, Epoch=2000, learning_rate=0.005, print_cost=True)"
   ]
  },
  {
   "cell_type": "markdown",
   "id": "c4377576",
   "metadata": {},
   "source": [
    "`Check` prediction"
   ]
  },
  {
   "cell_type": "code",
   "execution_count": 31,
   "id": "f47d6951",
   "metadata": {},
   "outputs": [
    {
     "name": "stdout",
     "output_type": "stream",
     "text": [
      "The mushroom @ index: 152\n",
      "   the true target was 1=poisonous \n",
      "   and the model predicted 1=poisonous\n",
      "Value from the dataframe: 1\n"
     ]
    }
   ],
   "source": [
    "index = 152\n",
    "target_value = y_test[0, index]\n",
    "predicted_value = int(mushroom_logistic_regression_model['Y_prediction_test'][0, index])\n",
    "print(f\"The mushroom @ index: {index}\\n   the true target was {target_value}={class_names[target_value]} \\n   and the model predicted {predicted_value}={class_names[predicted_value]}\")\n",
    "print(f\"Value from the dataframe: {y_test_df.iloc[index]}\")"
   ]
  },
  {
   "cell_type": "markdown",
   "id": "59733998",
   "metadata": {},
   "source": [
    "`Plot` the learning rate."
   ]
  },
  {
   "cell_type": "code",
   "execution_count": 32,
   "id": "3d9e3b21",
   "metadata": {},
   "outputs": [
    {
     "data": {
      "image/png": "[encoded data removed]",
      "text/plain": [
       "<Figure size 640x480 with 1 Axes>"
      ]
     },
     "metadata": {},
     "output_type": "display_data"
    }
   ],
   "source": [
    "# Plot learning curve (with costs)\n",
    "costs = [t.cpu().item() for t in mushroom_logistic_regression_model['costs']]\n",
    "plt.plot(costs)\n",
    "plt.ylabel('cost')\n",
    "plt.xlabel('Epochs (per hundreds)')\n",
    "plt.title(\"Learning rate =\" + str(mushroom_logistic_regression_model[\"learning_rate\"]))\n",
    "plt.show()"
   ]
  },
  {
   "cell_type": "markdown",
   "id": "c8990127",
   "metadata": {},
   "source": [
    "## Cat Or No-Cat\n",
    "\n",
    "⭐️ `Goal:` Have a basic NN identify if a cat is present in an image.\n",
    "- $0$ mean theres no cat and $1$ meaning theres a cat."
   ]
  },
  {
   "cell_type": "markdown",
   "id": "0433967c",
   "metadata": {},
   "source": [
    "### Extract And Load the dataset from .h5 files"
   ]
  },
  {
   "cell_type": "code",
   "execution_count": 33,
   "id": "38a2fe22",
   "metadata": {},
   "outputs": [],
   "source": [
    "import numpy as np\n",
    "import copy\n",
    "import matplotlib.pyplot as plt\n",
    "import h5py\n",
    "import torch"
   ]
  },
  {
   "cell_type": "code",
   "execution_count": 34,
   "id": "8a48d77e",
   "metadata": {},
   "outputs": [],
   "source": [
    "def load_dataset():\n",
    "    train_dataset = h5py.File(\"./datasets/train_catvnoncat.h5\", \"r\")\n",
    "    train_set_x_orig = np.array(train_dataset[\"train_set_x\"][:]) # your train set features\n",
    "    train_set_y_orig = np.array(train_dataset[\"train_set_y\"][:]) # your train set labels\n",
    "    \n",
    "    test_dataset = h5py.File('./datasets/test_catvnoncat.h5', \"r\")\n",
    "    test_set_x_orig = np.array(test_dataset[\"test_set_x\"][:]) # your test set features\n",
    "    test_set_y_orig = np.array(test_dataset[\"test_set_y\"][:]) # your test set labels\n",
    "    \n",
    "    classes = np.array(test_dataset[\"list_classes\"][:]) # the list of classes\n",
    "    \n",
    "    train_set_y_orig = train_set_y_orig.reshape((1, train_set_y_orig.shape[0]))\n",
    "    test_set_y_orig = test_set_y_orig.reshape((1, test_set_y_orig.shape[0]))\n",
    "    \n",
    "    return train_set_x_orig, train_set_y_orig, test_set_x_orig, test_set_y_orig, classes\n",
    "    "
   ]
  },
  {
   "cell_type": "code",
   "execution_count": 35,
   "id": "f5d529f9",
   "metadata": {},
   "outputs": [],
   "source": [
    "train_set_x_orig, train_set_y, test_set_x_orig, test_set_y, classes = load_dataset()"
   ]
  },
  {
   "cell_type": "code",
   "execution_count": 36,
   "id": "da978e9a",
   "metadata": {},
   "outputs": [
    {
     "data": {
      "text/plain": [
       "((209, 64, 64, 3), (50, 64, 64, 3))"
      ]
     },
     "execution_count": 36,
     "metadata": {},
     "output_type": "execute_result"
    }
   ],
   "source": [
    "train_set_x_orig.shape, test_set_x_orig.shape"
   ]
  },
  {
   "cell_type": "markdown",
   "id": "a4e4c8ad",
   "metadata": {},
   "source": [
    "**Description:** \n",
    "- The dataset contains RGB images each 64x64 pixels with 3 color channels\n",
    "- An image is $64x64x3 = 12,288$ pixel values = each of these 12,288 pixel values is a `feature`.\n",
    "- The train set has 209 samples and the test set has 50.\n",
    "- The labels are not one-hot encoded in the traditional sense (where cat might be [0, 1] and no-cat is [1, 0]). They are simply single integers (0 or 1)"
   ]
  },
  {
   "cell_type": "code",
   "execution_count": 37,
   "id": "df3d2bd5",
   "metadata": {},
   "outputs": [
    {
     "data": {
      "text/plain": [
       "array([[0, 0, 1, 0, 0, 0, 0, 1, 0, 0, 0, 1, 0, 1, 1, 0, 0, 0, 0, 1, 0, 0,\n",
       "        0, 0, 1, 1, 0, 1, 0, 1, 0, 0, 0, 0, 0, 0, 0, 0, 1, 0, 0, 1, 1, 0,\n",
       "        0, 0, 0, 1, 0, 0, 1, 0, 0, 0, 1, 0, 1, 1, 0, 1, 1, 1, 0, 0, 0, 0,\n",
       "        0, 0, 1, 0, 0, 1, 0, 0, 0, 0, 0, 0, 0, 0, 0, 0, 0, 1, 1, 0, 0, 0,\n",
       "        1, 0, 0, 0, 1, 1, 1, 0, 0, 1, 0, 0, 0, 0, 1, 0, 1, 0, 1, 1, 1, 1,\n",
       "        1, 1, 0, 0, 0, 0, 0, 1, 0, 0, 0, 1, 0, 0, 1, 0, 1, 0, 1, 1, 0, 0,\n",
       "        0, 1, 1, 1, 1, 1, 0, 0, 0, 0, 1, 0, 1, 1, 1, 0, 1, 1, 0, 0, 0, 1,\n",
       "        0, 0, 1, 0, 0, 0, 0, 0, 1, 0, 1, 0, 1, 0, 0, 1, 1, 1, 0, 0, 1, 1,\n",
       "        0, 1, 0, 1, 0, 0, 0, 0, 0, 1, 0, 0, 1, 0, 0, 0, 1, 0, 0, 0, 0, 1,\n",
       "        0, 0, 1, 0, 0, 0, 0, 0, 0, 0, 0]])"
      ]
     },
     "execution_count": 37,
     "metadata": {},
     "output_type": "execute_result"
    }
   ],
   "source": [
    "train_set_y"
   ]
  },
  {
   "cell_type": "markdown",
   "id": "6a20500f",
   "metadata": {},
   "source": [
    "`Show one image`"
   ]
  },
  {
   "cell_type": "code",
   "execution_count": 38,
   "id": "192655f9",
   "metadata": {},
   "outputs": [
    {
     "name": "stdout",
     "output_type": "stream",
     "text": [
      "y = [1], it's a 'cat' picture.\n"
     ]
    },
    {
     "data": {
      "image/png": "[encoded data removed]",
      "text/plain": [
       "<Figure size 640x480 with 1 Axes>"
      ]
     },
     "metadata": {},
     "output_type": "display_data"
    }
   ],
   "source": [
    "# You can see index 2 in train_set_y above, remember indexing starts at zero.\n",
    "index = 2 # The index in the train_set_y represents the labeled data for one image. \n",
    "plt.imshow(train_set_x_orig[index])\n",
    "print (\"y = \" + str(train_set_y[:, index]) + \", it's a '\" + classes[np.squeeze(train_set_y[:, index])].decode(\"utf-8\") +  \"' picture.\")"
   ]
  },
  {
   "cell_type": "markdown",
   "id": "85d02627",
   "metadata": {},
   "source": [
    "`Reshape tensors:` so that we can pass them through our model."
   ]
  },
  {
   "cell_type": "code",
   "execution_count": 39,
   "id": "0172cd39",
   "metadata": {},
   "outputs": [
    {
     "name": "stdout",
     "output_type": "stream",
     "text": [
      "Amount of training images: 209 | Amount of test images: 50 \n",
      "| Width & Height pixel count: 64\n"
     ]
    }
   ],
   "source": [
    "# m = number of images\n",
    "m_train = train_set_x_orig.shape[0]\n",
    "m_test = test_set_x_orig.shape[0]\n",
    "num_px = train_set_x_orig.shape[2]\n",
    "print(f'Amount of training images: {m_train} | Amount of test images: {m_test} \\n| Width & Height pixel count: {num_px}')"
   ]
  },
  {
   "cell_type": "code",
   "execution_count": 40,
   "id": "d1b05b45",
   "metadata": {},
   "outputs": [
    {
     "data": {
      "text/plain": [
       "(12288, 209)"
      ]
     },
     "execution_count": 40,
     "metadata": {},
     "output_type": "execute_result"
    }
   ],
   "source": [
    "train_set_x_flatten = train_set_x_orig.reshape(m_train, -1).T\n",
    "test_set_x_flatten = test_set_x_orig.reshape(m_test, -1).T\n",
    "train_set_x_flatten.shape"
   ]
  },
  {
   "cell_type": "markdown",
   "id": "51061c6d",
   "metadata": {},
   "source": [
    "### Normalize\n",
    "* Normalize the image pixel values to be between 0-1, this will greatly improve how fast our model trains and computes calculations."
   ]
  },
  {
   "cell_type": "code",
   "execution_count": 41,
   "id": "f733ad71",
   "metadata": {},
   "outputs": [
    {
     "data": {
      "text/plain": [
       "array([[ 17, 196,  82, ..., 143,  22,   8],\n",
       "       [ 31, 192,  71, ..., 155,  24,  28],\n",
       "       [ 56, 190,  68, ..., 165,  23,  53],\n",
       "       ...,\n",
       "       [  0,  82, 138, ...,  85,   4,   0],\n",
       "       [  0,  80, 141, ..., 107,   5,   0],\n",
       "       [  0,  81, 142, ..., 149,   0,   0]],\n",
       "      shape=(12288, 209), dtype=uint8)"
      ]
     },
     "execution_count": 41,
     "metadata": {},
     "output_type": "execute_result"
    }
   ],
   "source": [
    "train_set_x_flatten"
   ]
  },
  {
   "cell_type": "code",
   "execution_count": 42,
   "id": "867ed8b7",
   "metadata": {},
   "outputs": [],
   "source": [
    "train_set_x = train_set_x_flatten / 255.0 # Normalize\n",
    "test_set_x = test_set_x_flatten / 255.0 # Normalize"
   ]
  },
  {
   "cell_type": "code",
   "execution_count": 43,
   "id": "c9bfd0ee",
   "metadata": {},
   "outputs": [
    {
     "data": {
      "text/plain": [
       "array([[0.06666667, 0.76862745, 0.32156863, ..., 0.56078431, 0.08627451,\n",
       "        0.03137255],\n",
       "       [0.12156863, 0.75294118, 0.27843137, ..., 0.60784314, 0.09411765,\n",
       "        0.10980392],\n",
       "       [0.21960784, 0.74509804, 0.26666667, ..., 0.64705882, 0.09019608,\n",
       "        0.20784314],\n",
       "       ...,\n",
       "       [0.        , 0.32156863, 0.54117647, ..., 0.33333333, 0.01568627,\n",
       "        0.        ],\n",
       "       [0.        , 0.31372549, 0.55294118, ..., 0.41960784, 0.01960784,\n",
       "        0.        ],\n",
       "       [0.        , 0.31764706, 0.55686275, ..., 0.58431373, 0.        ,\n",
       "        0.        ]], shape=(12288, 209))"
      ]
     },
     "execution_count": 43,
     "metadata": {},
     "output_type": "execute_result"
    }
   ],
   "source": [
    "train_set_x"
   ]
  },
  {
   "cell_type": "markdown",
   "id": "87f64c47",
   "metadata": {},
   "source": [
    "### Feed To The model"
   ]
  },
  {
   "cell_type": "code",
   "execution_count": 44,
   "id": "bbcf0b53",
   "metadata": {},
   "outputs": [
    {
     "name": "stdout",
     "output_type": "stream",
     "text": [
      "Cost after iteration 0: 0.693147\n",
      "Cost after iteration 100: 0.584508\n",
      "Cost after iteration 200: 0.466949\n",
      "Cost after iteration 300: 0.376007\n",
      "Cost after iteration 400: 0.331463\n",
      "Cost after iteration 500: 0.303273\n",
      "Cost after iteration 600: 0.279880\n",
      "Cost after iteration 700: 0.260042\n",
      "Cost after iteration 800: 0.242941\n",
      "Cost after iteration 900: 0.228004\n",
      "Cost after iteration 1000: 0.214820\n",
      "Cost after iteration 1100: 0.203078\n",
      "Cost after iteration 1200: 0.192544\n",
      "Cost after iteration 1300: 0.183033\n",
      "Cost after iteration 1400: 0.174399\n",
      "Cost after iteration 1500: 0.166521\n",
      "Cost after iteration 1600: 0.159305\n",
      "Cost after iteration 1700: 0.152667\n",
      "Cost after iteration 1800: 0.146542\n",
      "Cost after iteration 1900: 0.140872\n",
      "\n",
      "Predict:\n",
      "train accuracy: 99.04306030273438 %\n",
      "test accuracy: 70.0 %\n"
     ]
    }
   ],
   "source": [
    "cat_logistic_regression_model = model(train_set_x, train_set_y, test_set_x, test_set_y, Epoch=2000, learning_rate=0.005, print_cost=True)"
   ]
  },
  {
   "cell_type": "code",
   "execution_count": 45,
   "id": "dad30558",
   "metadata": {},
   "outputs": [
    {
     "name": "stdout",
     "output_type": "stream",
     "text": [
      "y = 1, model predicted that it is a \"cat\" picture.\n"
     ]
    },
    {
     "data": {
      "image/png": "[encoded data removed]",
      "text/plain": [
       "<Figure size 640x480 with 1 Axes>"
      ]
     },
     "metadata": {},
     "output_type": "display_data"
    }
   ],
   "source": [
    "index = 37\n",
    "plt.imshow(test_set_x[:, index].reshape((num_px, num_px, 3)))\n",
    "print (\"y = \" + str(test_set_y[0,index]) + \", model predicted that it is a \\\"\" + classes[int(cat_logistic_regression_model['Y_prediction_test'][0,index])].decode(\"utf-8\") +  \"\\\" picture.\")"
   ]
  },
  {
   "cell_type": "code",
   "execution_count": 46,
   "id": "bef3a20f",
   "metadata": {},
   "outputs": [
    {
     "data": {
      "image/png": "[encoded data removed]",
      "text/plain": [
       "<Figure size 640x480 with 1 Axes>"
      ]
     },
     "metadata": {},
     "output_type": "display_data"
    }
   ],
   "source": [
    "# Plot learning curve (with costs)\n",
    "costs = torch.squeeze(torch.tensor(cat_logistic_regression_model['costs']))\n",
    "plt.plot(costs)\n",
    "plt.ylabel('cost')\n",
    "plt.xlabel('Epochs (per hundreds)')\n",
    "plt.title(\"Learning rate =\" + str(cat_logistic_regression_model[\"learning_rate\"]))\n",
    "plt.grid(True)\n",
    "plt.show()"
   ]
  },
  {
   "cell_type": "markdown",
   "id": "e395e643",
   "metadata": {},
   "source": [
    "#### See what learning rate value makes the model train better "
   ]
  },
  {
   "cell_type": "code",
   "execution_count": 47,
   "id": "eb77e06e",
   "metadata": {},
   "outputs": [
    {
     "name": "stdout",
     "output_type": "stream",
     "text": [
      "Training a model with learning rate: 0.01\n",
      "\n",
      "-------------------------------------------------------\n",
      "\n",
      "Training a model with learning rate: 0.001\n",
      "\n",
      "-------------------------------------------------------\n",
      "\n",
      "Training a model with learning rate: 0.0001\n",
      "\n",
      "-------------------------------------------------------\n",
      "\n",
      "Training a model with learning rate: 0.005\n",
      "\n",
      "-------------------------------------------------------\n",
      "\n"
     ]
    }
   ],
   "source": [
    "learning_rates = [0.01, 0.001, 0.0001, 0.005]\n",
    "models = {}\n",
    "\n",
    "for lr in learning_rates:\n",
    "    print (\"Training a model with learning rate: \" + str(lr))\n",
    "    models[str(lr)] = model(train_set_x, train_set_y, test_set_x, test_set_y, Epoch=2000, learning_rate=lr, print_cost=False)\n",
    "    print ('\\n' + \"-------------------------------------------------------\" + '\\n')"
   ]
  },
  {
   "cell_type": "markdown",
   "id": "6a7ce9f2",
   "metadata": {},
   "source": [
    "`Plot` to see how the different learning rates affect how well the model trained."
   ]
  },
  {
   "cell_type": "code",
   "execution_count": 48,
   "id": "44d7cd5a",
   "metadata": {},
   "outputs": [
    {
     "data": {
      "image/png": "[encoded data removed]",
      "text/plain": [
       "<Figure size 640x480 with 1 Axes>"
      ]
     },
     "metadata": {},
     "output_type": "display_data"
    }
   ],
   "source": [
    "for lr in learning_rates:\n",
    "    move_to_cpu = [t.cpu().item() for t in models[str(lr)][\"costs\"]]\n",
    "\n",
    "    plt.plot(np.squeeze( move_to_cpu), label=str(models[str(lr)][\"learning_rate\"]))\n",
    "\n",
    "plt.ylabel('cost')\n",
    "plt.xlabel('Epochs (hundreds)')\n",
    "\n",
    "legend = plt.legend(loc='upper center', shadow=True)\n",
    "frame = legend.get_frame()\n",
    "frame.set_facecolor('0.90')\n",
    "plt.grid(True)\n",
    "plt.show()"
   ]
  },
  {
   "cell_type": "markdown",
   "id": "9ce59b2c",
   "metadata": {},
   "source": [
    "`Extrapolation:` A learning rate value of $0.01$ has the best overall cost score."
   ]
  },
  {
   "cell_type": "markdown",
   "id": "3c526ca1",
   "metadata": {},
   "source": [
    "## Implement Functions Using torch \n",
    "- Show how easy it is to implement all the functions of [Build The Neural Network Algorithm](#Build_NN) with Pytorch.\n",
    "- Run the mushroom dataset section."
   ]
  },
  {
   "cell_type": "code",
   "execution_count": 49,
   "id": "8b074a7e",
   "metadata": {},
   "outputs": [],
   "source": [
    "import torch\n",
    "import torch.nn as nn\n",
    "import torch.optim as optim\n",
    "from torch.utils.data import DataLoader, TensorDataset\n"
   ]
  },
  {
   "cell_type": "code",
   "execution_count": 50,
   "id": "35d6ee97",
   "metadata": {},
   "outputs": [
    {
     "name": "stdout",
     "output_type": "stream",
     "text": [
      "Using MPS device (Apple Silicon GPU)\n"
     ]
    }
   ],
   "source": [
    "# --- Device Configuration (from your original script) ---\n",
    "if torch.cuda.is_available():\n",
    "    DEVICE = torch.device(\"cuda\")\n",
    "    print(f\"Using CUDA device: {torch.cuda.get_device_name(DEVICE)}\")\n",
    "elif torch.backends.mps.is_available():\n",
    "    DEVICE = torch.device(\"mps\")\n",
    "    print(\"Using MPS device (Apple Silicon GPU)\")\n",
    "else:\n",
    "    DEVICE = torch.device(\"cpu\")\n",
    "    print(\"Using CPU device\")"
   ]
  },
  {
   "cell_type": "code",
   "execution_count": 51,
   "id": "b2c5e7d4",
   "metadata": {},
   "outputs": [
    {
     "data": {
      "text/plain": [
       "((116, 6499), (1, 6499))"
      ]
     },
     "execution_count": 51,
     "metadata": {},
     "output_type": "execute_result"
    }
   ],
   "source": [
    "X, y = X_train, y_train\n",
    "X.shape, y.shape"
   ]
  },
  {
   "cell_type": "code",
   "execution_count": 52,
   "id": "d15dff84",
   "metadata": {},
   "outputs": [],
   "source": [
    "# Convert from Numpy arrays to torch tensors and move to GPU if available.\n",
    "X = torch.tensor(X.T, dtype=torch.float32).to(DEVICE)\n",
    "y = torch.tensor(y.T, dtype=torch.float32).to(DEVICE)"
   ]
  },
  {
   "cell_type": "code",
   "execution_count": 53,
   "id": "71d1ef30",
   "metadata": {},
   "outputs": [],
   "source": [
    "# DataLoader\n",
    "dataset = TensorDataset(X, y)\n",
    "loader = DataLoader(dataset, batch_size=256, shuffle=True)"
   ]
  },
  {
   "cell_type": "code",
   "execution_count": 54,
   "id": "52e93ca0",
   "metadata": {},
   "outputs": [
    {
     "data": {
      "text/plain": [
       "116"
      ]
     },
     "execution_count": 54,
     "metadata": {},
     "output_type": "execute_result"
    }
   ],
   "source": [
    "total_mushroom_features"
   ]
  },
  {
   "cell_type": "code",
   "execution_count": 55,
   "id": "24f5417f",
   "metadata": {},
   "outputs": [],
   "source": [
    "# Define the Neural Network.\n",
    "torch_model = nn.Sequential(\n",
    "    nn.Linear(total_mushroom_features, 1),               # input → output, no hidden layer\n",
    "    # nn.Sigmoid() removed because BCEWithLogitsLoss() does Sigmoid internally. Squash output to [0,1] for binary classification\n",
    ").to(DEVICE) # Move the model to the selected device."
   ]
  },
  {
   "cell_type": "code",
   "execution_count": 56,
   "id": "cc16eb55",
   "metadata": {},
   "outputs": [],
   "source": [
    "# Loss and optimizer\n",
    "criterion = nn.BCEWithLogitsLoss() # Combines binary cross-entropy and sigmoid activation functions.\n",
    "optimizer = optim.SGD(torch_model.parameters(), lr=0.01)"
   ]
  },
  {
   "cell_type": "markdown",
   "id": "20f5e4f2",
   "metadata": {},
   "source": [
    "Training takes a little more time (~30s) than my scratch implantation."
   ]
  },
  {
   "cell_type": "code",
   "execution_count": 57,
   "id": "09b5f6de",
   "metadata": {},
   "outputs": [
    {
     "name": "stdout",
     "output_type": "stream",
     "text": [
      "Epoch: [50/150], Average Loss: 0.1611\n",
      "Epoch: [100/150], Average Loss: 0.1131\n",
      "Epoch: [150/150], Average Loss: 0.0917\n"
     ]
    }
   ],
   "source": [
    "# --- Training loop ---\n",
    "epochs = 150\n",
    "loss_history = []\n",
    "\n",
    "for epoch in range(1, epochs+1):\n",
    "    total_loss = 0.0\n",
    "    for batch_X, batch_y in loader:\n",
    "        # --- Forward propagate\n",
    "        logits = torch_model(batch_X)                  # raw scores\n",
    "\n",
    "        # --- Backward propagate\n",
    "        loss = criterion(logits, batch_y)        # loss using BCEWithLogitsLoss\n",
    "\n",
    "        optimizer.zero_grad()\n",
    "        loss.backward()\n",
    "        optimizer.step()\n",
    "\n",
    "        total_loss += loss.item()\n",
    "\n",
    "    loss_history.append(total_loss)\n",
    "    if epoch % 50 == 0: # only print every 50th epoch.\n",
    "        avg_loss = total_loss / len(loader)\n",
    "        print(f\"Epoch: [{epoch}/{epochs}], Average Loss: {avg_loss:.4f}\")\n"
   ]
  },
  {
   "cell_type": "markdown",
   "id": "68ac92cf",
   "metadata": {},
   "source": [
    "`Plot` the loss."
   ]
  },
  {
   "cell_type": "code",
   "execution_count": 58,
   "id": "06c86a42",
   "metadata": {},
   "outputs": [
    {
     "data": {
      "image/png": "[encoded data removed]",
      "text/plain": [
       "<Figure size 640x480 with 1 Axes>"
      ]
     },
     "metadata": {},
     "output_type": "display_data"
    }
   ],
   "source": [
    "# Plot learning curve (with costs)\n",
    "plt.plot(loss_history)\n",
    "plt.ylabel('loss')\n",
    "plt.xlabel('epochs (per hundreds)')\n",
    "plt.title(\"Learning rate=0.01\")\n",
    "plt.grid(True)\n",
    "plt.show()"
   ]
  },
  {
   "cell_type": "markdown",
   "id": "5f6b780e",
   "metadata": {},
   "source": []
  },
  {
   "cell_type": "code",
   "execution_count": null,
   "id": "e0aaf62c",
   "metadata": {},
   "outputs": [],
   "source": []
  }
 ],
 "metadata": {
  "kernelspec": {
   "display_name": "torch_env",
   "language": "python",
   "name": "python3"
  },
  "language_info": {
   "codemirror_mode": {
    "name": "ipython",
    "version": 3
   },
   "file_extension": ".py",
   "mimetype": "text/x-python",
   "name": "python",
   "nbconvert_exporter": "python",
   "pygments_lexer": "ipython3",
   "version": "3.11.11"
  }
 },
 "nbformat": 4,
 "nbformat_minor": 5
}
