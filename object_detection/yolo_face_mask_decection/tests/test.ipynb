{
 "cells": [
  {
   "cell_type": "code",
   "execution_count": 3,
   "metadata": {},
   "outputs": [],
   "source": [
    "# from ..utils.plot import plot_bbox_on_img, visualize_grid_on_img\n",
    "from utils.convert_coordinates import yolo_to_voc\n",
    "# from ..utils.convert_coordinates import voc_to_yolo, yolo_to_voc\n",
    "import torch\n",
    "from PIL import Image, ImageDraw\n",
    "# from IPython.display import display\n",
    "from torchvision import transforms\n",
    "\n"
   ]
  },
  {
   "cell_type": "code",
   "execution_count": null,
   "metadata": {},
   "outputs": [],
   "source": [
    "def plot_bbox_on_img(img_path, bbox_coordinates):\n",
    "    \"\"\"\n",
    "    Plots bboxes on a single image\n",
    "    \n",
    "        img : (tensor)\n",
    "            Image tensor, this should be the resized image that we will pass to the model\n",
    "        bbox_coordinates : (tensor)\n",
    "             [class_id, X, Y, width, height]] in YOLO format, the coordinates have to be relative to the entire image, not a single cell.\n",
    "    \"\"\"\n",
    "    # Convert from tensor to PIL image\n",
    "    to_pil = transforms.ToPILImage()\n",
    "    img = to_pil(img_tensor).convert(\"RGBA\")\n",
    "    # img = Image.open(img_path).convert(\"RGB\")\n",
    "    drawContext = ImageDraw.Draw(img)\n",
    "\n",
    "    for box in bbox_coordinates:        \n",
    "        class_id, x1, y1, x2, y2 = box\n",
    "        drawContext.rectangle([x1, y1, x2, y2], outline='white', width=2)\n",
    "\n",
    "        # Add (x, y) label\n",
    "        label_text = f'{class_id}'\n",
    "        \n",
    "        drawContext.text((x1 + 5, y1 - 15), label_text, fill='white')  # position label above the top-left corner\n",
    "\n",
    "    plot_x_y_axis(img, drawContext).show() # draw the x-y axes and plot\n",
    "\n",
    "    # Display inline\n",
    "    # display(img) # works for jupiter notebook only"
   ]
  },
  {
   "cell_type": "code",
   "execution_count": null,
   "metadata": {},
   "outputs": [],
   "source": [
    "bboxes = torch.tensor([\n",
    "    [0.0000, 0.1836, 0.3374, 0.0586, 0.1011],\n",
    "    [1.0000, 0.4014, 0.3333, 0.0801, 0.1202],\n",
    "    [0.0000, 0.6689, 0.3156, 0.0684, 0.1393]\n",
    "])"
   ]
  },
  {
   "cell_type": "code",
   "execution_count": null,
   "metadata": {},
   "outputs": [],
   "source": [
    "plot_bbox_on_img()"
   ]
  }
 ],
 "metadata": {
  "kernelspec": {
   "display_name": "torch_env",
   "language": "python",
   "name": "python3"
  },
  "language_info": {
   "codemirror_mode": {
    "name": "ipython",
    "version": 3
   },
   "file_extension": ".py",
   "mimetype": "text/x-python",
   "name": "python",
   "nbconvert_exporter": "python",
   "pygments_lexer": "ipython3",
   "version": "3.11.11"
  }
 },
 "nbformat": 4,
 "nbformat_minor": 2
}
