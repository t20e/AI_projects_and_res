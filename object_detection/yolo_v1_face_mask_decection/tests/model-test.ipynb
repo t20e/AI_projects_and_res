{
 "cells": [
  {
   "cell_type": "code",
   "execution_count": 18,
   "metadata": {},
   "outputs": [],
   "source": [
    "\n",
    "\n",
    "import torch\n",
    "import torch.nn as nn\n",
    "\n",
    "from model import YOLOv1, CNNBlock"
   ]
  },
  {
   "cell_type": "code",
   "execution_count": 3,
   "metadata": {},
   "outputs": [
    {
     "name": "stdout",
     "output_type": "stream",
     "text": [
      "The autoreload extension is already loaded. To reload it, use:\n",
      "  %reload_ext autoreload\n"
     ]
    }
   ],
   "source": [
    "%load_ext autoreload\n",
    "%autoreload 1\n",
    "%aimport model"
   ]
  },
  {
   "cell_type": "code",
   "execution_count": 4,
   "metadata": {},
   "outputs": [],
   "source": [
    "architecture_config = [\n",
    "    (7, 64, 2, 3), # Conv Layer 7 is the kernel size, 64 is the number of filters, 2 is the stride, 3 is the padding\n",
    "    \"M\", \n",
    "    (3, 192, 1, 1), # conv layer\n",
    "    \"M\",\n",
    "    (1, 128, 1, 0),\n",
    "    (3, 256, 1, 1),\n",
    "    (1, 256, 1, 0),\n",
    "    (3, 512, 1, 1),\n",
    "    \"M\",\n",
    "    [(1, 256, 1, 0), (3, 512, 1, 1), 4], # the last 4 means repeat that layer in the () 4 times\n",
    "    (1, 512, 1, 0),\n",
    "    (3, 1024, 1, 1),\n",
    "    \"M\",\n",
    "    [(1, 512, 1, 0), (3, 1024, 1, 1), 2],\n",
    "    (3, 1024, 1, 1),\n",
    "    (3, 1024, 2, 1),\n",
    "    (3, 1024, 1, 1),\n",
    "    (3, 1024, 1, 1)\n",
    "]"
   ]
  },
  {
   "cell_type": "code",
   "execution_count": 5,
   "metadata": {},
   "outputs": [],
   "source": [
    "c = YOLOv1(3, 49, 2, 3)"
   ]
  },
  {
   "cell_type": "code",
   "execution_count": 6,
   "metadata": {},
   "outputs": [
    {
     "data": {
      "text/plain": [
       "Sequential(\n",
       "  (0): Flatten(start_dim=1, end_dim=-1)\n",
       "  (1): Linear(in_features=50176, out_features=4096, bias=True)\n",
       "  (2): Dropout(p=0.5, inplace=False)\n",
       "  (3): LeakyReLU(negative_slope=0.1)\n",
       "  (4): Linear(in_features=4096, out_features=637, bias=True)\n",
       ")"
      ]
     },
     "execution_count": 6,
     "metadata": {},
     "output_type": "execute_result"
    }
   ],
   "source": [
    "c._create_fcs()"
   ]
  },
  {
   "cell_type": "code",
   "execution_count": 8,
   "metadata": {},
   "outputs": [
    {
     "name": "stdout",
     "output_type": "stream",
     "text": [
      "2 10\n"
     ]
    }
   ],
   "source": [
    "t(10)"
   ]
  },
  {
   "cell_type": "code",
   "execution_count": 26,
   "metadata": {},
   "outputs": [
    {
     "data": {
      "text/plain": [
       "[CNNBlock(\n",
       "   (conv): Conv2d(3, 64, kernel_size=(7, 7), stride=(2, 2), bias=False)\n",
       "   (batch_norm): BatchNorm2d(64, eps=1e-05, momentum=0.1, affine=True, track_running_stats=True)\n",
       "   (leakyreul): LeakyReLU(negative_slope=0.1)\n",
       " )]"
      ]
     },
     "execution_count": 26,
     "metadata": {},
     "output_type": "execute_result"
    }
   ],
   "source": [
    "layers = [CNNBlock(3, 64, 7, 2, 0)]\n",
    "layers"
   ]
  },
  {
   "cell_type": "code",
   "execution_count": 27,
   "metadata": {},
   "outputs": [
    {
     "data": {
      "text/plain": [
       "[CNNBlock(\n",
       "   (conv): Conv2d(3, 64, kernel_size=(7, 7), stride=(2, 2), bias=False)\n",
       "   (batch_norm): BatchNorm2d(64, eps=1e-05, momentum=0.1, affine=True, track_running_stats=True)\n",
       "   (leakyreul): LeakyReLU(negative_slope=0.1)\n",
       " ),\n",
       " CNNBlock(\n",
       "   (conv): Conv2d(3, 64, kernel_size=(7, 7), stride=(2, 2), bias=False)\n",
       "   (batch_norm): BatchNorm2d(64, eps=1e-05, momentum=0.1, affine=True, track_running_stats=True)\n",
       "   (leakyreul): LeakyReLU(negative_slope=0.1)\n",
       " ),\n",
       " CNNBlock(\n",
       "   (conv): Conv2d(3, 64, kernel_size=(7, 7), stride=(2, 2), bias=False)\n",
       "   (batch_norm): BatchNorm2d(64, eps=1e-05, momentum=0.1, affine=True, track_running_stats=True)\n",
       "   (leakyreul): LeakyReLU(negative_slope=0.1)\n",
       " )]"
      ]
     },
     "execution_count": 27,
     "metadata": {},
     "output_type": "execute_result"
    }
   ],
   "source": [
    "layers += [\n",
    "    CNNBlock(3, 64, 7, 2, 0),\n",
    "]\n",
    "layers +=[\n",
    "    CNNBlock(3, 64, 7, 2, 0)\n",
    "]\n",
    "layers"
   ]
  },
  {
   "cell_type": "code",
   "execution_count": 28,
   "metadata": {},
   "outputs": [
    {
     "data": {
      "text/plain": [
       "3"
      ]
     },
     "execution_count": 28,
     "metadata": {},
     "output_type": "execute_result"
    }
   ],
   "source": [
    "len(layers)"
   ]
  },
  {
   "cell_type": "code",
   "execution_count": 35,
   "metadata": {},
   "outputs": [
    {
     "name": "stdout",
     "output_type": "stream",
     "text": [
      "torch.Size([3, 637])\n"
     ]
    }
   ],
   "source": [
    "        \n",
    "def test(S = 49, B=2, C=3):\n",
    "    model = YOLOv1(in_channels=3, grid_size=S, num_bboxes=B, num_classes=C)\n",
    "    x = torch.randn((3, 3, 448, 448)) # 2 image examples \n",
    "    print(model(x).shape)\n",
    "    # output should be torch.Size([2, 637])\n",
    "    # 7*7*13=1470\n",
    "test()"
   ]
  },
  {
   "cell_type": "code",
   "execution_count": null,
   "metadata": {},
   "outputs": [],
   "source": []
  }
 ],
 "metadata": {
  "kernelspec": {
   "display_name": "torch_env",
   "language": "python",
   "name": "python3"
  },
  "language_info": {
   "codemirror_mode": {
    "name": "ipython",
    "version": 3
   },
   "file_extension": ".py",
   "mimetype": "text/x-python",
   "name": "python",
   "nbconvert_exporter": "python",
   "pygments_lexer": "ipython3",
   "version": "3.11.11"
  }
 },
 "nbformat": 4,
 "nbformat_minor": 2
}
