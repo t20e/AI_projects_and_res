{
 "cells": [
  {
   "cell_type": "markdown",
   "id": "4ae2aa46",
   "metadata": {},
   "source": [
    "## Test both corner-points and mid-points draw labeled data on images."
   ]
  },
  {
   "cell_type": "code",
   "execution_count": null,
   "id": "78c9154f",
   "metadata": {
    "vscode": {
     "languageId": "plaintext"
    }
   },
   "outputs": [],
   "source": []
  },
  {
   "cell_type": "markdown",
   "id": "3d9aab01",
   "metadata": {},
   "source": []
  }
 ],
 "metadata": {
  "language_info": {
   "name": "python"
  }
 },
 "nbformat": 4,
 "nbformat_minor": 5
}
