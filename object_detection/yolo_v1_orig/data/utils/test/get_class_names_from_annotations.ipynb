{
 "cells": [
  {
   "cell_type": "code",
   "execution_count": 1,
   "id": "480160f0",
   "metadata": {},
   "outputs": [
    {
     "name": "stdout",
     "output_type": "stream",
     "text": [
      "RUNNING FROM: ->> /Users/tonyavis/Main/AI_public_projects/object_detection/yolo_v1_orig\n"
     ]
    }
   ],
   "source": [
    "# 💡 NOTE: Runs this jupyter notebook from the projects root, mimicking a root run.\n",
    "import os\n",
    "# ⭐️ NOTE: Set num_to_move to how many directories it takes from this file to reach project root.\n",
    "num_to_move = 3\n",
    "os.chdir(os.getcwd().rsplit(\"/\", num_to_move)[0])\n",
    "print(\"RUNNING FROM: ->>\",os.getcwd())\n",
    "\n",
    "import torch\n",
    "# # Show all values when printing torch tensors.\n",
    "torch.set_printoptions(threshold=torch.inf) # shows all the values when printing tensors\n",
    "\n",
    "\n",
    "# Reloads external functions when its code changes into this notebook.\n",
    "%load_ext autoreload\n",
    "%autoreload 1\n",
    "# %aimport will only reload those files\n",
    "# %aimport utils.bboxes"
   ]
  },
  {
   "cell_type": "markdown",
   "id": "7f9a5c1b",
   "metadata": {},
   "source": [
    "## Get The Class Names From The Annotations File"
   ]
  },
  {
   "cell_type": "code",
   "execution_count": 2,
   "id": "c57c0bf3",
   "metadata": {},
   "outputs": [
    {
     "data": {
      "text/plain": [
       "'/Users/tonyavis/Main/AI_public_projects/object_detection/yolo_v1_orig/datasets/VOC2012_train_val/Annotations/'"
      ]
     },
     "execution_count": 2,
     "metadata": {},
     "output_type": "execute_result"
    }
   ],
   "source": [
    "import os\n",
    "import xml.etree.ElementTree as ET\n",
    "\n",
    "cwd = os.getcwd()\n",
    "xmls_path = f\"{cwd}/datasets/VOC2012_train_val/Annotations/\"\n",
    "xmls_path"
   ]
  },
  {
   "cell_type": "code",
   "execution_count": 3,
   "id": "6dce98d6",
   "metadata": {},
   "outputs": [],
   "source": [
    "CLASS_NAMES = []"
   ]
  },
  {
   "cell_type": "code",
   "execution_count": 4,
   "id": "bfc06831",
   "metadata": {},
   "outputs": [],
   "source": [
    "seen_strings = set()"
   ]
  },
  {
   "cell_type": "code",
   "execution_count": 5,
   "id": "505fd869",
   "metadata": {},
   "outputs": [
    {
     "data": {
      "text/plain": [
       "['person',\n",
       " 'chair',\n",
       " 'diningtable',\n",
       " 'tvmonitor',\n",
       " 'sofa',\n",
       " 'cat',\n",
       " 'sheep',\n",
       " 'bottle',\n",
       " 'bird',\n",
       " 'car',\n",
       " 'bicycle',\n",
       " 'boat',\n",
       " 'train',\n",
       " 'cow',\n",
       " 'horse',\n",
       " 'dog',\n",
       " 'aeroplane',\n",
       " 'bus',\n",
       " 'pottedplant',\n",
       " 'motorbike']"
      ]
     },
     "execution_count": 5,
     "metadata": {},
     "output_type": "execute_result"
    }
   ],
   "source": [
    "for file in os.listdir(xmls_path):\n",
    "    # --- 1: Parse the xml file\n",
    "    tree = ET.parse(f\"{xmls_path}/{file}\")\n",
    "    root = tree.getroot()\n",
    "    for obj in root.findall(\"object\"):\n",
    "        obj_name = obj.find(\"name\").text\n",
    "        if obj_name not in seen_strings:\n",
    "            seen_strings.add(obj_name)\n",
    "            CLASS_NAMES.append(obj_name)\n",
    "CLASS_NAMES"
   ]
  },
  {
   "cell_type": "code",
   "execution_count": null,
   "id": "2bf3e686",
   "metadata": {},
   "outputs": [],
   "source": []
  },
  {
   "cell_type": "code",
   "execution_count": null,
   "id": "368938d2",
   "metadata": {},
   "outputs": [],
   "source": []
  }
 ],
 "metadata": {
  "kernelspec": {
   "display_name": "yolov1_env",
   "language": "python",
   "name": "python3"
  },
  "language_info": {
   "codemirror_mode": {
    "name": "ipython",
    "version": 3
   },
   "file_extension": ".py",
   "mimetype": "text/x-python",
   "name": "python",
   "nbconvert_exporter": "python",
   "pygments_lexer": "ipython3",
   "version": "3.11.13"
  }
 },
 "nbformat": 4,
 "nbformat_minor": 5
}
