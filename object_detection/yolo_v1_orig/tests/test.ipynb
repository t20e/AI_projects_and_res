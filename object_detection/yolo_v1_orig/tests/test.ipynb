{
 "cells": [
  {
   "cell_type": "code",
   "execution_count": 1,
   "id": "494c4ba5",
   "metadata": {},
   "outputs": [
    {
     "name": "stdout",
     "output_type": "stream",
     "text": [
      "RUNNING FROM: ->> /Users/tonyavis/Main/AI_public_projects/object_detection/yolo_v1_orig\n"
     ]
    }
   ],
   "source": [
    "# 💡 NOTE: Runs this jupyter notebook from the projects root, mimicking a root run.\n",
    "import os\n",
    "# ⭐️ NOTE: Set num_to_move to how many directories it takes from this file to reach project root.\n",
    "num_to_move = 1\n",
    "os.chdir(os.getcwd().rsplit(\"/\", num_to_move)[0])\n",
    "print(\"RUNNING FROM: ->>\",os.getcwd())\n",
    "\n",
    "import torch\n",
    "# # Show all values when printing torch tensors.\n",
    "torch.set_printoptions(threshold=torch.inf) # shows all the values when printing tensors\n",
    "\n",
    "\n",
    "# Reloads external functions when its code changes into this notebook.\n",
    "%load_ext autoreload\n",
    "%autoreload 1\n",
    "# %aimport will only reload those files\n",
    "# %aimport utils.bboxes"
   ]
  },
  {
   "cell_type": "code",
   "execution_count": 2,
   "id": "53cc7999",
   "metadata": {},
   "outputs": [],
   "source": [
    "import torch"
   ]
  },
  {
   "cell_type": "code",
   "execution_count": 32,
   "id": "7398da47",
   "metadata": {},
   "outputs": [
    {
     "data": {
      "text/plain": [
       "tensor([[0.7249, 0.9565, 0.6310, 0.9056, 0.7675, 0.4716, 0.1288],\n",
       "        [0.0889, 0.9546, 0.8911, 0.6110, 0.3677, 0.1560, 0.5228],\n",
       "        [0.4769, 0.8832, 0.8636, 0.1984, 0.8500, 0.9339, 0.2993]])"
      ]
     },
     "execution_count": 32,
     "metadata": {},
     "output_type": "execute_result"
    }
   ],
   "source": [
    "torch.vstack((i, j))"
   ]
  },
  {
   "cell_type": "code",
   "execution_count": 35,
   "id": "e9ff965b",
   "metadata": {},
   "outputs": [
    {
     "data": {
      "text/plain": [
       "tensor([], size=(0, 7))"
      ]
     },
     "execution_count": 35,
     "metadata": {},
     "output_type": "execute_result"
    }
   ],
   "source": [
    "base_tensor = torch.tensor([]).reshape(0, 7) # Reshape to the correct dimensions\n",
    "base_tensor"
   ]
  },
  {
   "cell_type": "code",
   "execution_count": 36,
   "id": "603292f0",
   "metadata": {},
   "outputs": [
    {
     "name": "stdout",
     "output_type": "stream",
     "text": [
      "tensor([[0.2809, 0.4939, 0.6416, 0.7177, 0.3983, 0.8586, 0.9110],\n",
      "        [0.3813, 0.8276, 0.4029, 0.6661, 0.3103, 0.3476, 0.9494]]) \n",
      "\n",
      " tensor([[0.7223, 0.2987, 0.3857, 0.0889, 0.9291, 0.6365, 0.7771]])\n"
     ]
    }
   ],
   "source": [
    "i = torch.rand(2, 7)\n",
    "j = torch.rand(1, 7)\n",
    "print(i, \"\\n\\n\", j)"
   ]
  },
  {
   "cell_type": "code",
   "execution_count": 39,
   "id": "8b66e6e4",
   "metadata": {},
   "outputs": [
    {
     "data": {
      "text/plain": [
       "tensor([[0.7223, 0.2987, 0.3857, 0.0889, 0.9291, 0.6365, 0.7771],\n",
       "        [0.2809, 0.4939, 0.6416, 0.7177, 0.3983, 0.8586, 0.9110],\n",
       "        [0.3813, 0.8276, 0.4029, 0.6661, 0.3103, 0.3476, 0.9494],\n",
       "        [0.7347, 0.0125, 0.1881, 0.3290, 0.5546, 0.2723, 0.8903],\n",
       "        [0.9695, 0.1584, 0.8985, 0.7114, 0.9129, 0.8756, 0.2593]])"
      ]
     },
     "execution_count": 39,
     "metadata": {},
     "output_type": "execute_result"
    }
   ],
   "source": [
    "torch.vstack((base_tensor, j, i, torch.rand(2, 7) ))"
   ]
  },
  {
   "cell_type": "code",
   "execution_count": 40,
   "id": "f493ff3f",
   "metadata": {},
   "outputs": [
    {
     "data": {
      "text/plain": [
       "torch.Size([3])"
      ]
     },
     "execution_count": 40,
     "metadata": {},
     "output_type": "execute_result"
    }
   ],
   "source": [
    "torch.tensor([1, 3, 4]).shape"
   ]
  },
  {
   "cell_type": "code",
   "execution_count": null,
   "id": "d6c62022",
   "metadata": {},
   "outputs": [],
   "source": []
  }
 ],
 "metadata": {
  "kernelspec": {
   "display_name": "yolov1_env",
   "language": "python",
   "name": "python3"
  },
  "language_info": {
   "codemirror_mode": {
    "name": "ipython",
    "version": 3
   },
   "file_extension": ".py",
   "mimetype": "text/x-python",
   "name": "python",
   "nbconvert_exporter": "python",
   "pygments_lexer": "ipython3",
   "version": "3.11.13"
  }
 },
 "nbformat": 4,
 "nbformat_minor": 5
}
