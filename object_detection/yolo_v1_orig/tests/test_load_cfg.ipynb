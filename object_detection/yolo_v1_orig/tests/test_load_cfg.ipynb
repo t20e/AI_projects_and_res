{
 "cells": [
  {
   "cell_type": "code",
   "execution_count": 1,
   "id": "0246104d",
   "metadata": {},
   "outputs": [
    {
     "name": "stdout",
     "output_type": "stream",
     "text": [
      "/Users/tonyavis/Main/AI_public_projects/object_detection/yolo_v1_orig\n"
     ]
    }
   ],
   "source": [
    "# 💡 Note: Runs this jupyter notebook from the projects root, mimicking a root run.\n",
    "import os\n",
    "os.chdir(os.getcwd().rsplit(\"/\", 1)[0])\n",
    "print(os.getcwd())\n",
    "\n",
    "import torch\n",
    "# Show all values when printing torch tensors.\n",
    "torch.set_printoptions(threshold=torch.inf) # shows all the values when printing tensors\n",
    "\n",
    "# Reloads external functions when its code changes into this notebook.\n",
    "%load_ext autoreload\n",
    "%autoreload 1\n",
    "# %aimport will only reload those files\n",
    "# %aimport utils.bboxes"
   ]
  },
  {
   "cell_type": "code",
   "execution_count": 2,
   "id": "57405603",
   "metadata": {},
   "outputs": [],
   "source": [
    "%aimport configs.config_loader\n",
    "from configs.config_loader import load_config"
   ]
  },
  {
   "cell_type": "code",
   "execution_count": 3,
   "id": "73dce135",
   "metadata": {},
   "outputs": [],
   "source": [
    "cfg = load_config(file_name=\"yolov1.yaml\", overrides={\"B\": 12})"
   ]
  },
  {
   "cell_type": "code",
   "execution_count": 4,
   "id": "ae523414",
   "metadata": {},
   "outputs": [
    {
     "data": {
      "text/plain": [
       "12"
      ]
     },
     "execution_count": 4,
     "metadata": {},
     "output_type": "execute_result"
    }
   ],
   "source": [
    "# Example: override B from 2 to 12.\n",
    "cfg.B"
   ]
  },
  {
   "cell_type": "code",
   "execution_count": null,
   "id": "029eecdc",
   "metadata": {},
   "outputs": [],
   "source": []
  },
  {
   "cell_type": "code",
   "execution_count": null,
   "id": "f6698e92",
   "metadata": {},
   "outputs": [],
   "source": []
  }
 ],
 "metadata": {
  "kernelspec": {
   "display_name": "torch_env",
   "language": "python",
   "name": "python3"
  },
  "language_info": {
   "codemirror_mode": {
    "name": "ipython",
    "version": 3
   },
   "file_extension": ".py",
   "mimetype": "text/x-python",
   "name": "python",
   "nbconvert_exporter": "python",
   "pygments_lexer": "ipython3",
   "version": "3.11.11"
  }
 },
 "nbformat": 4,
 "nbformat_minor": 5
}
