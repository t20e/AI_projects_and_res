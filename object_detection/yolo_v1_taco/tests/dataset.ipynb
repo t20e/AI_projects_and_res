{
 "cells": [
  {
   "cell_type": "code",
   "execution_count": 1,
   "id": "e9e4c8be",
   "metadata": {},
   "outputs": [],
   "source": [
    "import torch\n",
    "import os"
   ]
  },
  {
   "cell_type": "code",
   "execution_count": 2,
   "id": "d2edafcd",
   "metadata": {},
   "outputs": [],
   "source": [
    "# Changes the current working directory so to mimic running from repo root.\n",
    "# os.getcwd().rsplit(\"/\", 1)[0]\n",
    "os.chdir(os.getcwd().rsplit(\"/\", 1)[0])\n",
    "# os.getcwd()\n",
    "from yolov1.dataset import Dataset"
   ]
  },
  {
   "cell_type": "code",
   "execution_count": 8,
   "id": "a887fe80",
   "metadata": {},
   "outputs": [
    {
     "name": "stdout",
     "output_type": "stream",
     "text": [
      "CSV file already exists.\n"
     ]
    }
   ],
   "source": [
    "d = Dataset(dataset_path=\"./data\", S=7, B=2, C=18, transforms=None, \n",
    "            data_type=\"test\")\n",
    "img, label = d.__getitem__(1)"
   ]
  },
  {
   "cell_type": "code",
   "execution_count": 10,
   "id": "5164358c",
   "metadata": {},
   "outputs": [
    {
     "data": {
      "text/plain": [
       "PIL.JpegImagePlugin.JpegImageFile"
      ]
     },
     "execution_count": 10,
     "metadata": {},
     "output_type": "execute_result"
    }
   ],
   "source": [
    "type(img)"
   ]
  },
  {
   "cell_type": "code",
   "execution_count": null,
   "id": "d51d3082",
   "metadata": {},
   "outputs": [],
   "source": []
  }
 ],
 "metadata": {
  "kernelspec": {
   "display_name": "torch_env",
   "language": "python",
   "name": "python3"
  },
  "language_info": {
   "codemirror_mode": {
    "name": "ipython",
    "version": 3
   },
   "file_extension": ".py",
   "mimetype": "text/x-python",
   "name": "python",
   "nbconvert_exporter": "python",
   "pygments_lexer": "ipython3",
   "version": "3.11.11"
  }
 },
 "nbformat": 4,
 "nbformat_minor": 5
}
