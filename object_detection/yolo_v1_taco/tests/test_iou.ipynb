{
 "cells": [
  {
   "cell_type": "code",
   "execution_count": 1,
   "id": "da2b56bb",
   "metadata": {},
   "outputs": [
    {
     "name": "stdout",
     "output_type": "stream",
     "text": [
      "/Users/tonyavis/Main/AI_public_projects/object_detection/yolo_v1_taco\n"
     ]
    }
   ],
   "source": [
    "# 💡 Note: Runs this jupyter notebook from the projects root, mimicking a root run.\n",
    "import os\n",
    "os.chdir(os.getcwd().rsplit(\"/\", 1)[0])\n",
    "print(os.getcwd())\n",
    "\n",
    "import torch\n",
    "# Show all values when printing torch tensors.\n",
    "torch.set_printoptions(threshold=torch.inf) # shows all the values when printing tensors\n",
    "\n",
    "# Reloads external functions when its code changes into this notebook.\n",
    "%load_ext autoreload\n",
    "%autoreload 1\n",
    "# %aimport will only reload those files\n",
    "# %aimport utils.bboxes"
   ]
  },
  {
   "cell_type": "code",
   "execution_count": 2,
   "id": "939263db",
   "metadata": {},
   "outputs": [],
   "source": [
    "from yolov1.dataset import Dataset\n",
    "from utils.load_config import load_config\n",
    "from utils.setup_transforms import setup_transforms"
   ]
  },
  {
   "cell_type": "code",
   "execution_count": 3,
   "id": "3652e06f",
   "metadata": {},
   "outputs": [],
   "source": [
    "config = load_config()\n",
    "transforms = setup_transforms(config.IMAGE_SIZE)"
   ]
  },
  {
   "cell_type": "code",
   "execution_count": 21,
   "id": "5fcd48cd",
   "metadata": {},
   "outputs": [
    {
     "name": "stdout",
     "output_type": "stream",
     "text": [
      "Checking csv dataframe file: csv dataframe file already exists.\n"
     ]
    },
    {
     "data": {
      "text/plain": [
       "(torch.Size([3, 448, 448]), torch.Size([7, 7, 28]))"
      ]
     },
     "execution_count": 21,
     "metadata": {},
     "output_type": "execute_result"
    }
   ],
   "source": [
    "d = Dataset(\n",
    "    S=config.S,\n",
    "    B=config.B,\n",
    "    C=config.C,\n",
    "    whichDataset=config.WHICH_DATASET,\n",
    "    transforms=transforms,\n",
    ")\n",
    "img, label = d.__getitem__(0)\n",
    "img.shape, label.shape "
   ]
  },
  {
   "cell_type": "markdown",
   "id": "87795024",
   "metadata": {},
   "source": [
    "> Make the label shape look like output we will pass the label as if its the models output and the true label to test IOU"
   ]
  },
  {
   "cell_type": "code",
   "execution_count": 22,
   "id": "5c39a959",
   "metadata": {},
   "outputs": [],
   "source": [
    "# both are the labeled data\n",
    "pred = label.unsqueeze(dim=0)\n",
    "label = label.unsqueeze(dim=0)\n",
    "C, S, B = config.C, config.S, config.B"
   ]
  },
  {
   "cell_type": "code",
   "execution_count": null,
   "id": "45092aba",
   "metadata": {},
   "outputs": [],
   "source": [
    "b_s = pred.size(0)\n",
    "\n",
    "\n",
    "# ==> 1: Slice out the coordinates we need.\n",
    "#       Layout: C=18, B=2.\n",
    "#            [c0, c1, c2, c3, c4, c5, c6, c7, c8, c9, c10, c11, c12, c13, c14, c15, c16, c17, pc1, x1,y1,w1,h1, pc2, x2,y2,w2,h2]\n",
    "#   Get class predictions index 0-17. (n_s, S, S, C)\n",
    "pred_cls = pred[..., :C]\n",
    "\n",
    "# pred_cls = torch.softmax(pred_cls, dim=-1)\n",
    "\n",
    "\n",
    "label_cls = label[..., :C]\n",
    "\n",
    "#   Get bbox1 pc, and x,y,w,h\n",
    "pred_box1_pc = pred[\n",
    "    ..., C : C + 1\n",
    "]  # Get bbox1 probability score index(18) pc_1. Shape: (64, 7, 7, 1)\n",
    "pred_box1_xywh = pred[\n",
    "    ..., C + 1 : C + 5\n",
    "]  # Get bbox1 x,y,w,h coordinates indexes(19, 20, 21, 22). Shape: (64, 7, 7, 4)\n",
    "\n",
    "#   Get bbox2 pc, and x,y,w,h\n",
    "pred_box2_pc = pred[\n",
    "    ..., C + 5 : C + 6\n",
    "]  # Get bbox1 probability score @ index(23) pc_2. Shape: (64, 7, 7, 1)\n",
    "pred_box2_xywh = pred[\n",
    "    ..., C + 6 : C + 10\n",
    "]  # Get bbox2 x,y,w,h coordinates @ indexes(24, 25, 26, 27). Shape: (64, 7, 7, 4)\n",
    "\n",
    "# Get label data, only bbox1 is filled for labeled data, pc (index) which the object=1 and so is the class prediction index (0-17).\n",
    "label_pc = label[..., C : C + 1]  # Shape: (64, 7, 7, 1)\n",
    "label_xywh = label[..., C + 1 : C + 5]  # Shape: (64, 7, 7, 4)"
   ]
  },
  {
   "cell_type": "code",
   "execution_count": 24,
   "id": "66da61c6",
   "metadata": {},
   "outputs": [],
   "source": [
    "from utils.intersection_over_union import intersection_over_union"
   ]
  },
  {
   "cell_type": "code",
   "execution_count": 25,
   "id": "90240018",
   "metadata": {},
   "outputs": [],
   "source": [
    "iou_b1 = intersection_over_union(pred_box1_xywh, label_xywh)  # (64, 7, 7, 1)\n",
    "# iou_b2 = intersection_over_union(pred_box2_xywh, label_xywh)  # (64, 7, 7, 1)"
   ]
  },
  {
   "cell_type": "code",
   "execution_count": 26,
   "id": "1c8a7411",
   "metadata": {},
   "outputs": [
    {
     "data": {
      "text/plain": [
       "tensor([[[[0.0000],\n",
       "          [0.0000],\n",
       "          [0.0000],\n",
       "          [0.0000],\n",
       "          [0.0000],\n",
       "          [0.0000],\n",
       "          [0.0000]],\n",
       "\n",
       "         [[0.0000],\n",
       "          [0.0000],\n",
       "          [0.0000],\n",
       "          [0.0000],\n",
       "          [0.0000],\n",
       "          [0.0000],\n",
       "          [0.0000]],\n",
       "\n",
       "         [[0.0000],\n",
       "          [0.0000],\n",
       "          [0.0000],\n",
       "          [0.9990],\n",
       "          [0.0000],\n",
       "          [0.0000],\n",
       "          [0.0000]],\n",
       "\n",
       "         [[0.0000],\n",
       "          [0.0000],\n",
       "          [0.0000],\n",
       "          [1.0000],\n",
       "          [0.0000],\n",
       "          [0.0000],\n",
       "          [0.0000]],\n",
       "\n",
       "         [[0.0000],\n",
       "          [0.0000],\n",
       "          [0.0000],\n",
       "          [0.0000],\n",
       "          [0.0000],\n",
       "          [0.0000],\n",
       "          [0.0000]],\n",
       "\n",
       "         [[0.0000],\n",
       "          [0.0000],\n",
       "          [0.0000],\n",
       "          [0.0000],\n",
       "          [0.0000],\n",
       "          [0.0000],\n",
       "          [0.0000]],\n",
       "\n",
       "         [[0.0000],\n",
       "          [0.0000],\n",
       "          [0.0000],\n",
       "          [0.0000],\n",
       "          [0.0000],\n",
       "          [0.0000],\n",
       "          [0.0000]]]])"
      ]
     },
     "execution_count": 26,
     "metadata": {},
     "output_type": "execute_result"
    }
   ],
   "source": [
    "iou_b1"
   ]
  },
  {
   "cell_type": "code",
   "execution_count": null,
   "id": "2ea3e6ad",
   "metadata": {},
   "outputs": [],
   "source": []
  }
 ],
 "metadata": {
  "kernelspec": {
   "display_name": "torch_env",
   "language": "python",
   "name": "python3"
  },
  "language_info": {
   "codemirror_mode": {
    "name": "ipython",
    "version": 3
   },
   "file_extension": ".py",
   "mimetype": "text/x-python",
   "name": "python",
   "nbconvert_exporter": "python",
   "pygments_lexer": "ipython3",
   "version": "3.11.11"
  }
 },
 "nbformat": 4,
 "nbformat_minor": 5
}
