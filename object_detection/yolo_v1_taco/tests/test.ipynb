{
 "cells": [
  {
   "cell_type": "code",
   "execution_count": 1,
   "id": "21b5801d",
   "metadata": {},
   "outputs": [
    {
     "name": "stdout",
     "output_type": "stream",
     "text": [
      "/Users/tonyavis/Main/AI_public_projects/object_detection/yolo_v1_taco\n"
     ]
    }
   ],
   "source": [
    "import os\n",
    "# Changes the current working directory so to mimic running from projects root, i.e (./yolo_v1_taco).\n",
    "# os.getcwd().rsplit(\"/\", 1)[0]\n",
    "os.chdir(os.getcwd().rsplit(\"/\", 1)[0])\n",
    "print(os.getcwd())"
   ]
  },
  {
   "cell_type": "code",
   "execution_count": null,
   "id": "fb159e11",
   "metadata": {},
   "outputs": [],
   "source": [
    "import torch\n",
    "from utils.intersection_over_union import intersection_over_union\n",
    "\n",
    "def vectorized_nms(t: torch.Tensor, config):\n",
    "    \"\"\"\n",
    "    Perform NMS by filtering out overlapping bboxes per class.\n",
    "    Input shape: (N, 9) with fields [i, j, b, class_idx, pc, x, y, w, h]\n",
    "    Output shape: (M, 9) with filtered bboxes.\n",
    "    \"\"\"\n",
    "    DEVICE, IOU_THRESHOLD= config.DEVICE, config.IOU_THRESHOLD\n",
    "\n",
    "    # store the bboxes that pass IOU\n",
    "    output = []\n",
    "\n",
    "    # --- 1: Loop thru the number of unique class_idx\n",
    "    for cls_idx in t[:, 3].unique():\n",
    "\n",
    "        # --- 2: Use a mask so we can put the bboxes with the same class_idx into a tensor.\n",
    "        class_mask = (t[:, 3] == cls_idx)\n",
    "        bboxes = t[class_mask] # bboxes -> is a tensor that contains bboxes with the same class_idx!\n",
    "        keep = [] # Stores bboxes to keep\n",
    "\n",
    "        # --- 3: Queue -> Loop thru the bboxes of the same class_idx.\n",
    "        while len(bboxes) > 0:\n",
    "            \"\"\"This queue works like so\n",
    "                    1. bboxes = [box1, box2, box3, etc..] all of the same class_idx\n",
    "                    2. chosen_box = box1\n",
    "                    3. box1 is add to keep\n",
    "                    3. box1 is compared with all the other boxes vectorized\n",
    "                    4. if any box# overlap too much/doesn't pass IOU with box1, then those boxes are removed from queue list.\n",
    "                    5. then we loop back up, and chosen_box is the next box in queue that didn't overlap with box1 etc..\n",
    "            \"\"\"\n",
    "\n",
    "            # --- 4: Get the first bbox, which will always be the bbox with the highest pc for every class.\n",
    "            chosen_bbox = bboxes[0]\n",
    "            keep.append(chosen_bbox) # since it has the highest pc safe to keep it\n",
    "\n",
    "            # Handle final case\n",
    "            if len(bboxes) == 1:\n",
    "                break\n",
    "\n",
    "            # Pop the chosen_bbox, so we get a tensor with the rest of the bboxes of the same class_idx.\n",
    "            rest = bboxes[1:]\n",
    "\n",
    "            #  --- 5: Compute IOU\n",
    "            iou = intersection_over_union(chosen_bbox=chosen_bbox, rest_bbox=rest)\n",
    "\n",
    "            # --- 6: Remove overlapping bboxes \n",
    "            bboxes = rest[iou < IOU_THRESHOLD]\n",
    "\n",
    "        # Add valid bboxes to output\n",
    "        output.extend(keep)\n",
    "    if len(output) == 0:\n",
    "        print(\"OUTPUT LENGTH EMPTY\")\n",
    "        torch.empty((0, 9), device=DEVICE)\n",
    "    return torch.stack(output, dim=0)"
   ]
  },
  {
   "cell_type": "code",
   "execution_count": 3,
   "id": "eb8491d1",
   "metadata": {},
   "outputs": [
    {
     "name": "stdout",
     "output_type": "stream",
     "text": [
      "Filtered BBoxes:\n",
      "tensor([[0.0000, 0.0000, 0.0000, 1.0000, 0.9500, 0.5000, 0.5000, 0.4000, 0.4000],\n",
      "        [0.0000, 0.0000, 0.0000, 1.0000, 0.3000, 0.9000, 0.9000, 0.3000, 0.3000],\n",
      "        [0.0000, 1.0000, 1.0000, 2.0000, 0.8800, 0.5000, 0.5000, 0.2000, 0.2000]])\n"
     ]
    }
   ],
   "source": [
    "from types import SimpleNamespace\n",
    "\n",
    "# Simulated config\n",
    "config = SimpleNamespace(DEVICE=\"cpu\", IOU_THRESHOLD=0.5)\n",
    "\n",
    "# Create test tensor [i, j, b, class_idx, pc, x, y, w, h]\n",
    "test_tensor = torch.tensor(\n",
    "    [\n",
    "        [0, 0, 0, 1, 0.95, 0.5, 0.5, 0.4, 0.4],  # keep\n",
    "        [0, 0, 1, 1, 0.85, 0.52, 0.52, 0.4, 0.4],  # suppress (overlaps)\n",
    "        [0, 0, 0, 1, 0.30, 0.9, 0.9, 0.3, 0.3],  # keep (low overlap)\n",
    "        [0, 1, 1, 2, 0.88, 0.5, 0.5, 0.2, 0.2],  # keep (diff class)\n",
    "        [0, 1, 0, 2, 0.70, 0.51, 0.51, 0.2, 0.2],  # suppress (same class + overlaps)\n",
    "    ]\n",
    ")\n",
    "\n",
    "# Run\n",
    "filtered = vectorized_nms(test_tensor, config)\n",
    "\n",
    "# Print results\n",
    "print(\"Filtered BBoxes:\")\n",
    "print(filtered)"
   ]
  },
  {
   "cell_type": "code",
   "execution_count": null,
   "id": "342e8cd4",
   "metadata": {},
   "outputs": [],
   "source": []
  },
  {
   "cell_type": "code",
   "execution_count": null,
   "id": "866b4440",
   "metadata": {},
   "outputs": [],
   "source": []
  }
 ],
 "metadata": {
  "kernelspec": {
   "display_name": "torch_env",
   "language": "python",
   "name": "python3"
  },
  "language_info": {
   "codemirror_mode": {
    "name": "ipython",
    "version": 3
   },
   "file_extension": ".py",
   "mimetype": "text/x-python",
   "name": "python",
   "nbconvert_exporter": "python",
   "pygments_lexer": "ipython3",
   "version": "3.11.11"
  }
 },
 "nbformat": 4,
 "nbformat_minor": 5
}
