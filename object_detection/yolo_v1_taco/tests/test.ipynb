{
 "cells": [
  {
   "cell_type": "code",
   "execution_count": 1,
   "id": "21b5801d",
   "metadata": {},
   "outputs": [
    {
     "name": "stdout",
     "output_type": "stream",
     "text": [
      "/Users/tonyavis/Main/AI_public_projects/object_detection/yolo_v1_taco\n"
     ]
    }
   ],
   "source": [
    "import os\n",
    "# Changes the current working directory so to mimic running from projects root, i.e (./yolo_v1_taco).\n",
    "# os.getcwd().rsplit(\"/\", 1)[0]\n",
    "os.chdir(os.getcwd().rsplit(\"/\", 1)[0])\n",
    "print(os.getcwd())"
   ]
  },
  {
   "cell_type": "code",
   "execution_count": 2,
   "id": "fb78b608",
   "metadata": {},
   "outputs": [],
   "source": [
    "from utils.load_config import load_config"
   ]
  },
  {
   "cell_type": "code",
   "execution_count": null,
   "id": "d058d157",
   "metadata": {},
   "outputs": [
    {
     "name": "stderr",
     "output_type": "stream",
     "text": [
      "2025-07-08 18:30:55,799 | INFO | Starting training loop...\n",
      "2025-07-08 18:30:55,799 | WARNING | GPU memory almost full!\n",
      "2025-07-08 18:30:55,800 | ERROR | Model checkpoint failed to save\n"
     ]
    }
   ],
   "source": [
    "import logging\n",
    "# TODO implement a basic log to the project, but dont have to go to deep, just learn for future projects.\n",
    "# === 1. Configure the logger ===\n",
    "logging.basicConfig(\n",
    "    level=logging.INFO,  # Set default level (DEBUG, INFO, WARNING, ERROR)\n",
    "    format=\"%(asctime)s | %(levelname)s | %(message)s\",\n",
    "    handlers=[\n",
    "        logging.FileHandler(\"test.log\"),    # Logs to a file\n",
    "        logging.StreamHandler()              # Logs to the console\n",
    "    ]\n",
    ")\n",
    "\n",
    "# === 2. Usage ===\n",
    "logging.info(\"Starting training loop...\")\n",
    "logging.warning(\"GPU memory almost full!\")\n",
    "logging.error(\"Model checkpoint failed to save\")\n",
    "logging.debug(\"This is useful for debugging internals, won't show unless level=DEBUG\")"
   ]
  },
  {
   "cell_type": "code",
   "execution_count": null,
   "id": "cae763cc",
   "metadata": {},
   "outputs": [],
   "source": []
  }
 ],
 "metadata": {
  "kernelspec": {
   "display_name": "torch_env",
   "language": "python",
   "name": "python3"
  },
  "language_info": {
   "codemirror_mode": {
    "name": "ipython",
    "version": 3
   },
   "file_extension": ".py",
   "mimetype": "text/x-python",
   "name": "python",
   "nbconvert_exporter": "python",
   "pygments_lexer": "ipython3",
   "version": "3.11.11"
  }
 },
 "nbformat": 4,
 "nbformat_minor": 5
}
