{
 "cells": [
  {
   "cell_type": "code",
   "execution_count": 1,
   "id": "01a7eb49",
   "metadata": {},
   "outputs": [],
   "source": [
    "from argparse import Namespace\n",
    "import torch.optim\n",
    "\n",
    "torch.manual_seed(1)\n",
    "\n",
    "\n",
    "# <------------- Hyperparameters/Config ------------->\n",
    "config = Namespace(\n",
    "    DEVICE = torch.device(\"mps\"), # apple silicon M series\n",
    "    NUM_WORKERS = 2,\n",
    "    PIN_MEMORY = True,\n",
    "    \n",
    "    EPOCHS = 50,\n",
    "    LEARNING_RATE = 2e-5,\n",
    "    BATCH_SIZE = 64,\n",
    "    WEIGHT_DECAY = 0, #TODO plasplay with weight decay\n",
    "\n",
    "    # load a model with weights that u have been trained to train it more\n",
    "    CON_TRAIN = False, # continue to train a model\n",
    "    LOAD_MODEL_FILE = \"./checkpoints/Yolov1_facemask_objectDetection_epoch50_2025-04-09-18h_31m.pt\",\n",
    "    \n",
    "    DATASET_DIR = \"./data\", # root path to the dataset dir\n",
    "    IMAGE_SIZE = 448,\n",
    "\n",
    "    C = 18, # how many classes in the dataset\n",
    "    B = 2, # how many bounding boxes does the model perdict per cell\n",
    "    S = 7, # split_size, how to split the image, 7x7=49 grid cells,\n",
    "    IOU_THRESHOLD = 0.5, # the iou threshold when comparing bounding boxes for NMS\n",
    "    MIN_THRESHOLD = 0.4, # the minimal confidence to keep a predicted bounding box\n",
    ")\n",
    "\n",
    "config.NUM_NODES_PER_CELL = config.C + 5 * config.B # The total number of nodes per cell, which would be the size ==> [*classes, pc_1, bbox1_x_y_w_h, pc_2, bbox2_x_y_w_h] = 28 nodes.\n",
    "config.NUM_NODES_PER_IMG = config.S * config.S * (config.C + config.B * 5) # The total number of nodes that each image has. If S=7 C=18 B=2 ==> 7*7 * (18 + 2 * 5) = 1,372 | 28*49 = 1,372 | the *5 is for pc_score, x, y, w, h\n",
    "\n"
   ]
  },
  {
   "cell_type": "code",
   "execution_count": 2,
   "id": "d53b7d55",
   "metadata": {},
   "outputs": [],
   "source": [
    "S=7; C=18; B=2"
   ]
  },
  {
   "cell_type": "code",
   "execution_count": 3,
   "id": "780910c4",
   "metadata": {},
   "outputs": [
    {
     "data": {
      "text/plain": [
       "(tensor([[[[ 0,  1,  2,  ..., 25, 26, 27],\n",
       "           [ 0,  1,  2,  ..., 25, 26, 27],\n",
       "           [ 0,  1,  2,  ..., 25, 26, 27],\n",
       "           ...,\n",
       "           [ 0,  1,  2,  ..., 25, 26, 27],\n",
       "           [ 0,  1,  2,  ..., 25, 26, 27],\n",
       "           [ 0,  1,  2,  ..., 25, 26, 27]],\n",
       " \n",
       "          [[ 0,  1,  2,  ..., 25, 26, 27],\n",
       "           [ 0,  1,  2,  ..., 25, 26, 27],\n",
       "           [ 0,  1,  2,  ..., 25, 26, 27],\n",
       "           ...,\n",
       "           [ 0,  1,  2,  ..., 25, 26, 27],\n",
       "           [ 0,  1,  2,  ..., 25, 26, 27],\n",
       "           [ 0,  1,  2,  ..., 25, 26, 27]],\n",
       " \n",
       "          [[ 0,  1,  2,  ..., 25, 26, 27],\n",
       "           [ 0,  1,  2,  ..., 25, 26, 27],\n",
       "           [ 0,  1,  2,  ..., 25, 26, 27],\n",
       "           ...,\n",
       "           [ 0,  1,  2,  ..., 25, 26, 27],\n",
       "           [ 0,  1,  2,  ..., 25, 26, 27],\n",
       "           [ 0,  1,  2,  ..., 25, 26, 27]],\n",
       " \n",
       "          ...,\n",
       " \n",
       "          [[ 0,  1,  2,  ..., 25, 26, 27],\n",
       "           [ 0,  1,  2,  ..., 25, 26, 27],\n",
       "           [ 0,  1,  2,  ..., 25, 26, 27],\n",
       "           ...,\n",
       "           [ 0,  1,  2,  ..., 25, 26, 27],\n",
       "           [ 0,  1,  2,  ..., 25, 26, 27],\n",
       "           [ 0,  1,  2,  ..., 25, 26, 27]],\n",
       " \n",
       "          [[ 0,  1,  2,  ..., 25, 26, 27],\n",
       "           [ 0,  1,  2,  ..., 25, 26, 27],\n",
       "           [ 0,  1,  2,  ..., 25, 26, 27],\n",
       "           ...,\n",
       "           [ 0,  1,  2,  ..., 25, 26, 27],\n",
       "           [ 0,  1,  2,  ..., 25, 26, 27],\n",
       "           [ 0,  1,  2,  ..., 25, 26, 27]],\n",
       " \n",
       "          [[ 0,  1,  2,  ..., 25, 26, 27],\n",
       "           [ 0,  1,  2,  ..., 25, 26, 27],\n",
       "           [ 0,  1,  2,  ..., 25, 26, 27],\n",
       "           ...,\n",
       "           [ 0,  1,  2,  ..., 25, 26, 27],\n",
       "           [ 0,  1,  2,  ..., 25, 26, 27],\n",
       "           [ 0,  1,  2,  ..., 25, 26, 27]]]]),\n",
       " torch.Size([1, 7, 7, 28]))"
      ]
     },
     "execution_count": 3,
     "metadata": {},
     "output_type": "execute_result"
    }
   ],
   "source": [
    "import torch\n",
    "\n",
    "# model output is torch.Size([1, 1372])), example below is reshaping it after output\n",
    "\n",
    "tensor = torch.arange(28).repeat(49).reshape(1, 7, 7, 28)\n",
    "tensor, tensor.shape"
   ]
  },
  {
   "cell_type": "code",
   "execution_count": 6,
   "id": "ea5a1b47",
   "metadata": {},
   "outputs": [
    {
     "data": {
      "text/plain": [
       "tensor([[ 0,  1,  2,  3,  4,  5,  6,  7,  8,  9, 10, 11, 12, 13, 14, 15, 16, 17,\n",
       "         18, 19, 20, 21, 22, 23, 24, 25, 26, 27],\n",
       "        [ 0,  1,  2,  3,  4,  5,  6,  7,  8,  9, 10, 11, 12, 13, 14, 15, 16, 17,\n",
       "         18, 19, 20, 21, 22, 23, 24, 25, 26, 27],\n",
       "        [ 0,  1,  2,  3,  4,  5,  6,  7,  8,  9, 10, 11, 12, 13, 14, 15, 16, 17,\n",
       "         18, 19, 20, 21, 22, 23, 24, 25, 26, 27],\n",
       "        [ 0,  1,  2,  3,  4,  5,  6,  7,  8,  9, 10, 11, 12, 13, 14, 15, 16, 17,\n",
       "         18, 19, 20, 21, 22, 23, 24, 25, 26, 27],\n",
       "        [ 0,  1,  2,  3,  4,  5,  6,  7,  8,  9, 10, 11, 12, 13, 14, 15, 16, 17,\n",
       "         18, 19, 20, 21, 22, 23, 24, 25, 26, 27],\n",
       "        [ 0,  1,  2,  3,  4,  5,  6,  7,  8,  9, 10, 11, 12, 13, 14, 15, 16, 17,\n",
       "         18, 19, 20, 21, 22, 23, 24, 25, 26, 27],\n",
       "        [ 0,  1,  2,  3,  4,  5,  6,  7,  8,  9, 10, 11, 12, 13, 14, 15, 16, 17,\n",
       "         18, 19, 20, 21, 22, 23, 24, 25, 26, 27]])"
      ]
     },
     "execution_count": 6,
     "metadata": {},
     "output_type": "execute_result"
    }
   ],
   "source": [
    "t = tensor\n",
    "t[0][0]"
   ]
  },
  {
   "cell_type": "code",
   "execution_count": 13,
   "id": "a0bb7f3f",
   "metadata": {},
   "outputs": [],
   "source": [
    "first_bbox_coord_slice = slice(config.NUM_NODES_PER_CELL-9, config.NUM_NODES_PER_CELL-5)\n",
    "second_bbox_coord_slice = slice(config.NUM_NODES_PER_CELL-4, config.NUM_NODES_PER_CELL)"
   ]
  },
  {
   "cell_type": "code",
   "execution_count": 15,
   "id": "d44c1380",
   "metadata": {},
   "outputs": [
    {
     "data": {
      "text/plain": [
       "tensor([[[[19, 20, 21, 22],\n",
       "          [19, 20, 21, 22],\n",
       "          [19, 20, 21, 22],\n",
       "          [19, 20, 21, 22],\n",
       "          [19, 20, 21, 22],\n",
       "          [19, 20, 21, 22],\n",
       "          [19, 20, 21, 22]],\n",
       "\n",
       "         [[19, 20, 21, 22],\n",
       "          [19, 20, 21, 22],\n",
       "          [19, 20, 21, 22],\n",
       "          [19, 20, 21, 22],\n",
       "          [19, 20, 21, 22],\n",
       "          [19, 20, 21, 22],\n",
       "          [19, 20, 21, 22]],\n",
       "\n",
       "         [[19, 20, 21, 22],\n",
       "          [19, 20, 21, 22],\n",
       "          [19, 20, 21, 22],\n",
       "          [19, 20, 21, 22],\n",
       "          [19, 20, 21, 22],\n",
       "          [19, 20, 21, 22],\n",
       "          [19, 20, 21, 22]],\n",
       "\n",
       "         [[19, 20, 21, 22],\n",
       "          [19, 20, 21, 22],\n",
       "          [19, 20, 21, 22],\n",
       "          [19, 20, 21, 22],\n",
       "          [19, 20, 21, 22],\n",
       "          [19, 20, 21, 22],\n",
       "          [19, 20, 21, 22]],\n",
       "\n",
       "         [[19, 20, 21, 22],\n",
       "          [19, 20, 21, 22],\n",
       "          [19, 20, 21, 22],\n",
       "          [19, 20, 21, 22],\n",
       "          [19, 20, 21, 22],\n",
       "          [19, 20, 21, 22],\n",
       "          [19, 20, 21, 22]],\n",
       "\n",
       "         [[19, 20, 21, 22],\n",
       "          [19, 20, 21, 22],\n",
       "          [19, 20, 21, 22],\n",
       "          [19, 20, 21, 22],\n",
       "          [19, 20, 21, 22],\n",
       "          [19, 20, 21, 22],\n",
       "          [19, 20, 21, 22]],\n",
       "\n",
       "         [[19, 20, 21, 22],\n",
       "          [19, 20, 21, 22],\n",
       "          [19, 20, 21, 22],\n",
       "          [19, 20, 21, 22],\n",
       "          [19, 20, 21, 22],\n",
       "          [19, 20, 21, 22],\n",
       "          [19, 20, 21, 22]]]])"
      ]
     },
     "execution_count": 15,
     "metadata": {},
     "output_type": "execute_result"
    }
   ],
   "source": [
    "t[..., first_bbox_coord_slice]\n",
    "# t[..., second_bbox_coord_slice]"
   ]
  },
  {
   "cell_type": "code",
   "execution_count": 36,
   "id": "e8a93495",
   "metadata": {},
   "outputs": [],
   "source": [
    "i = slice(config.C+5, config.C+5+1)"
   ]
  },
  {
   "cell_type": "code",
   "execution_count": 45,
   "id": "7c2f6ab5",
   "metadata": {},
   "outputs": [
    {
     "data": {
      "text/plain": [
       "torch.Size([1, 7, 7, 1])"
      ]
     },
     "execution_count": 45,
     "metadata": {},
     "output_type": "execute_result"
    }
   ],
   "source": [
    "t[..., 18].unsqueeze(3).shape # identity of obj i in paper, which tells us is there an object in cell i"
   ]
  },
  {
   "cell_type": "code",
   "execution_count": 46,
   "id": "e0067ef5",
   "metadata": {},
   "outputs": [
    {
     "data": {
      "text/plain": [
       "tensor([[[[18],\n",
       "          [18],\n",
       "          [18],\n",
       "          [18],\n",
       "          [18],\n",
       "          [18],\n",
       "          [18]],\n",
       "\n",
       "         [[18],\n",
       "          [18],\n",
       "          [18],\n",
       "          [18],\n",
       "          [18],\n",
       "          [18],\n",
       "          [18]],\n",
       "\n",
       "         [[18],\n",
       "          [18],\n",
       "          [18],\n",
       "          [18],\n",
       "          [18],\n",
       "          [18],\n",
       "          [18]],\n",
       "\n",
       "         [[18],\n",
       "          [18],\n",
       "          [18],\n",
       "          [18],\n",
       "          [18],\n",
       "          [18],\n",
       "          [18]],\n",
       "\n",
       "         [[18],\n",
       "          [18],\n",
       "          [18],\n",
       "          [18],\n",
       "          [18],\n",
       "          [18],\n",
       "          [18]],\n",
       "\n",
       "         [[18],\n",
       "          [18],\n",
       "          [18],\n",
       "          [18],\n",
       "          [18],\n",
       "          [18],\n",
       "          [18]],\n",
       "\n",
       "         [[18],\n",
       "          [18],\n",
       "          [18],\n",
       "          [18],\n",
       "          [18],\n",
       "          [18],\n",
       "          [18]]]])"
      ]
     },
     "execution_count": 46,
     "metadata": {},
     "output_type": "execute_result"
    }
   ],
   "source": [
    "t[..., slice(config.C, config.C + 1) ]"
   ]
  },
  {
   "cell_type": "code",
   "execution_count": 48,
   "id": "e2eca453",
   "metadata": {},
   "outputs": [
    {
     "data": {
      "text/plain": [
       "slice(18, 19, None)"
      ]
     },
     "execution_count": 48,
     "metadata": {},
     "output_type": "execute_result"
    }
   ],
   "source": [
    "pc_1_slice = slice(config.C, config.C + 1)  # grab index 18\n",
    "pc_1_slice"
   ]
  },
  {
   "cell_type": "code",
   "execution_count": 47,
   "id": "b9fe496f",
   "metadata": {},
   "outputs": [
    {
     "data": {
      "text/plain": [
       "tensor([[[[0, 1, 2],\n",
       "          [0, 1, 2],\n",
       "          [0, 1, 2],\n",
       "          [0, 1, 2],\n",
       "          [0, 1, 2],\n",
       "          [0, 1, 2],\n",
       "          [0, 1, 2]],\n",
       "\n",
       "         [[0, 1, 2],\n",
       "          [0, 1, 2],\n",
       "          [0, 1, 2],\n",
       "          [0, 1, 2],\n",
       "          [0, 1, 2],\n",
       "          [0, 1, 2],\n",
       "          [0, 1, 2]],\n",
       "\n",
       "         [[0, 1, 2],\n",
       "          [0, 1, 2],\n",
       "          [0, 1, 2],\n",
       "          [0, 1, 2],\n",
       "          [0, 1, 2],\n",
       "          [0, 1, 2],\n",
       "          [0, 1, 2]],\n",
       "\n",
       "         [[0, 1, 2],\n",
       "          [0, 1, 2],\n",
       "          [0, 1, 2],\n",
       "          [0, 1, 2],\n",
       "          [0, 1, 2],\n",
       "          [0, 1, 2],\n",
       "          [0, 1, 2]],\n",
       "\n",
       "         [[0, 1, 2],\n",
       "          [0, 1, 2],\n",
       "          [0, 1, 2],\n",
       "          [0, 1, 2],\n",
       "          [0, 1, 2],\n",
       "          [0, 1, 2],\n",
       "          [0, 1, 2]],\n",
       "\n",
       "         [[0, 1, 2],\n",
       "          [0, 1, 2],\n",
       "          [0, 1, 2],\n",
       "          [0, 1, 2],\n",
       "          [0, 1, 2],\n",
       "          [0, 1, 2],\n",
       "          [0, 1, 2]],\n",
       "\n",
       "         [[0, 1, 2],\n",
       "          [0, 1, 2],\n",
       "          [0, 1, 2],\n",
       "          [0, 1, 2],\n",
       "          [0, 1, 2],\n",
       "          [0, 1, 2],\n",
       "          [0, 1, 2]]]])"
      ]
     },
     "execution_count": 47,
     "metadata": {},
     "output_type": "execute_result"
    }
   ],
   "source": [
    "t[..., :3]"
   ]
  },
  {
   "cell_type": "code",
   "execution_count": 51,
   "id": "b7e98d7d",
   "metadata": {},
   "outputs": [
    {
     "name": "stdout",
     "output_type": "stream",
     "text": [
      "2025-04-27\n"
     ]
    }
   ],
   "source": [
    "from datetime import datetime\n",
    "\n",
    "date_str = datetime.now().strftime(\"%Y-%m-%d\")\n",
    "print(date_str)"
   ]
  },
  {
   "cell_type": "code",
   "execution_count": 54,
   "id": "6fdcf2cb",
   "metadata": {},
   "outputs": [],
   "source": [
    "def save_checkpoint(state):\n",
    "    \"\"\"\n",
    "    Save a model’s parameter dictionary using a deserialized state_dict\n",
    "\n",
    "    Parameters\n",
    "    ----------\n",
    "        state : pytorch state_dict\n",
    "            The state_dict of a model\n",
    "    \"\"\"\n",
    "    print(f\"\\n=> Saving checkpoint\\n\")\n",
    "\n",
    "    date_str = datetime.now().strftime(\"%Y-%m-%d\")\n",
    "    # {model_architecture}_{dataset_name}_{input_size}_{extra_info}.pth\n",
    "    file_name = f\"Yolo_v1_taco_448_448_{date_str}.pt\"\n",
    "    # torch.save(state, file_name)\n",
    "    print(file_name)"
   ]
  },
  {
   "cell_type": "code",
   "execution_count": 55,
   "id": "515a58ad",
   "metadata": {},
   "outputs": [
    {
     "name": "stdout",
     "output_type": "stream",
     "text": [
      "\n",
      "=> Saving checkpoint\n",
      "\n",
      "Yolo_v1_taco_448_448_2025-04-27.pt\n"
     ]
    }
   ],
   "source": [
    "save_checkpoint(None)"
   ]
  },
  {
   "cell_type": "code",
   "execution_count": 56,
   "id": "709a60e0",
   "metadata": {},
   "outputs": [
    {
     "name": "stdout",
     "output_type": "stream",
     "text": [
      "[1, 2, 3, 10]\n"
     ]
    }
   ],
   "source": [
    "def change_list(lst):\n",
    "    lst.append(10)\n",
    "\n",
    "mylist = [1, 2, 3]\n",
    "change_list(mylist)\n",
    "print(mylist)  # [1, 2, 3, 10]"
   ]
  },
  {
   "cell_type": "code",
   "execution_count": 60,
   "id": "f413f180",
   "metadata": {},
   "outputs": [
    {
     "name": "stdout",
     "output_type": "stream",
     "text": [
      "\n",
      "################################\n",
      "Saving checkpoint: \n",
      "\n",
      "################################ \n",
      "\n"
     ]
    }
   ],
   "source": [
    "print(\"\\n\" + \"#\" * 32)\n",
    "print(f\"Saving checkpoint: \")\n",
    "\n",
    "print(\"\\n\" + \"#\" * 32, \"\\n\")\n"
   ]
  },
  {
   "cell_type": "code",
   "execution_count": null,
   "id": "56f9b389",
   "metadata": {},
   "outputs": [
    {
     "data": {
      "text/plain": [
       "150"
      ]
     },
     "execution_count": 66,
     "metadata": {},
     "output_type": "execute_result"
    }
   ],
   "source": [
    "filename = \"Yolo_v1_taco_448_448_epoch_150_2025-04-27.pt\"\n",
    "\n",
    "# Split by underscore\n",
    "parts = filename.split('_')\n",
    "prev_epoch_num = 0\n",
    "# Find 'epoch' and the next part\n",
    "for i, part in enumerate(parts):\n",
    "    if part == 'epoch':\n",
    "        prev_epoch_num = int(parts[i+1])\n",
    "\n",
    "# print(result)  # Outputs: epoch_150\n",
    "prev_epoch_num"
   ]
  },
  {
   "cell_type": "code",
   "execution_count": null,
   "id": "cc78544a",
   "metadata": {},
   "outputs": [],
   "source": []
  }
 ],
 "metadata": {
  "kernelspec": {
   "display_name": "torch_env",
   "language": "python",
   "name": "python3"
  },
  "language_info": {
   "codemirror_mode": {
    "name": "ipython",
    "version": 3
   },
   "file_extension": ".py",
   "mimetype": "text/x-python",
   "name": "python",
   "nbconvert_exporter": "python",
   "pygments_lexer": "ipython3",
   "version": "3.11.11"
  }
 },
 "nbformat": 4,
 "nbformat_minor": 5
}
