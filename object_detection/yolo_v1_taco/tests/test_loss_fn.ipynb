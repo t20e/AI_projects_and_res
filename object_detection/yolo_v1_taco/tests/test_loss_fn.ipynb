{
 "cells": [
  {
   "cell_type": "markdown",
   "id": "352b1cf6",
   "metadata": {},
   "source": []
  },
  {
   "cell_type": "code",
   "execution_count": null,
   "id": "819446fc",
   "metadata": {},
   "outputs": [
    {
     "name": "stdout",
     "output_type": "stream",
     "text": [
      "/Users/tonyavis/Main/AI_public_projects/object_detection/yolo_v1_taco\n"
     ]
    }
   ],
   "source": [
    "# 💡 Note: Runs this jupyter notebook from the projects root, mimicking a root run.\n",
    "import os\n",
    "os.chdir(os.getcwd().rsplit(\"/\", 1)[0])\n",
    "print(os.getcwd())\n",
    "\n",
    "import torch\n",
    "# Show all values when printing torch tensors.\n",
    "torch.set_printoptions(threshold=torch.inf) # shows all the values when printing tensors\n",
    "\n",
    "# Reloads external functions when its code changes into this notebook.\n",
    "%load_ext autoreload\n",
    "%autoreload 1\n",
    "# %aimport will only reload those files\n",
    "# %aimport utils.bboxes"
   ]
  },
  {
   "cell_type": "code",
   "execution_count": 3,
   "id": "12835061",
   "metadata": {},
   "outputs": [],
   "source": [
    "from yolov1.loss import YoloLoss\n",
    "%aimport yolov1.loss\n",
    "from utils.load_config import load_config\n",
    "from yolov1.dataset import Dataset\n",
    "from utils.setup_transforms import setup_transforms"
   ]
  },
  {
   "cell_type": "code",
   "execution_count": 4,
   "id": "ab91a69b",
   "metadata": {},
   "outputs": [],
   "source": [
    "cfg = load_config()\n",
    "transforms = setup_transforms(cfg.IMAGE_SIZE)"
   ]
  },
  {
   "cell_type": "code",
   "execution_count": 5,
   "id": "508d8f4e",
   "metadata": {},
   "outputs": [
    {
     "name": "stdout",
     "output_type": "stream",
     "text": [
      "Checking csv dataframe file: csv dataframe file already exists.\n"
     ]
    }
   ],
   "source": [
    "d = Dataset(cfg.S, cfg.B, cfg.C, whichDataset=cfg.WHICH_DATASET, transforms=transforms)"
   ]
  },
  {
   "cell_type": "code",
   "execution_count": 6,
   "id": "b09d2db9",
   "metadata": {},
   "outputs": [
    {
     "data": {
      "text/plain": [
       "(torch.Size([3, 448, 448]), torch.Size([7, 7, 28]))"
      ]
     },
     "execution_count": 6,
     "metadata": {},
     "output_type": "execute_result"
    }
   ],
   "source": [
    "img, img_label = d.__getitem__(0)\n",
    "img.shape, img_label.shape "
   ]
  },
  {
   "cell_type": "code",
   "execution_count": 7,
   "id": "5a1f997a",
   "metadata": {},
   "outputs": [],
   "source": [
    "loss_fn = YoloLoss(cfg)"
   ]
  },
  {
   "cell_type": "markdown",
   "id": "13ff13de",
   "metadata": {},
   "source": [
    "**Test the loss with the same inputs**"
   ]
  },
  {
   "cell_type": "code",
   "execution_count": 8,
   "id": "07403ae4",
   "metadata": {},
   "outputs": [
    {
     "name": "stdout",
     "output_type": "stream",
     "text": [
      "\n",
      "\n",
      "coord_loss: 0.0, \n",
      "conf_obj_loss: 9.653592769609531e-07, \n",
      "noobj_loss: 0.0, \n",
      "class_loss: 0.0\n",
      "\n",
      "\n"
     ]
    },
    {
     "data": {
      "text/plain": [
       "tensor(1.3791e-07)"
      ]
     },
     "execution_count": 8,
     "metadata": {},
     "output_type": "execute_result"
    }
   ],
   "source": [
    "loss_fn(img_label, img_label)"
   ]
  },
  {
   "cell_type": "code",
   "execution_count": null,
   "id": "5bba3d8f",
   "metadata": {},
   "outputs": [],
   "source": []
  }
 ],
 "metadata": {
  "kernelspec": {
   "display_name": "yolov1_env",
   "language": "python",
   "name": "python3"
  },
  "language_info": {
   "codemirror_mode": {
    "name": "ipython",
    "version": 3
   },
   "file_extension": ".py",
   "mimetype": "text/x-python",
   "name": "python",
   "nbconvert_exporter": "python",
   "pygments_lexer": "ipython3",
   "version": "3.11.13"
  }
 },
 "nbformat": 4,
 "nbformat_minor": 5
}
