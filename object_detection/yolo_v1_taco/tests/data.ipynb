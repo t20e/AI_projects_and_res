{
 "cells": [
  {
   "cell_type": "code",
   "execution_count": 1,
   "id": "2d7abf96",
   "metadata": {},
   "outputs": [
    {
     "data": {
      "text/plain": [
       "[0.015285,\n",
       " 0.3264,\n",
       " 0.13382,\n",
       " -0.17643,\n",
       " 0.22055,\n",
       " -0.09698,\n",
       " -0.04722,\n",
       " -0.18447,\n",
       " -0.11256,\n",
       " 0.018105,\n",
       " 0.31062,\n",
       " -0.027639,\n",
       " 0.34559,\n",
       " -0.16719,\n",
       " -0.11499,\n",
       " -0.24422,\n",
       " 0.39636,\n",
       " 0.35832,\n",
       " 0.13641,\n",
       " 0.89586,\n",
       " 1.1538,\n",
       " 0.42296,\n",
       " 0.10679,\n",
       " 0.16045,\n",
       " 1.1588,\n",
       " 1.1692,\n",
       " 0.13883,\n",
       " 0.14654]"
      ]
     },
     "execution_count": 1,
     "metadata": {},
     "output_type": "execute_result"
    }
   ],
   "source": [
    "[\n",
    "    1.5285e-02,  # 0\n",
    "    3.2640e-01,  # 1\n",
    "    1.3382e-01,  # 2\n",
    "    -1.7643e-01, # 3\n",
    "    2.2055e-01,  # 4\n",
    "    -9.6980e-02, # 5\n",
    "    -4.7220e-02, # 6\n",
    "    -1.8447e-01, # 7\n",
    "    -1.1256e-01, # 8\n",
    "    1.8105e-02,  # 9\n",
    "    3.1062e-01,  # 10\n",
    "    -2.7639e-02, # 11\n",
    "    3.4559e-01,  # 12\n",
    "    -1.6719e-01, # 13\n",
    "    -1.1499e-01, # 14\n",
    "    -2.4422e-01, # 15\n",
    "    3.9636e-01,  # 16\n",
    "    3.5832e-01,  # 17\n",
    "\n",
    "    1.3641e-01,  # 18 PC_1\n",
    "\n",
    "    8.9586e-01,  # 19 X\n",
    "    1.1538e00,  # 20 Y\n",
    "    4.2296e-01,  # 21 W\n",
    "    1.0679e-01,  # 22 H\n",
    "\n",
    "    1.6045e-01,  # 23 PC_2\n",
    "\n",
    "    1.1588e00,  # 24 X\n",
    "    1.1692e00,  # 25 Y\n",
    "    1.3883e-01,  # 26 W\n",
    "    1.4654e-01,  # 27 H\n",
    "]"
   ]
  },
  {
   "cell_type": "code",
   "execution_count": null,
   "id": "4c7cadbd",
   "metadata": {},
   "outputs": [],
   "source": []
  }
 ],
 "metadata": {
  "kernelspec": {
   "display_name": "torch_env",
   "language": "python",
   "name": "python3"
  },
  "language_info": {
   "codemirror_mode": {
    "name": "ipython",
    "version": 3
   },
   "file_extension": ".py",
   "mimetype": "text/x-python",
   "name": "python",
   "nbconvert_exporter": "python",
   "pygments_lexer": "ipython3",
   "version": "3.11.11"
  }
 },
 "nbformat": 4,
 "nbformat_minor": 5
}
