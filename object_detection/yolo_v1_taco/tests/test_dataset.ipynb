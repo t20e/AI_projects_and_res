{
 "cells": [
  {
   "cell_type": "code",
   "execution_count": null,
   "id": "b30bea98",
   "metadata": {},
   "outputs": [
    {
     "name": "stdout",
     "output_type": "stream",
     "text": [
      "/Users/tonyavis/Main/AI_public_projects/object_detection/yolo_v1_taco\n"
     ]
    }
   ],
   "source": [
    "# 💡 Note: Runs this jupyter notebook from the projects root, mimicking a root run.\n",
    "import os\n",
    "# ⭐️ NOTE: Set num_move to how many directories it takes from this file to reach project root.\n",
    "num_move = 2\n",
    "os.chdir(os.getcwd().rsplit(\"/\", num_move)[0])\n",
    "print(os.getcwd())\n",
    "\n",
    "import torch\n",
    "# # Show all values when printing torch tensors.\n",
    "torch.set_printoptions(threshold=torch.inf) # shows all the values when printing tensors\n"
   ]
  },
  {
   "cell_type": "code",
   "execution_count": 2,
   "id": "7326b5c4",
   "metadata": {},
   "outputs": [],
   "source": [
    "# Reloads external functions when its code changes into this notebook.\n",
    "%load_ext autoreload\n",
    "%autoreload 1\n",
    "# %aimport will only reload those files\n",
    "# %aimport utils.bboxes"
   ]
  },
  {
   "cell_type": "code",
   "execution_count": 3,
   "id": "07584751",
   "metadata": {},
   "outputs": [],
   "source": [
    "%aimport yolov1.dataset\n",
    "from yolov1.dataset import Dataset\n",
    "from utils.load_config import load_config\n",
    "from utils.setup_transforms import setup_transforms"
   ]
  },
  {
   "cell_type": "code",
   "execution_count": 4,
   "id": "97828484",
   "metadata": {},
   "outputs": [],
   "source": [
    "config = load_config()\n",
    "transforms = setup_transforms(config.IMAGE_SIZE)"
   ]
  },
  {
   "cell_type": "code",
   "execution_count": 5,
   "id": "da02810f",
   "metadata": {},
   "outputs": [
    {
     "name": "stdout",
     "output_type": "stream",
     "text": [
      "Checking csv dataframe file: csv dataframe file already exists.\n"
     ]
    }
   ],
   "source": [
    "d = Dataset(\n",
    "    S=config.S,\n",
    "    B=config.B,\n",
    "    C=config.C,\n",
    "    whichDataset=config.WHICH_DATASET,\n",
    "    transforms=transforms,\n",
    ")"
   ]
  },
  {
   "cell_type": "code",
   "execution_count": 6,
   "id": "88115de5",
   "metadata": {},
   "outputs": [],
   "source": [
    "img, label = d.__getitem__(0)"
   ]
  },
  {
   "cell_type": "code",
   "execution_count": 7,
   "id": "75701bee",
   "metadata": {},
   "outputs": [
    {
     "data": {
      "text/plain": [
       "tensor([0.0000, 0.0000, 1.0000, 0.0000, 0.0000, 0.0000, 0.0000, 0.0000, 0.0000,\n",
       "        0.0000, 0.0000, 0.0000, 0.0000, 0.0000, 0.0000, 0.0000, 0.0000, 0.0000,\n",
       "        1.0000, 0.8281, 0.5409, 0.0529, 0.0192, 0.0000, 0.0000, 0.0000, 0.0000,\n",
       "        0.0000])"
      ]
     },
     "execution_count": 7,
     "metadata": {},
     "output_type": "execute_result"
    }
   ],
   "source": [
    "label[2][3] #first box"
   ]
  },
  {
   "cell_type": "code",
   "execution_count": null,
   "id": "8874c8d1",
   "metadata": {},
   "outputs": [
    {
     "data": {
      "text/plain": [
       "tensor([0.0000, 1.0000, 0.0000, 0.0000, 0.0000, 0.0000, 0.0000, 0.0000, 0.0000,\n",
       "        0.0000, 0.0000, 0.0000, 0.0000, 0.0000, 0.0000, 0.0000, 0.0000, 0.0000,\n",
       "        1.0000, 0.5757, 0.3990, 0.1971, 0.2668, 0.0000, 0.0000, 0.0000, 0.0000,\n",
       "        0.0000])"
      ]
     },
     "execution_count": 11,
     "metadata": {},
     "output_type": "execute_result"
    }
   ],
   "source": [
    "label[3][3] # second box"
   ]
  },
  {
   "cell_type": "code",
   "execution_count": null,
   "id": "9f93e9d4",
   "metadata": {},
   "outputs": [],
   "source": []
  }
 ],
 "metadata": {
  "kernelspec": {
   "display_name": "torch_env",
   "language": "python",
   "name": "python3"
  },
  "language_info": {
   "codemirror_mode": {
    "name": "ipython",
    "version": 3
   },
   "file_extension": ".py",
   "mimetype": "text/x-python",
   "name": "python",
   "nbconvert_exporter": "python",
   "pygments_lexer": "ipython3",
   "version": "3.11.11"
  }
 },
 "nbformat": 4,
 "nbformat_minor": 5
}
